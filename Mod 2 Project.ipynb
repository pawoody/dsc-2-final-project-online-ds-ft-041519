{
 "cells": [
  {
   "cell_type": "markdown",
   "metadata": {},
   "source": [
    "## Assignment\n",
    "\n",
    "*Cell contents will be deleted prior to final submission:*\n",
    "\n",
    "Do discounts have a statistically significant effect on the number of products customers order? If so, at what level(s) of discount?\n",
    "\n",
    "In addition to answering this question with a hypothesis test, you will also need to come up with at least 3 other hypotheses to test on your own. These can by anything that you think could be imporant information for the company.\n",
    "\n",
    "For this hypothesis, be sure to specify both the null hypothesis and the alternative hypothesis for your question. You should also specify if this is one-tail or a two-tail test.\n",
    "\n",
    "To complete this project, you will need to turn in the following 3 deliverables:\n",
    "\n",
    "A Jupyter Notebook containing any code you've written for this project.\n",
    "A Blog Post explaining your process, methodology, and findings.\n",
    "An \"Executive Summary\" PowerPoint Presentation that explains the hypothesis tests you ran, your findings, and their relevance to company stakeholders.\n",
    "Jupyter Notebook Must-Haves\n",
    "For this project, your jupyter notebook should meet the following specifications:\n",
    "\n",
    "Organization/Code Cleanliness\n",
    "\n",
    "The notebook should be well organized, easy to follow, and code is commented where appropriate.\n",
    "\n",
    "Level Up: The notebook contains well-formatted, professional looking markdown cells explaining any substantial code. All functions have docstrings that act as professional-quality documentation.\n",
    "\n",
    "The notebook is written to technical audiences with a way to both understand your approach and reproduce your results. The target audience for this deliverable is other data scientists looking to validate your findings.\n",
    "\n",
    "Any SQL code written to source data should also be included.\n",
    "Findings\n",
    "\n",
    "Your notebook should clearly show how you arrived at your results for each hypothesis test, including how you calculated your p-values.\n",
    "\n",
    "You should also include any other statistics that you find relevant to your analysis, such as effect size."
   ]
  },
  {
   "cell_type": "markdown",
   "metadata": {},
   "source": [
    "# Northwind Co: Company Sales Analysis\n",
    "\n",
    "## Flatiron Module 2 Project:"
   ]
  },
  {
   "cell_type": "markdown",
   "metadata": {},
   "source": [
    "Testing to see how these appear on GitHub, will delete one:\n",
    "\n",
    "![Paul](Paul.jpeg)\n",
    "\n",
    "\n",
    "<img src = \"Paul.jpeg\" align=\"left\"/>"
   ]
  },
  {
   "cell_type": "markdown",
   "metadata": {},
   "source": [
    "Paul Woody"
   ]
  },
  {
   "cell_type": "markdown",
   "metadata": {},
   "source": [
    "### Project Overview:\n",
    "For this project, we'll be exploring the data provided by our client containing companywide sales data for a range of products.  Our goal is to derive the significance of discounts on overall sales as well as to provide the client with additional business recommendations to bolster company sales. \n",
    "\n",
    "To complete our analysis, we will follow the OSEMN Data Science process as outlined [here](http://www.dataists.com/tag/osemn/).\n",
    "\n",
    "![OSEMN PROCESS](Data-Science_OSEMN-Framework.png)\n",
    "[Credit](https://www.thelead.io/data-science/5-steps-to-a-data-science-project-lifecycle)\n",
    "\n",
    "**1. Obtain Data**\n",
    "    - Load dataset provided by client\n",
    "**2. Pre-Process/Scrub Data**\n",
    "    - Ensure that missing values are handled appropriately\n",
    "    - Ensure that all data is cast to the correct dtype, and that any non-sensical datapoints are scrubbed or dropped from our dataset.\n",
    "**3. Explore Data**\n",
    "    - Cluster, visualize, and view correlations between features in the dataset \n",
    "    - Identify the aims of the project in the form of clearly articulated business questions\n",
    "**4. Hypothesis Testing**\n",
    "    - Utilize hypothesis testing to evaluate the results questions posed in the data exploration phase.\n",
    "    - Utilize various statistical methodologies to evaluate significace of results\n",
    "**5. Interpret, Review Results**\n",
    "    - Using the results of hypothesis/significance testing, evaluate the business questions posed in Step 3\n",
    "    - Articulate business recommendations based on the results of testing at appropriate confidence intervals\n",
    "    - Identify potential improvements or factors that may skew the obtained results \n",
    "    - Identify suggested next steps for client"
   ]
  },
  {
   "cell_type": "markdown",
   "metadata": {},
   "source": [
    "# Paul's Notes: Rubric\n",
    "*Delete before final submission*\n",
    "\n",
    "#### 1: Pick a novel interesting problem at appropriate challenge level\n",
    "Business case constructed clearly. And answered an obvious question, like clearly articulated the business stakeholder requirements that the project aims to accomplish. Combine questions in unique ways like how do discounts affect product sales?\n",
    "\n",
    "For example, analyzed the dataset from the point of view of sales, business stakeholders, a startup that would use this business model, want to expand into new geographical regions, specialize in different product lines, etc.\n",
    "\n",
    "1. Do discounts have a statistically significant effect on the number of products customers order? If so, at what level(s) of discount?\n",
    "2. Do discounts have statistically significant effect on number of products customers order on a regional level? If so, which region(s) ...?\n",
    "3. Are discounts more effective on \"expensive\" products?\n",
    "4. Customer Demographics and Discounts\n",
    "5. Regions and efficacy of Discounts\n",
    "6. Season and discounts\n",
    "7. Does discount affect sales by product category?\n",
    "8. Does discount affect sales volume (PDF)\n",
    "\n",
    "#### 2: Preprocess Data:\n",
    "Import the data and preprocess the data that includes cleaning, scrubbing, handling missing values, etc.\n",
    "\n",
    "#### 3: Describe Data:\n",
    "Use EDA to create meaningful visualizations that describe your data. Plotting words to show cosine similarity, showing plots for class imbalance, etc.\n",
    "\n",
    "3 or more visualizations are present in the notebook and visualizations are relevant to the project in a technical or business sense.\n",
    "\n",
    "#### 4: Fit Model/Hypothesis Testing:\n",
    "Hypothesis Tests are ran correctly taking into account standard deviations and normality of distributions.\n",
    "\n",
    "Correct hypotheses tests are ran and are supported using analysis. The subsequent business decisions following the hypotheses are correctly identified, and articulated. Future work is explored.\n",
    "\n",
    "#### 5: Present to Technical Audience:\n",
    "Present work done to a technical audience with code, insights, summary, future work, and even a live demo. RECORDED.\n",
    "\n",
    "#### 6: Present to non-technical audience:\n",
    "Present work done to a non- technical(business focused) audience with problem statement, business value, methodology explained simply, business recommendations, summary, and future work.\n",
    "\n",
    "#### 7: Write Quality Code:\n",
    "Code is non-repetative and uses OOP when necessary to avoid reptition. Custom methods/classes contain docstrings to help the reader understand what is happening. Variables have names that are relevant to what they represent.\n",
    "\n",
    "Code follows pep-8 standards, contains docstrings/comments, does not repeat itself and uses custom classes methods for tasks."
   ]
  },
  {
   "cell_type": "code",
   "execution_count": null,
   "metadata": {},
   "outputs": [],
   "source": []
  },
  {
   "cell_type": "markdown",
   "metadata": {},
   "source": [
    "## 1. Obtain Data / Import Libraries"
   ]
  },
  {
   "cell_type": "code",
   "execution_count": 1,
   "metadata": {},
   "outputs": [],
   "source": [
    "# Importing Libraries to process/analyze data:\n",
    "import pandas as pd\n",
    "import sqlalchemy\n",
    "from sqlalchemy import create_engine\n",
    "from sqlalchemy.orm import Session, sessionmaker\n",
    "import numpy as np\n",
    "from sqlalchemy import MetaData\n",
    "from sqlalchemy.ext.automap import automap_base\n",
    "import matplotlib.pyplot as plt\n",
    "%matplotlib inline\n",
    "import seaborn as sns\n",
    "sns.set_style('whitegrid')\n",
    "import pprint\n",
    "from collections import Counter\n",
    "import itertools\n",
    "import scipy.stats as stats\n",
    "from scipy.stats import norm\n",
    "import statsmodels.api as sm\n",
    "from statsmodels.formula.api import ols\n",
    "#import warnings\n",
    "#warnings.filterwarnings(\"ignore\")"
   ]
  },
  {
   "cell_type": "markdown",
   "metadata": {},
   "source": [
    "#### Provided ERD for Northwind Co:\n",
    "![Northwind ERD](Northwind_ERD.png)"
   ]
  },
  {
   "cell_type": "code",
   "execution_count": 2,
   "metadata": {},
   "outputs": [],
   "source": [
    "# Creating engine and binding to target database:\n",
    "engine = create_engine(\"sqlite:///Northwind_small.sqlite\", echo=True)\n",
    "Session = sessionmaker(bind=engine)\n",
    "session = Session()"
   ]
  },
  {
   "cell_type": "code",
   "execution_count": 3,
   "metadata": {},
   "outputs": [
    {
     "name": "stdout",
     "output_type": "stream",
     "text": [
      "2019-06-16 18:43:24,495 INFO sqlalchemy.engine.base.Engine SELECT CAST('test plain returns' AS VARCHAR(60)) AS anon_1\n",
      "2019-06-16 18:43:24,496 INFO sqlalchemy.engine.base.Engine ()\n",
      "2019-06-16 18:43:24,498 INFO sqlalchemy.engine.base.Engine SELECT CAST('test unicode returns' AS VARCHAR(60)) AS anon_1\n",
      "2019-06-16 18:43:24,499 INFO sqlalchemy.engine.base.Engine ()\n",
      "2019-06-16 18:43:24,501 INFO sqlalchemy.engine.base.Engine SELECT name FROM sqlite_master WHERE type='table' ORDER BY name\n",
      "2019-06-16 18:43:24,501 INFO sqlalchemy.engine.base.Engine ()\n",
      "['Category',\n",
      " 'Customer',\n",
      " 'CustomerCustomerDemo',\n",
      " 'CustomerDemographic',\n",
      " 'Employee',\n",
      " 'EmployeeTerritory',\n",
      " 'Order',\n",
      " 'OrderDetail',\n",
      " 'Product',\n",
      " 'Region',\n",
      " 'Shipper',\n",
      " 'Supplier',\n",
      " 'Territory']\n"
     ]
    }
   ],
   "source": [
    "from sqlalchemy import inspect\n",
    "inspector = inspect(engine)\n",
    "\n",
    "# Viewing Table Names to compare with ERD:\n",
    "pprint.pprint(inspector.get_table_names())"
   ]
  },
  {
   "cell_type": "markdown",
   "metadata": {},
   "source": [
    "As demonstrated by the output of table names above, there are many discrepancies between the Table/Column names in the provided ERD and in the actual database. In order to successfully scrub/explore the dataset, we must first verify the table/column names in our database, as well as account for missing values and improperly stored dtypes."
   ]
  },
  {
   "cell_type": "code",
   "execution_count": 4,
   "metadata": {
    "scrolled": false
   },
   "outputs": [],
   "source": [
    "# Creating Function to give information for each column in a table:\n",
    "def get_column_info(table):\n",
    "    cols_list = inspector.get_columns(table)\n",
    "    print('')\n",
    "    print('------------------------------------------------------------------------')\n",
    "    print(f'Table Name: {table}, Primary Key: {inspector.get_primary_keys(table)}')\n",
    "    print('------------------------------------------------------------------------')\n",
    "    print('')\n",
    "    for column in cols_list:\n",
    "        print(f\"Column Name: {column['name']}, Column Type: {column['type']}\")"
   ]
  },
  {
   "cell_type": "code",
   "execution_count": 159,
   "metadata": {
    "scrolled": false
   },
   "outputs": [
    {
     "name": "stdout",
     "output_type": "stream",
     "text": [
      "\n",
      "------------------------------------------------------------------------\n",
      "Table Name: Category, Primary Key: ['Id']\n",
      "------------------------------------------------------------------------\n",
      "\n",
      "Column Name: Id, Column Type: INTEGER\n",
      "Column Name: CategoryName, Column Type: VARCHAR(8000)\n",
      "Column Name: Description, Column Type: VARCHAR(8000)\n",
      "None\n",
      "\n",
      "------------------------------------------------------------------------\n",
      "Table Name: Customer, Primary Key: ['Id']\n",
      "------------------------------------------------------------------------\n",
      "\n",
      "Column Name: Id, Column Type: VARCHAR(8000)\n",
      "Column Name: CompanyName, Column Type: VARCHAR(8000)\n",
      "Column Name: ContactName, Column Type: VARCHAR(8000)\n",
      "Column Name: ContactTitle, Column Type: VARCHAR(8000)\n",
      "Column Name: Address, Column Type: VARCHAR(8000)\n",
      "Column Name: City, Column Type: VARCHAR(8000)\n",
      "Column Name: Region, Column Type: VARCHAR(8000)\n",
      "Column Name: PostalCode, Column Type: VARCHAR(8000)\n",
      "Column Name: Country, Column Type: VARCHAR(8000)\n",
      "Column Name: Phone, Column Type: VARCHAR(8000)\n",
      "Column Name: Fax, Column Type: VARCHAR(8000)\n",
      "None\n",
      "\n",
      "------------------------------------------------------------------------\n",
      "Table Name: CustomerCustomerDemo, Primary Key: ['Id']\n",
      "------------------------------------------------------------------------\n",
      "\n",
      "Column Name: Id, Column Type: VARCHAR(8000)\n",
      "Column Name: CustomerTypeId, Column Type: VARCHAR(8000)\n",
      "None\n",
      "\n",
      "------------------------------------------------------------------------\n",
      "Table Name: CustomerDemographic, Primary Key: ['Id']\n",
      "------------------------------------------------------------------------\n",
      "\n",
      "Column Name: Id, Column Type: VARCHAR(8000)\n",
      "Column Name: CustomerDesc, Column Type: VARCHAR(8000)\n",
      "None\n",
      "\n",
      "------------------------------------------------------------------------\n",
      "Table Name: Employee, Primary Key: ['Id']\n",
      "------------------------------------------------------------------------\n",
      "\n",
      "Column Name: Id, Column Type: INTEGER\n",
      "Column Name: LastName, Column Type: VARCHAR(8000)\n",
      "Column Name: FirstName, Column Type: VARCHAR(8000)\n",
      "Column Name: Title, Column Type: VARCHAR(8000)\n",
      "Column Name: TitleOfCourtesy, Column Type: VARCHAR(8000)\n",
      "Column Name: BirthDate, Column Type: VARCHAR(8000)\n",
      "Column Name: HireDate, Column Type: VARCHAR(8000)\n",
      "Column Name: Address, Column Type: VARCHAR(8000)\n",
      "Column Name: City, Column Type: VARCHAR(8000)\n",
      "Column Name: Region, Column Type: VARCHAR(8000)\n",
      "Column Name: PostalCode, Column Type: VARCHAR(8000)\n",
      "Column Name: Country, Column Type: VARCHAR(8000)\n",
      "Column Name: HomePhone, Column Type: VARCHAR(8000)\n",
      "Column Name: Extension, Column Type: VARCHAR(8000)\n",
      "Column Name: Photo, Column Type: BLOB\n",
      "Column Name: Notes, Column Type: VARCHAR(8000)\n",
      "Column Name: ReportsTo, Column Type: INTEGER\n",
      "Column Name: PhotoPath, Column Type: VARCHAR(8000)\n",
      "None\n",
      "\n",
      "------------------------------------------------------------------------\n",
      "Table Name: EmployeeTerritory, Primary Key: ['Id']\n",
      "------------------------------------------------------------------------\n",
      "\n",
      "Column Name: Id, Column Type: VARCHAR(8000)\n",
      "Column Name: EmployeeId, Column Type: INTEGER\n",
      "Column Name: TerritoryId, Column Type: VARCHAR(8000)\n",
      "None\n",
      "\n",
      "------------------------------------------------------------------------\n",
      "Table Name: Order, Primary Key: ['Id']\n",
      "------------------------------------------------------------------------\n",
      "\n",
      "Column Name: Id, Column Type: INTEGER\n",
      "Column Name: CustomerId, Column Type: VARCHAR(8000)\n",
      "Column Name: EmployeeId, Column Type: INTEGER\n",
      "Column Name: OrderDate, Column Type: VARCHAR(8000)\n",
      "Column Name: RequiredDate, Column Type: VARCHAR(8000)\n",
      "Column Name: ShippedDate, Column Type: VARCHAR(8000)\n",
      "Column Name: ShipVia, Column Type: INTEGER\n",
      "Column Name: Freight, Column Type: DECIMAL\n",
      "Column Name: ShipName, Column Type: VARCHAR(8000)\n",
      "Column Name: ShipAddress, Column Type: VARCHAR(8000)\n",
      "Column Name: ShipCity, Column Type: VARCHAR(8000)\n",
      "Column Name: ShipRegion, Column Type: VARCHAR(8000)\n",
      "Column Name: ShipPostalCode, Column Type: VARCHAR(8000)\n",
      "Column Name: ShipCountry, Column Type: VARCHAR(8000)\n",
      "None\n",
      "\n",
      "------------------------------------------------------------------------\n",
      "Table Name: OrderDetail, Primary Key: ['Id']\n",
      "------------------------------------------------------------------------\n",
      "\n",
      "Column Name: Id, Column Type: VARCHAR(8000)\n",
      "Column Name: OrderId, Column Type: INTEGER\n",
      "Column Name: ProductId, Column Type: INTEGER\n",
      "Column Name: UnitPrice, Column Type: DECIMAL\n",
      "Column Name: Quantity, Column Type: INTEGER\n",
      "Column Name: Discount, Column Type: FLOAT\n",
      "None\n",
      "\n",
      "------------------------------------------------------------------------\n",
      "Table Name: Product, Primary Key: ['Id']\n",
      "------------------------------------------------------------------------\n",
      "\n",
      "Column Name: Id, Column Type: INTEGER\n",
      "Column Name: ProductName, Column Type: VARCHAR(8000)\n",
      "Column Name: SupplierId, Column Type: INTEGER\n",
      "Column Name: CategoryId, Column Type: INTEGER\n",
      "Column Name: QuantityPerUnit, Column Type: VARCHAR(8000)\n",
      "Column Name: UnitPrice, Column Type: DECIMAL\n",
      "Column Name: UnitsInStock, Column Type: INTEGER\n",
      "Column Name: UnitsOnOrder, Column Type: INTEGER\n",
      "Column Name: ReorderLevel, Column Type: INTEGER\n",
      "Column Name: Discontinued, Column Type: INTEGER\n",
      "None\n",
      "\n",
      "------------------------------------------------------------------------\n",
      "Table Name: Region, Primary Key: ['Id']\n",
      "------------------------------------------------------------------------\n",
      "\n",
      "Column Name: Id, Column Type: INTEGER\n",
      "Column Name: RegionDescription, Column Type: VARCHAR(8000)\n",
      "None\n",
      "\n",
      "------------------------------------------------------------------------\n",
      "Table Name: Shipper, Primary Key: ['Id']\n",
      "------------------------------------------------------------------------\n",
      "\n",
      "Column Name: Id, Column Type: INTEGER\n",
      "Column Name: CompanyName, Column Type: VARCHAR(8000)\n",
      "Column Name: Phone, Column Type: VARCHAR(8000)\n",
      "None\n",
      "\n",
      "------------------------------------------------------------------------\n",
      "Table Name: Supplier, Primary Key: ['Id']\n",
      "------------------------------------------------------------------------\n",
      "\n",
      "Column Name: Id, Column Type: INTEGER\n",
      "Column Name: CompanyName, Column Type: VARCHAR(8000)\n",
      "Column Name: ContactName, Column Type: VARCHAR(8000)\n",
      "Column Name: ContactTitle, Column Type: VARCHAR(8000)\n",
      "Column Name: Address, Column Type: VARCHAR(8000)\n",
      "Column Name: City, Column Type: VARCHAR(8000)\n",
      "Column Name: Region, Column Type: VARCHAR(8000)\n",
      "Column Name: PostalCode, Column Type: VARCHAR(8000)\n",
      "Column Name: Country, Column Type: VARCHAR(8000)\n",
      "Column Name: Phone, Column Type: VARCHAR(8000)\n",
      "Column Name: Fax, Column Type: VARCHAR(8000)\n",
      "Column Name: HomePage, Column Type: VARCHAR(8000)\n",
      "None\n",
      "\n",
      "------------------------------------------------------------------------\n",
      "Table Name: Territory, Primary Key: ['Id']\n",
      "------------------------------------------------------------------------\n",
      "\n",
      "Column Name: Id, Column Type: VARCHAR(8000)\n",
      "Column Name: TerritoryDescription, Column Type: VARCHAR(8000)\n",
      "Column Name: RegionId, Column Type: INTEGER\n",
      "None\n"
     ]
    }
   ],
   "source": [
    "# Using above function to iterate over all tables:\n",
    "tables = inspector.get_table_names()\n",
    "for table in tables:\n",
    "    print(get_column_info(table))"
   ]
  },
  {
   "cell_type": "code",
   "execution_count": 6,
   "metadata": {},
   "outputs": [],
   "source": [
    "table_list = ['Category',\n",
    " 'Customer',\n",
    " 'CustomerCustomerDemo',\n",
    " 'CustomerDemographic',\n",
    " 'Employee',\n",
    " 'EmployeeTerritory',\n",
    " 'Order',\n",
    " 'OrderDetail',\n",
    " 'Product',\n",
    " 'Region',\n",
    " 'Shipper',\n",
    " 'Supplier',\n",
    " 'Territory']"
   ]
  },
  {
   "cell_type": "code",
   "execution_count": 7,
   "metadata": {},
   "outputs": [
    {
     "data": {
      "text/plain": [
       "'\\nfor table in table_list:\\n    df_[table] = pd.read_sql_query(\"SELECT * FROM df_[table]\", engine)\\n    print(df_[table])\\n'"
      ]
     },
     "execution_count": 7,
     "metadata": {},
     "output_type": "execute_result"
    }
   ],
   "source": [
    "'''\n",
    "for table in table_list:\n",
    "    df_[table] = pd.read_sql_query(\"SELECT * FROM df_[table]\", engine)\n",
    "    print(df_[table])\n",
    "'''"
   ]
  },
  {
   "cell_type": "code",
   "execution_count": 8,
   "metadata": {},
   "outputs": [
    {
     "name": "stdout",
     "output_type": "stream",
     "text": [
      "2019-06-16 18:43:24,616 INFO sqlalchemy.engine.base.Engine SELECT * FROM Category\n",
      "2019-06-16 18:43:24,617 INFO sqlalchemy.engine.base.Engine ()\n",
      "2019-06-16 18:43:24,621 INFO sqlalchemy.engine.base.Engine SELECT * FROM Customer\n",
      "2019-06-16 18:43:24,621 INFO sqlalchemy.engine.base.Engine ()\n",
      "2019-06-16 18:43:24,625 INFO sqlalchemy.engine.base.Engine SELECT * FROM CustomerCustomerDemo\n",
      "2019-06-16 18:43:24,626 INFO sqlalchemy.engine.base.Engine ()\n",
      "2019-06-16 18:43:24,629 INFO sqlalchemy.engine.base.Engine SELECT * FROM CustomerDemographic\n",
      "2019-06-16 18:43:24,630 INFO sqlalchemy.engine.base.Engine ()\n",
      "2019-06-16 18:43:24,633 INFO sqlalchemy.engine.base.Engine SELECT * FROM Employee\n",
      "2019-06-16 18:43:24,634 INFO sqlalchemy.engine.base.Engine ()\n",
      "2019-06-16 18:43:24,639 INFO sqlalchemy.engine.base.Engine SELECT * FROM EmployeeTerritory\n",
      "2019-06-16 18:43:24,639 INFO sqlalchemy.engine.base.Engine ()\n",
      "2019-06-16 18:43:24,642 INFO sqlalchemy.engine.base.Engine SELECT * FROM 'Order'\n",
      "2019-06-16 18:43:24,642 INFO sqlalchemy.engine.base.Engine ()\n",
      "2019-06-16 18:43:24,653 INFO sqlalchemy.engine.base.Engine SELECT * FROM OrderDetail\n",
      "2019-06-16 18:43:24,653 INFO sqlalchemy.engine.base.Engine ()\n",
      "2019-06-16 18:43:24,664 INFO sqlalchemy.engine.base.Engine SELECT * FROM Product\n",
      "2019-06-16 18:43:24,665 INFO sqlalchemy.engine.base.Engine ()\n",
      "2019-06-16 18:43:24,669 INFO sqlalchemy.engine.base.Engine SELECT * FROM Region\n",
      "2019-06-16 18:43:24,670 INFO sqlalchemy.engine.base.Engine ()\n",
      "2019-06-16 18:43:24,673 INFO sqlalchemy.engine.base.Engine SELECT * FROM Shipper\n",
      "2019-06-16 18:43:24,673 INFO sqlalchemy.engine.base.Engine ()\n",
      "2019-06-16 18:43:24,676 INFO sqlalchemy.engine.base.Engine SELECT * FROM Supplier\n",
      "2019-06-16 18:43:24,677 INFO sqlalchemy.engine.base.Engine ()\n",
      "2019-06-16 18:43:24,681 INFO sqlalchemy.engine.base.Engine SELECT * FROM Territory\n",
      "2019-06-16 18:43:24,682 INFO sqlalchemy.engine.base.Engine ()\n"
     ]
    }
   ],
   "source": [
    "# Creating DataFrames for each table in the Northwind Database:\n",
    "df_category = pd.read_sql_query(\"SELECT * FROM Category\", engine)\n",
    "df_customer = pd.read_sql_query(\"SELECT * FROM Customer\", engine)\n",
    "df_customercustomerdemo = pd.read_sql_query(\"SELECT * FROM CustomerCustomerDemo\", engine)\n",
    "df_customerdemographic = pd.read_sql_query(\"SELECT * FROM CustomerDemographic\", engine)\n",
    "df_employee = pd.read_sql_query(\"SELECT * FROM Employee\", engine)\n",
    "df_employeeterritory = pd.read_sql_query(\"SELECT * FROM EmployeeTerritory\", engine)\n",
    "df_order = pd.read_sql_query(\"SELECT * FROM 'Order'\", engine)\n",
    "df_orderdetail = pd.read_sql_query(\"SELECT * FROM OrderDetail\", engine)\n",
    "df_product = pd.read_sql_query(\"SELECT * FROM Product\", engine)\n",
    "df_region = pd.read_sql_query(\"SELECT * FROM Region\", engine)\n",
    "df_shipper = pd.read_sql_query(\"SELECT * FROM Shipper\", engine)\n",
    "df_supplier = pd.read_sql_query(\"SELECT * FROM Supplier\", engine)\n",
    "df_territory = pd.read_sql_query(\"SELECT * FROM Territory\", engine)"
   ]
  },
  {
   "cell_type": "code",
   "execution_count": 9,
   "metadata": {},
   "outputs": [
    {
     "name": "stdout",
     "output_type": "stream",
     "text": [
      "\n",
      "-------------------------------------------------\n",
      "\n",
      "Reviewing Length of Tables, Stored as DataFrames: \n",
      "\n",
      "-------------------------------------------------\n",
      "\n",
      "Category DF Len: 8\n",
      "-------------------------------\n",
      "Customer DF Len: 91\n",
      "-------------------------------\n",
      "CustomerCustomerDemo DF Len: 0\n",
      "-------------------------------\n",
      "CustomerDemographic DF Len: 0\n",
      "-------------------------------\n",
      "Employee DF Len: 9\n",
      "-------------------------------\n",
      "EmployeeTerritory DF Len: 49\n",
      "-------------------------------\n",
      "Order DF Len: 830\n",
      "-------------------------------\n",
      "OrderDetail DF Len: 2155\n",
      "-------------------------------\n",
      "Product DF Len: 77\n",
      "-------------------------------\n",
      "Region DF Len: 4\n",
      "-------------------------------\n",
      "Shipper DF Len: 3\n",
      "-------------------------------\n",
      "Supplier DF Len: 29\n",
      "-------------------------------\n",
      "Territory DF Len: 53\n"
     ]
    }
   ],
   "source": [
    "# Reviewing the length of each table:\n",
    "linespacer = '-------------------------------'\n",
    "print('')\n",
    "print(linespacer+'------------------')\n",
    "print('')\n",
    "print('Reviewing Length of Tables, Stored as DataFrames: ')\n",
    "print('')\n",
    "print(linespacer+'------------------')\n",
    "print('')\n",
    "print(f'Category DF Len: {len(df_category)}')\n",
    "print(linespacer)\n",
    "print(f'Customer DF Len: {len(df_customer)}')\n",
    "print(linespacer)\n",
    "print(f'CustomerCustomerDemo DF Len: {len(df_customercustomerdemo)}')\n",
    "print(linespacer)\n",
    "print(f'CustomerDemographic DF Len: {len(df_customerdemographic)}')\n",
    "print(linespacer)\n",
    "print(f'Employee DF Len: {len(df_employee)}')\n",
    "print(linespacer)\n",
    "print(f'EmployeeTerritory DF Len: {len(df_employeeterritory)}')\n",
    "print(linespacer)\n",
    "print(f'Order DF Len: {len(df_order)}')\n",
    "print(linespacer)\n",
    "print(f'OrderDetail DF Len: {len(df_orderdetail)}')\n",
    "print(linespacer)\n",
    "print(f'Product DF Len: {len(df_product)}')\n",
    "print(linespacer)\n",
    "print(f'Region DF Len: {len(df_region)}')\n",
    "print(linespacer)\n",
    "print(f'Shipper DF Len: {len(df_shipper)}')\n",
    "print(linespacer)\n",
    "print(f'Supplier DF Len: {len(df_supplier)}')\n",
    "print(linespacer)\n",
    "print(f'Territory DF Len: {len(df_territory)}')"
   ]
  },
  {
   "cell_type": "markdown",
   "metadata": {},
   "source": [
    "## 2. Pre-Process/Scrub Data"
   ]
  },
  {
   "cell_type": "markdown",
   "metadata": {},
   "source": [
    "#### Category Table Scrubbing:"
   ]
  },
  {
   "cell_type": "code",
   "execution_count": 10,
   "metadata": {
    "scrolled": true
   },
   "outputs": [
    {
     "data": {
      "text/html": [
       "<div>\n",
       "<style scoped>\n",
       "    .dataframe tbody tr th:only-of-type {\n",
       "        vertical-align: middle;\n",
       "    }\n",
       "\n",
       "    .dataframe tbody tr th {\n",
       "        vertical-align: top;\n",
       "    }\n",
       "\n",
       "    .dataframe thead th {\n",
       "        text-align: right;\n",
       "    }\n",
       "</style>\n",
       "<table border=\"1\" class=\"dataframe\">\n",
       "  <thead>\n",
       "    <tr style=\"text-align: right;\">\n",
       "      <th></th>\n",
       "      <th>Id</th>\n",
       "      <th>CategoryName</th>\n",
       "      <th>Description</th>\n",
       "    </tr>\n",
       "  </thead>\n",
       "  <tbody>\n",
       "    <tr>\n",
       "      <th>0</th>\n",
       "      <td>1</td>\n",
       "      <td>Beverages</td>\n",
       "      <td>Soft drinks, coffees, teas, beers, and ales</td>\n",
       "    </tr>\n",
       "    <tr>\n",
       "      <th>1</th>\n",
       "      <td>2</td>\n",
       "      <td>Condiments</td>\n",
       "      <td>Sweet and savory sauces, relishes, spreads, an...</td>\n",
       "    </tr>\n",
       "    <tr>\n",
       "      <th>2</th>\n",
       "      <td>3</td>\n",
       "      <td>Confections</td>\n",
       "      <td>Desserts, candies, and sweet breads</td>\n",
       "    </tr>\n",
       "  </tbody>\n",
       "</table>\n",
       "</div>"
      ],
      "text/plain": [
       "   Id CategoryName                                        Description\n",
       "0   1    Beverages        Soft drinks, coffees, teas, beers, and ales\n",
       "1   2   Condiments  Sweet and savory sauces, relishes, spreads, an...\n",
       "2   3  Confections                Desserts, candies, and sweet breads"
      ]
     },
     "execution_count": 10,
     "metadata": {},
     "output_type": "execute_result"
    }
   ],
   "source": [
    "# Viewing Category Table:\n",
    "df_category.head(3)"
   ]
  },
  {
   "cell_type": "code",
   "execution_count": 11,
   "metadata": {
    "scrolled": false
   },
   "outputs": [
    {
     "name": "stdout",
     "output_type": "stream",
     "text": [
      "<class 'pandas.core.frame.DataFrame'>\n",
      "RangeIndex: 8 entries, 0 to 7\n",
      "Data columns (total 3 columns):\n",
      "Id              8 non-null int64\n",
      "CategoryName    8 non-null object\n",
      "Description     8 non-null object\n",
      "dtypes: int64(1), object(2)\n",
      "memory usage: 272.0+ bytes\n",
      "None\n"
     ]
    }
   ],
   "source": [
    "print(df_category.info())"
   ]
  },
  {
   "cell_type": "code",
   "execution_count": 12,
   "metadata": {
    "scrolled": true
   },
   "outputs": [
    {
     "data": {
      "text/plain": [
       "Id              0\n",
       "CategoryName    0\n",
       "Description     0\n",
       "dtype: int64"
      ]
     },
     "execution_count": 12,
     "metadata": {},
     "output_type": "execute_result"
    }
   ],
   "source": [
    "df_category.isna().sum()"
   ]
  },
  {
   "cell_type": "code",
   "execution_count": 13,
   "metadata": {},
   "outputs": [
    {
     "data": {
      "text/plain": [
       "array(['Beverages', 'Condiments', 'Confections', 'Dairy Products',\n",
       "       'Grains/Cereals', 'Meat/Poultry', 'Produce', 'Seafood'],\n",
       "      dtype=object)"
      ]
     },
     "execution_count": 13,
     "metadata": {},
     "output_type": "execute_result"
    }
   ],
   "source": [
    "df_category.CategoryName.unique()"
   ]
  },
  {
   "cell_type": "markdown",
   "metadata": {},
   "source": [
    "#### Customer Table Scrubbing:"
   ]
  },
  {
   "cell_type": "code",
   "execution_count": 14,
   "metadata": {},
   "outputs": [
    {
     "data": {
      "text/html": [
       "<div>\n",
       "<style scoped>\n",
       "    .dataframe tbody tr th:only-of-type {\n",
       "        vertical-align: middle;\n",
       "    }\n",
       "\n",
       "    .dataframe tbody tr th {\n",
       "        vertical-align: top;\n",
       "    }\n",
       "\n",
       "    .dataframe thead th {\n",
       "        text-align: right;\n",
       "    }\n",
       "</style>\n",
       "<table border=\"1\" class=\"dataframe\">\n",
       "  <thead>\n",
       "    <tr style=\"text-align: right;\">\n",
       "      <th></th>\n",
       "      <th>Id</th>\n",
       "      <th>CompanyName</th>\n",
       "      <th>ContactName</th>\n",
       "      <th>ContactTitle</th>\n",
       "      <th>Address</th>\n",
       "      <th>City</th>\n",
       "      <th>Region</th>\n",
       "      <th>PostalCode</th>\n",
       "      <th>Country</th>\n",
       "      <th>Phone</th>\n",
       "      <th>Fax</th>\n",
       "    </tr>\n",
       "  </thead>\n",
       "  <tbody>\n",
       "    <tr>\n",
       "      <th>0</th>\n",
       "      <td>ALFKI</td>\n",
       "      <td>Alfreds Futterkiste</td>\n",
       "      <td>Maria Anders</td>\n",
       "      <td>Sales Representative</td>\n",
       "      <td>Obere Str. 57</td>\n",
       "      <td>Berlin</td>\n",
       "      <td>Western Europe</td>\n",
       "      <td>12209</td>\n",
       "      <td>Germany</td>\n",
       "      <td>030-0074321</td>\n",
       "      <td>030-0076545</td>\n",
       "    </tr>\n",
       "    <tr>\n",
       "      <th>1</th>\n",
       "      <td>ANATR</td>\n",
       "      <td>Ana Trujillo Emparedados y helados</td>\n",
       "      <td>Ana Trujillo</td>\n",
       "      <td>Owner</td>\n",
       "      <td>Avda. de la Constitución 2222</td>\n",
       "      <td>México D.F.</td>\n",
       "      <td>Central America</td>\n",
       "      <td>05021</td>\n",
       "      <td>Mexico</td>\n",
       "      <td>(5) 555-4729</td>\n",
       "      <td>(5) 555-3745</td>\n",
       "    </tr>\n",
       "    <tr>\n",
       "      <th>2</th>\n",
       "      <td>ANTON</td>\n",
       "      <td>Antonio Moreno Taquería</td>\n",
       "      <td>Antonio Moreno</td>\n",
       "      <td>Owner</td>\n",
       "      <td>Mataderos  2312</td>\n",
       "      <td>México D.F.</td>\n",
       "      <td>Central America</td>\n",
       "      <td>05023</td>\n",
       "      <td>Mexico</td>\n",
       "      <td>(5) 555-3932</td>\n",
       "      <td>None</td>\n",
       "    </tr>\n",
       "  </tbody>\n",
       "</table>\n",
       "</div>"
      ],
      "text/plain": [
       "      Id                         CompanyName     ContactName  \\\n",
       "0  ALFKI                 Alfreds Futterkiste    Maria Anders   \n",
       "1  ANATR  Ana Trujillo Emparedados y helados    Ana Trujillo   \n",
       "2  ANTON             Antonio Moreno Taquería  Antonio Moreno   \n",
       "\n",
       "           ContactTitle                        Address         City  \\\n",
       "0  Sales Representative                  Obere Str. 57       Berlin   \n",
       "1                 Owner  Avda. de la Constitución 2222  México D.F.   \n",
       "2                 Owner                Mataderos  2312  México D.F.   \n",
       "\n",
       "            Region PostalCode  Country         Phone           Fax  \n",
       "0   Western Europe      12209  Germany   030-0074321   030-0076545  \n",
       "1  Central America      05021   Mexico  (5) 555-4729  (5) 555-3745  \n",
       "2  Central America      05023   Mexico  (5) 555-3932          None  "
      ]
     },
     "execution_count": 14,
     "metadata": {},
     "output_type": "execute_result"
    }
   ],
   "source": [
    "# Viewing Customer DataFrame:\n",
    "df_customer.head(3)"
   ]
  },
  {
   "cell_type": "code",
   "execution_count": 15,
   "metadata": {
    "scrolled": false
   },
   "outputs": [
    {
     "name": "stdout",
     "output_type": "stream",
     "text": [
      "<class 'pandas.core.frame.DataFrame'>\n",
      "RangeIndex: 91 entries, 0 to 90\n",
      "Data columns (total 11 columns):\n",
      "Id              91 non-null object\n",
      "CompanyName     91 non-null object\n",
      "ContactName     91 non-null object\n",
      "ContactTitle    91 non-null object\n",
      "Address         91 non-null object\n",
      "City            91 non-null object\n",
      "Region          91 non-null object\n",
      "PostalCode      90 non-null object\n",
      "Country         91 non-null object\n",
      "Phone           91 non-null object\n",
      "Fax             69 non-null object\n",
      "dtypes: object(11)\n",
      "memory usage: 7.9+ KB\n",
      "None\n"
     ]
    }
   ],
   "source": [
    "# Determining Presence of null values:\n",
    "print(df_customer.info())"
   ]
  },
  {
   "cell_type": "code",
   "execution_count": 16,
   "metadata": {},
   "outputs": [
    {
     "data": {
      "text/html": [
       "<div>\n",
       "<style scoped>\n",
       "    .dataframe tbody tr th:only-of-type {\n",
       "        vertical-align: middle;\n",
       "    }\n",
       "\n",
       "    .dataframe tbody tr th {\n",
       "        vertical-align: top;\n",
       "    }\n",
       "\n",
       "    .dataframe thead th {\n",
       "        text-align: right;\n",
       "    }\n",
       "</style>\n",
       "<table border=\"1\" class=\"dataframe\">\n",
       "  <thead>\n",
       "    <tr style=\"text-align: right;\">\n",
       "      <th></th>\n",
       "      <th>Id</th>\n",
       "      <th>CompanyName</th>\n",
       "      <th>ContactName</th>\n",
       "      <th>ContactTitle</th>\n",
       "      <th>Address</th>\n",
       "      <th>City</th>\n",
       "      <th>Region</th>\n",
       "      <th>PostalCode</th>\n",
       "      <th>Country</th>\n",
       "      <th>Phone</th>\n",
       "      <th>Fax</th>\n",
       "    </tr>\n",
       "  </thead>\n",
       "  <tbody>\n",
       "    <tr>\n",
       "      <th>0</th>\n",
       "      <td>ALFKI</td>\n",
       "      <td>Alfreds Futterkiste</td>\n",
       "      <td>Maria Anders</td>\n",
       "      <td>Sales Representative</td>\n",
       "      <td>Obere Str. 57</td>\n",
       "      <td>Berlin</td>\n",
       "      <td>Western Europe</td>\n",
       "      <td>12209</td>\n",
       "      <td>Germany</td>\n",
       "      <td>030-0074321</td>\n",
       "      <td>030-0076545</td>\n",
       "    </tr>\n",
       "    <tr>\n",
       "      <th>1</th>\n",
       "      <td>ANATR</td>\n",
       "      <td>Ana Trujillo Emparedados y helados</td>\n",
       "      <td>Ana Trujillo</td>\n",
       "      <td>Owner</td>\n",
       "      <td>Avda. de la Constitución 2222</td>\n",
       "      <td>México D.F.</td>\n",
       "      <td>Central America</td>\n",
       "      <td>05021</td>\n",
       "      <td>Mexico</td>\n",
       "      <td>(5) 555-4729</td>\n",
       "      <td>(5) 555-3745</td>\n",
       "    </tr>\n",
       "    <tr>\n",
       "      <th>2</th>\n",
       "      <td>ANTON</td>\n",
       "      <td>Antonio Moreno Taquería</td>\n",
       "      <td>Antonio Moreno</td>\n",
       "      <td>Owner</td>\n",
       "      <td>Mataderos  2312</td>\n",
       "      <td>México D.F.</td>\n",
       "      <td>Central America</td>\n",
       "      <td>05023</td>\n",
       "      <td>Mexico</td>\n",
       "      <td>(5) 555-3932</td>\n",
       "      <td>None</td>\n",
       "    </tr>\n",
       "  </tbody>\n",
       "</table>\n",
       "</div>"
      ],
      "text/plain": [
       "      Id                         CompanyName     ContactName  \\\n",
       "0  ALFKI                 Alfreds Futterkiste    Maria Anders   \n",
       "1  ANATR  Ana Trujillo Emparedados y helados    Ana Trujillo   \n",
       "2  ANTON             Antonio Moreno Taquería  Antonio Moreno   \n",
       "\n",
       "           ContactTitle                        Address         City  \\\n",
       "0  Sales Representative                  Obere Str. 57       Berlin   \n",
       "1                 Owner  Avda. de la Constitución 2222  México D.F.   \n",
       "2                 Owner                Mataderos  2312  México D.F.   \n",
       "\n",
       "            Region PostalCode  Country         Phone           Fax  \n",
       "0   Western Europe      12209  Germany   030-0074321   030-0076545  \n",
       "1  Central America      05021   Mexico  (5) 555-4729  (5) 555-3745  \n",
       "2  Central America      05023   Mexico  (5) 555-3932          None  "
      ]
     },
     "execution_count": 16,
     "metadata": {},
     "output_type": "execute_result"
    }
   ],
   "source": [
    "df_customer.head(3)"
   ]
  },
  {
   "cell_type": "code",
   "execution_count": 17,
   "metadata": {},
   "outputs": [],
   "source": [
    "# Dropping the 'Fax' column:\n",
    "df_customer.drop(['Fax'], axis=1, inplace=True)"
   ]
  },
  {
   "cell_type": "code",
   "execution_count": 18,
   "metadata": {
    "scrolled": true
   },
   "outputs": [],
   "source": [
    "# Replacing missing values:\n",
    "df_customer.PostalCode.fillna('0', inplace=True)"
   ]
  },
  {
   "cell_type": "code",
   "execution_count": 19,
   "metadata": {
    "scrolled": true
   },
   "outputs": [
    {
     "name": "stdout",
     "output_type": "stream",
     "text": [
      "<class 'pandas.core.frame.DataFrame'>\n",
      "RangeIndex: 91 entries, 0 to 90\n",
      "Data columns (total 10 columns):\n",
      "Id              91 non-null object\n",
      "CompanyName     91 non-null object\n",
      "ContactName     91 non-null object\n",
      "ContactTitle    91 non-null object\n",
      "Address         91 non-null object\n",
      "City            91 non-null object\n",
      "Region          91 non-null object\n",
      "PostalCode      91 non-null object\n",
      "Country         91 non-null object\n",
      "Phone           91 non-null object\n",
      "dtypes: object(10)\n",
      "memory usage: 7.2+ KB\n"
     ]
    }
   ],
   "source": [
    "# Re-reviewing Customer DataFrame:\n",
    "df_customer.info()"
   ]
  },
  {
   "cell_type": "code",
   "execution_count": 20,
   "metadata": {},
   "outputs": [
    {
     "data": {
      "text/plain": [
       "array(['Sales Representative', 'Owner', 'Order Administrator',\n",
       "       'Marketing Manager', 'Accounting Manager', 'Sales Agent',\n",
       "       'Sales Associate', 'Sales Manager', 'Marketing Assistant',\n",
       "       'Assistant Sales Agent', 'Assistant Sales Representative',\n",
       "       'Owner/Marketing Assistant'], dtype=object)"
      ]
     },
     "execution_count": 20,
     "metadata": {},
     "output_type": "execute_result"
    }
   ],
   "source": [
    "# Viewing Unique Values for ContactTitle:\n",
    "df_customer.ContactTitle.unique()\n",
    "# We can consider exploring purchasing trends between department or seniority within a company:"
   ]
  },
  {
   "cell_type": "code",
   "execution_count": 21,
   "metadata": {
    "scrolled": true
   },
   "outputs": [
    {
     "name": "stdout",
     "output_type": "stream",
     "text": [
      "Region column unique values: \n",
      "['Western Europe' 'Central America' 'British Isles' 'Northern Europe'\n",
      " 'Southern Europe' 'North America' 'South America' 'Scandinavia'\n",
      " 'Eastern Europe']\n",
      "\n",
      "Region column unique value counts: \n",
      "[28 16 10  8  5  4  3  1]\n"
     ]
    }
   ],
   "source": [
    "# Viewing Unique Values for Region:\n",
    "print(f'Region column unique values: \\n{df_customer.Region.unique()}\\n')\n",
    "\n",
    "print(f'Region column unique value counts: \\n{df_customer.Region.value_counts().unique()}')"
   ]
  },
  {
   "cell_type": "markdown",
   "metadata": {},
   "source": [
    "We might consider exploring whether discounts have a statistically significant difference in efficacy across regions. Depending on customers/region and orders/region, some regions may be excluded from analysis due to small sample size."
   ]
  },
  {
   "cell_type": "markdown",
   "metadata": {},
   "source": [
    "#### CustomerCustomerDemo Table Scrubbing:"
   ]
  },
  {
   "cell_type": "code",
   "execution_count": 22,
   "metadata": {},
   "outputs": [
    {
     "data": {
      "text/html": [
       "<div>\n",
       "<style scoped>\n",
       "    .dataframe tbody tr th:only-of-type {\n",
       "        vertical-align: middle;\n",
       "    }\n",
       "\n",
       "    .dataframe tbody tr th {\n",
       "        vertical-align: top;\n",
       "    }\n",
       "\n",
       "    .dataframe thead th {\n",
       "        text-align: right;\n",
       "    }\n",
       "</style>\n",
       "<table border=\"1\" class=\"dataframe\">\n",
       "  <thead>\n",
       "    <tr style=\"text-align: right;\">\n",
       "      <th></th>\n",
       "      <th>Id</th>\n",
       "      <th>CustomerTypeId</th>\n",
       "    </tr>\n",
       "  </thead>\n",
       "  <tbody>\n",
       "  </tbody>\n",
       "</table>\n",
       "</div>"
      ],
      "text/plain": [
       "Empty DataFrame\n",
       "Columns: [Id, CustomerTypeId]\n",
       "Index: []"
      ]
     },
     "execution_count": 22,
     "metadata": {},
     "output_type": "execute_result"
    }
   ],
   "source": [
    "# Reviewing CustomerCustomerDemo DataFrame:\n",
    "df_customercustomerdemo.head()"
   ]
  },
  {
   "cell_type": "code",
   "execution_count": 23,
   "metadata": {
    "scrolled": true
   },
   "outputs": [
    {
     "name": "stdout",
     "output_type": "stream",
     "text": [
      "<class 'pandas.core.frame.DataFrame'>\n",
      "Index: 0 entries\n",
      "Data columns (total 2 columns):\n",
      "Id                0 non-null object\n",
      "CustomerTypeId    0 non-null object\n",
      "dtypes: object(2)\n",
      "memory usage: 0.0+ bytes\n",
      "None\n"
     ]
    }
   ],
   "source": [
    "print(df_customercustomerdemo.info())"
   ]
  },
  {
   "cell_type": "markdown",
   "metadata": {},
   "source": [
    "#### CustomerDemographic Table Scrubbing:"
   ]
  },
  {
   "cell_type": "code",
   "execution_count": 24,
   "metadata": {
    "scrolled": true
   },
   "outputs": [
    {
     "data": {
      "text/html": [
       "<div>\n",
       "<style scoped>\n",
       "    .dataframe tbody tr th:only-of-type {\n",
       "        vertical-align: middle;\n",
       "    }\n",
       "\n",
       "    .dataframe tbody tr th {\n",
       "        vertical-align: top;\n",
       "    }\n",
       "\n",
       "    .dataframe thead th {\n",
       "        text-align: right;\n",
       "    }\n",
       "</style>\n",
       "<table border=\"1\" class=\"dataframe\">\n",
       "  <thead>\n",
       "    <tr style=\"text-align: right;\">\n",
       "      <th></th>\n",
       "      <th>Id</th>\n",
       "      <th>CustomerDesc</th>\n",
       "    </tr>\n",
       "  </thead>\n",
       "  <tbody>\n",
       "  </tbody>\n",
       "</table>\n",
       "</div>"
      ],
      "text/plain": [
       "Empty DataFrame\n",
       "Columns: [Id, CustomerDesc]\n",
       "Index: []"
      ]
     },
     "execution_count": 24,
     "metadata": {},
     "output_type": "execute_result"
    }
   ],
   "source": [
    "# Reviewing CustomerDemographic DataFrame:\n",
    "df_customerdemographic.head()"
   ]
  },
  {
   "cell_type": "code",
   "execution_count": 25,
   "metadata": {
    "scrolled": true
   },
   "outputs": [
    {
     "name": "stdout",
     "output_type": "stream",
     "text": [
      "<class 'pandas.core.frame.DataFrame'>\n",
      "Index: 0 entries\n",
      "Data columns (total 2 columns):\n",
      "Id              0 non-null object\n",
      "CustomerDesc    0 non-null object\n",
      "dtypes: object(2)\n",
      "memory usage: 0.0+ bytes\n",
      "None\n"
     ]
    }
   ],
   "source": [
    "print(df_customerdemographic.info())"
   ]
  },
  {
   "cell_type": "markdown",
   "metadata": {},
   "source": [
    "#### Employee Table Scrubbing:"
   ]
  },
  {
   "cell_type": "code",
   "execution_count": 26,
   "metadata": {},
   "outputs": [
    {
     "data": {
      "text/html": [
       "<div>\n",
       "<style scoped>\n",
       "    .dataframe tbody tr th:only-of-type {\n",
       "        vertical-align: middle;\n",
       "    }\n",
       "\n",
       "    .dataframe tbody tr th {\n",
       "        vertical-align: top;\n",
       "    }\n",
       "\n",
       "    .dataframe thead th {\n",
       "        text-align: right;\n",
       "    }\n",
       "</style>\n",
       "<table border=\"1\" class=\"dataframe\">\n",
       "  <thead>\n",
       "    <tr style=\"text-align: right;\">\n",
       "      <th></th>\n",
       "      <th>Id</th>\n",
       "      <th>LastName</th>\n",
       "      <th>FirstName</th>\n",
       "      <th>Title</th>\n",
       "      <th>TitleOfCourtesy</th>\n",
       "      <th>BirthDate</th>\n",
       "      <th>HireDate</th>\n",
       "      <th>Address</th>\n",
       "      <th>City</th>\n",
       "      <th>Region</th>\n",
       "      <th>PostalCode</th>\n",
       "      <th>Country</th>\n",
       "      <th>HomePhone</th>\n",
       "      <th>Extension</th>\n",
       "      <th>Photo</th>\n",
       "      <th>Notes</th>\n",
       "      <th>ReportsTo</th>\n",
       "      <th>PhotoPath</th>\n",
       "    </tr>\n",
       "  </thead>\n",
       "  <tbody>\n",
       "    <tr>\n",
       "      <th>0</th>\n",
       "      <td>1</td>\n",
       "      <td>Davolio</td>\n",
       "      <td>Nancy</td>\n",
       "      <td>Sales Representative</td>\n",
       "      <td>Ms.</td>\n",
       "      <td>1980-12-08</td>\n",
       "      <td>2024-05-01</td>\n",
       "      <td>507 - 20th Ave. E. Apt. 2A</td>\n",
       "      <td>Seattle</td>\n",
       "      <td>North America</td>\n",
       "      <td>98122</td>\n",
       "      <td>USA</td>\n",
       "      <td>(206) 555-9857</td>\n",
       "      <td>5467</td>\n",
       "      <td>None</td>\n",
       "      <td>Education includes a BA in psychology from Col...</td>\n",
       "      <td>2.0</td>\n",
       "      <td>http://accweb/emmployees/davolio.bmp</td>\n",
       "    </tr>\n",
       "    <tr>\n",
       "      <th>1</th>\n",
       "      <td>2</td>\n",
       "      <td>Fuller</td>\n",
       "      <td>Andrew</td>\n",
       "      <td>Vice President, Sales</td>\n",
       "      <td>Dr.</td>\n",
       "      <td>1984-02-19</td>\n",
       "      <td>2024-08-14</td>\n",
       "      <td>908 W. Capital Way</td>\n",
       "      <td>Tacoma</td>\n",
       "      <td>North America</td>\n",
       "      <td>98401</td>\n",
       "      <td>USA</td>\n",
       "      <td>(206) 555-9482</td>\n",
       "      <td>3457</td>\n",
       "      <td>None</td>\n",
       "      <td>Andrew received his BTS commercial in 1974 and...</td>\n",
       "      <td>NaN</td>\n",
       "      <td>http://accweb/emmployees/fuller.bmp</td>\n",
       "    </tr>\n",
       "    <tr>\n",
       "      <th>2</th>\n",
       "      <td>3</td>\n",
       "      <td>Leverling</td>\n",
       "      <td>Janet</td>\n",
       "      <td>Sales Representative</td>\n",
       "      <td>Ms.</td>\n",
       "      <td>1995-08-30</td>\n",
       "      <td>2024-04-01</td>\n",
       "      <td>722 Moss Bay Blvd.</td>\n",
       "      <td>Kirkland</td>\n",
       "      <td>North America</td>\n",
       "      <td>98033</td>\n",
       "      <td>USA</td>\n",
       "      <td>(206) 555-3412</td>\n",
       "      <td>3355</td>\n",
       "      <td>None</td>\n",
       "      <td>Janet has a BS degree in chemistry from Boston...</td>\n",
       "      <td>2.0</td>\n",
       "      <td>http://accweb/emmployees/leverling.bmp</td>\n",
       "    </tr>\n",
       "  </tbody>\n",
       "</table>\n",
       "</div>"
      ],
      "text/plain": [
       "   Id   LastName FirstName                  Title TitleOfCourtesy   BirthDate  \\\n",
       "0   1    Davolio     Nancy   Sales Representative             Ms.  1980-12-08   \n",
       "1   2     Fuller    Andrew  Vice President, Sales             Dr.  1984-02-19   \n",
       "2   3  Leverling     Janet   Sales Representative             Ms.  1995-08-30   \n",
       "\n",
       "     HireDate                     Address      City         Region PostalCode  \\\n",
       "0  2024-05-01  507 - 20th Ave. E. Apt. 2A   Seattle  North America      98122   \n",
       "1  2024-08-14          908 W. Capital Way    Tacoma  North America      98401   \n",
       "2  2024-04-01          722 Moss Bay Blvd.  Kirkland  North America      98033   \n",
       "\n",
       "  Country       HomePhone Extension Photo  \\\n",
       "0     USA  (206) 555-9857      5467  None   \n",
       "1     USA  (206) 555-9482      3457  None   \n",
       "2     USA  (206) 555-3412      3355  None   \n",
       "\n",
       "                                               Notes  ReportsTo  \\\n",
       "0  Education includes a BA in psychology from Col...        2.0   \n",
       "1  Andrew received his BTS commercial in 1974 and...        NaN   \n",
       "2  Janet has a BS degree in chemistry from Boston...        2.0   \n",
       "\n",
       "                                PhotoPath  \n",
       "0    http://accweb/emmployees/davolio.bmp  \n",
       "1     http://accweb/emmployees/fuller.bmp  \n",
       "2  http://accweb/emmployees/leverling.bmp  "
      ]
     },
     "execution_count": 26,
     "metadata": {},
     "output_type": "execute_result"
    }
   ],
   "source": [
    "# Reviewing Employee DataFrame:\n",
    "df_employee.head(3)"
   ]
  },
  {
   "cell_type": "code",
   "execution_count": 27,
   "metadata": {
    "scrolled": true
   },
   "outputs": [
    {
     "name": "stdout",
     "output_type": "stream",
     "text": [
      "<class 'pandas.core.frame.DataFrame'>\n",
      "RangeIndex: 9 entries, 0 to 8\n",
      "Data columns (total 18 columns):\n",
      "Id                 9 non-null int64\n",
      "LastName           9 non-null object\n",
      "FirstName          9 non-null object\n",
      "Title              9 non-null object\n",
      "TitleOfCourtesy    9 non-null object\n",
      "BirthDate          9 non-null object\n",
      "HireDate           9 non-null object\n",
      "Address            9 non-null object\n",
      "City               9 non-null object\n",
      "Region             9 non-null object\n",
      "PostalCode         9 non-null object\n",
      "Country            9 non-null object\n",
      "HomePhone          9 non-null object\n",
      "Extension          9 non-null object\n",
      "Photo              0 non-null object\n",
      "Notes              9 non-null object\n",
      "ReportsTo          8 non-null float64\n",
      "PhotoPath          9 non-null object\n",
      "dtypes: float64(1), int64(1), object(16)\n",
      "memory usage: 1.3+ KB\n",
      "None\n"
     ]
    }
   ],
   "source": [
    "# Determining Presence of null values:\n",
    "print(df_employee.info())"
   ]
  },
  {
   "cell_type": "code",
   "execution_count": 28,
   "metadata": {
    "scrolled": true
   },
   "outputs": [],
   "source": [
    "# Dropping the 'Photo' Column:\n",
    "df_employee.drop('Photo', axis=1, inplace=True)"
   ]
  },
  {
   "cell_type": "code",
   "execution_count": 29,
   "metadata": {},
   "outputs": [],
   "source": [
    "# Filling in null values with column mode:\n",
    "df_employee.ReportsTo.fillna(2.0, inplace=True)"
   ]
  },
  {
   "cell_type": "code",
   "execution_count": 30,
   "metadata": {
    "scrolled": true
   },
   "outputs": [
    {
     "data": {
      "text/html": [
       "<div>\n",
       "<style scoped>\n",
       "    .dataframe tbody tr th:only-of-type {\n",
       "        vertical-align: middle;\n",
       "    }\n",
       "\n",
       "    .dataframe tbody tr th {\n",
       "        vertical-align: top;\n",
       "    }\n",
       "\n",
       "    .dataframe thead th {\n",
       "        text-align: right;\n",
       "    }\n",
       "</style>\n",
       "<table border=\"1\" class=\"dataframe\">\n",
       "  <thead>\n",
       "    <tr style=\"text-align: right;\">\n",
       "      <th></th>\n",
       "      <th>Id</th>\n",
       "      <th>LastName</th>\n",
       "      <th>FirstName</th>\n",
       "      <th>Title</th>\n",
       "      <th>TitleOfCourtesy</th>\n",
       "      <th>BirthDate</th>\n",
       "      <th>HireDate</th>\n",
       "      <th>Address</th>\n",
       "      <th>City</th>\n",
       "      <th>Region</th>\n",
       "      <th>PostalCode</th>\n",
       "      <th>Country</th>\n",
       "      <th>HomePhone</th>\n",
       "      <th>Extension</th>\n",
       "      <th>Notes</th>\n",
       "      <th>ReportsTo</th>\n",
       "      <th>PhotoPath</th>\n",
       "    </tr>\n",
       "  </thead>\n",
       "  <tbody>\n",
       "    <tr>\n",
       "      <th>0</th>\n",
       "      <td>1</td>\n",
       "      <td>Davolio</td>\n",
       "      <td>Nancy</td>\n",
       "      <td>Sales Representative</td>\n",
       "      <td>Ms.</td>\n",
       "      <td>1980-12-08</td>\n",
       "      <td>2024-05-01</td>\n",
       "      <td>507 - 20th Ave. E. Apt. 2A</td>\n",
       "      <td>Seattle</td>\n",
       "      <td>North America</td>\n",
       "      <td>98122</td>\n",
       "      <td>USA</td>\n",
       "      <td>(206) 555-9857</td>\n",
       "      <td>5467</td>\n",
       "      <td>Education includes a BA in psychology from Col...</td>\n",
       "      <td>2.0</td>\n",
       "      <td>http://accweb/emmployees/davolio.bmp</td>\n",
       "    </tr>\n",
       "    <tr>\n",
       "      <th>1</th>\n",
       "      <td>2</td>\n",
       "      <td>Fuller</td>\n",
       "      <td>Andrew</td>\n",
       "      <td>Vice President, Sales</td>\n",
       "      <td>Dr.</td>\n",
       "      <td>1984-02-19</td>\n",
       "      <td>2024-08-14</td>\n",
       "      <td>908 W. Capital Way</td>\n",
       "      <td>Tacoma</td>\n",
       "      <td>North America</td>\n",
       "      <td>98401</td>\n",
       "      <td>USA</td>\n",
       "      <td>(206) 555-9482</td>\n",
       "      <td>3457</td>\n",
       "      <td>Andrew received his BTS commercial in 1974 and...</td>\n",
       "      <td>2.0</td>\n",
       "      <td>http://accweb/emmployees/fuller.bmp</td>\n",
       "    </tr>\n",
       "    <tr>\n",
       "      <th>2</th>\n",
       "      <td>3</td>\n",
       "      <td>Leverling</td>\n",
       "      <td>Janet</td>\n",
       "      <td>Sales Representative</td>\n",
       "      <td>Ms.</td>\n",
       "      <td>1995-08-30</td>\n",
       "      <td>2024-04-01</td>\n",
       "      <td>722 Moss Bay Blvd.</td>\n",
       "      <td>Kirkland</td>\n",
       "      <td>North America</td>\n",
       "      <td>98033</td>\n",
       "      <td>USA</td>\n",
       "      <td>(206) 555-3412</td>\n",
       "      <td>3355</td>\n",
       "      <td>Janet has a BS degree in chemistry from Boston...</td>\n",
       "      <td>2.0</td>\n",
       "      <td>http://accweb/emmployees/leverling.bmp</td>\n",
       "    </tr>\n",
       "  </tbody>\n",
       "</table>\n",
       "</div>"
      ],
      "text/plain": [
       "   Id   LastName FirstName                  Title TitleOfCourtesy   BirthDate  \\\n",
       "0   1    Davolio     Nancy   Sales Representative             Ms.  1980-12-08   \n",
       "1   2     Fuller    Andrew  Vice President, Sales             Dr.  1984-02-19   \n",
       "2   3  Leverling     Janet   Sales Representative             Ms.  1995-08-30   \n",
       "\n",
       "     HireDate                     Address      City         Region PostalCode  \\\n",
       "0  2024-05-01  507 - 20th Ave. E. Apt. 2A   Seattle  North America      98122   \n",
       "1  2024-08-14          908 W. Capital Way    Tacoma  North America      98401   \n",
       "2  2024-04-01          722 Moss Bay Blvd.  Kirkland  North America      98033   \n",
       "\n",
       "  Country       HomePhone Extension  \\\n",
       "0     USA  (206) 555-9857      5467   \n",
       "1     USA  (206) 555-9482      3457   \n",
       "2     USA  (206) 555-3412      3355   \n",
       "\n",
       "                                               Notes  ReportsTo  \\\n",
       "0  Education includes a BA in psychology from Col...        2.0   \n",
       "1  Andrew received his BTS commercial in 1974 and...        2.0   \n",
       "2  Janet has a BS degree in chemistry from Boston...        2.0   \n",
       "\n",
       "                                PhotoPath  \n",
       "0    http://accweb/emmployees/davolio.bmp  \n",
       "1     http://accweb/emmployees/fuller.bmp  \n",
       "2  http://accweb/emmployees/leverling.bmp  "
      ]
     },
     "execution_count": 30,
     "metadata": {},
     "output_type": "execute_result"
    }
   ],
   "source": [
    "# Re-reviewing Employee DataFrame\n",
    "df_employee.head(3)"
   ]
  },
  {
   "cell_type": "code",
   "execution_count": 31,
   "metadata": {},
   "outputs": [
    {
     "name": "stdout",
     "output_type": "stream",
     "text": [
      "<class 'pandas.core.frame.DataFrame'>\n",
      "RangeIndex: 9 entries, 0 to 8\n",
      "Data columns (total 17 columns):\n",
      "Id                 9 non-null int64\n",
      "LastName           9 non-null object\n",
      "FirstName          9 non-null object\n",
      "Title              9 non-null object\n",
      "TitleOfCourtesy    9 non-null object\n",
      "BirthDate          9 non-null object\n",
      "HireDate           9 non-null object\n",
      "Address            9 non-null object\n",
      "City               9 non-null object\n",
      "Region             9 non-null object\n",
      "PostalCode         9 non-null object\n",
      "Country            9 non-null object\n",
      "HomePhone          9 non-null object\n",
      "Extension          9 non-null object\n",
      "Notes              9 non-null object\n",
      "ReportsTo          9 non-null float64\n",
      "PhotoPath          9 non-null object\n",
      "dtypes: float64(1), int64(1), object(15)\n",
      "memory usage: 1.3+ KB\n"
     ]
    }
   ],
   "source": [
    "df_employee.info()"
   ]
  },
  {
   "cell_type": "markdown",
   "metadata": {},
   "source": [
    "#### EmployeeTerritory Table Scrubbing:"
   ]
  },
  {
   "cell_type": "code",
   "execution_count": 32,
   "metadata": {},
   "outputs": [
    {
     "data": {
      "text/html": [
       "<div>\n",
       "<style scoped>\n",
       "    .dataframe tbody tr th:only-of-type {\n",
       "        vertical-align: middle;\n",
       "    }\n",
       "\n",
       "    .dataframe tbody tr th {\n",
       "        vertical-align: top;\n",
       "    }\n",
       "\n",
       "    .dataframe thead th {\n",
       "        text-align: right;\n",
       "    }\n",
       "</style>\n",
       "<table border=\"1\" class=\"dataframe\">\n",
       "  <thead>\n",
       "    <tr style=\"text-align: right;\">\n",
       "      <th></th>\n",
       "      <th>Id</th>\n",
       "      <th>EmployeeId</th>\n",
       "      <th>TerritoryId</th>\n",
       "    </tr>\n",
       "  </thead>\n",
       "  <tbody>\n",
       "    <tr>\n",
       "      <th>0</th>\n",
       "      <td>1/06897</td>\n",
       "      <td>1</td>\n",
       "      <td>06897</td>\n",
       "    </tr>\n",
       "    <tr>\n",
       "      <th>1</th>\n",
       "      <td>1/19713</td>\n",
       "      <td>1</td>\n",
       "      <td>19713</td>\n",
       "    </tr>\n",
       "    <tr>\n",
       "      <th>2</th>\n",
       "      <td>2/01581</td>\n",
       "      <td>2</td>\n",
       "      <td>01581</td>\n",
       "    </tr>\n",
       "  </tbody>\n",
       "</table>\n",
       "</div>"
      ],
      "text/plain": [
       "        Id  EmployeeId TerritoryId\n",
       "0  1/06897           1       06897\n",
       "1  1/19713           1       19713\n",
       "2  2/01581           2       01581"
      ]
     },
     "execution_count": 32,
     "metadata": {},
     "output_type": "execute_result"
    }
   ],
   "source": [
    "# Reviewing EmployeeTerritory DataFrame:\n",
    "df_employeeterritory.head(3)"
   ]
  },
  {
   "cell_type": "code",
   "execution_count": 33,
   "metadata": {},
   "outputs": [
    {
     "name": "stdout",
     "output_type": "stream",
     "text": [
      "<class 'pandas.core.frame.DataFrame'>\n",
      "RangeIndex: 49 entries, 0 to 48\n",
      "Data columns (total 3 columns):\n",
      "Id             49 non-null object\n",
      "EmployeeId     49 non-null int64\n",
      "TerritoryId    49 non-null object\n",
      "dtypes: int64(1), object(2)\n",
      "memory usage: 1.2+ KB\n",
      "None\n"
     ]
    }
   ],
   "source": [
    "print(df_employeeterritory.info())"
   ]
  },
  {
   "cell_type": "code",
   "execution_count": 34,
   "metadata": {},
   "outputs": [
    {
     "name": "stdout",
     "output_type": "stream",
     "text": [
      "9\n"
     ]
    }
   ],
   "source": [
    "print(len(df_employeeterritory.EmployeeId.unique()))"
   ]
  },
  {
   "cell_type": "markdown",
   "metadata": {},
   "source": [
    "#### Order Table Scrubbing:"
   ]
  },
  {
   "cell_type": "code",
   "execution_count": 35,
   "metadata": {},
   "outputs": [
    {
     "data": {
      "text/html": [
       "<div>\n",
       "<style scoped>\n",
       "    .dataframe tbody tr th:only-of-type {\n",
       "        vertical-align: middle;\n",
       "    }\n",
       "\n",
       "    .dataframe tbody tr th {\n",
       "        vertical-align: top;\n",
       "    }\n",
       "\n",
       "    .dataframe thead th {\n",
       "        text-align: right;\n",
       "    }\n",
       "</style>\n",
       "<table border=\"1\" class=\"dataframe\">\n",
       "  <thead>\n",
       "    <tr style=\"text-align: right;\">\n",
       "      <th></th>\n",
       "      <th>Id</th>\n",
       "      <th>CustomerId</th>\n",
       "      <th>EmployeeId</th>\n",
       "      <th>OrderDate</th>\n",
       "      <th>RequiredDate</th>\n",
       "      <th>ShippedDate</th>\n",
       "      <th>ShipVia</th>\n",
       "      <th>Freight</th>\n",
       "      <th>ShipName</th>\n",
       "      <th>ShipAddress</th>\n",
       "      <th>ShipCity</th>\n",
       "      <th>ShipRegion</th>\n",
       "      <th>ShipPostalCode</th>\n",
       "      <th>ShipCountry</th>\n",
       "    </tr>\n",
       "  </thead>\n",
       "  <tbody>\n",
       "    <tr>\n",
       "      <th>0</th>\n",
       "      <td>10248</td>\n",
       "      <td>VINET</td>\n",
       "      <td>5</td>\n",
       "      <td>2012-07-04</td>\n",
       "      <td>2012-08-01</td>\n",
       "      <td>2012-07-16</td>\n",
       "      <td>3</td>\n",
       "      <td>32.38</td>\n",
       "      <td>Vins et alcools Chevalier</td>\n",
       "      <td>59 rue de l'Abbaye</td>\n",
       "      <td>Reims</td>\n",
       "      <td>Western Europe</td>\n",
       "      <td>51100</td>\n",
       "      <td>France</td>\n",
       "    </tr>\n",
       "    <tr>\n",
       "      <th>1</th>\n",
       "      <td>10249</td>\n",
       "      <td>TOMSP</td>\n",
       "      <td>6</td>\n",
       "      <td>2012-07-05</td>\n",
       "      <td>2012-08-16</td>\n",
       "      <td>2012-07-10</td>\n",
       "      <td>1</td>\n",
       "      <td>11.61</td>\n",
       "      <td>Toms Spezialitäten</td>\n",
       "      <td>Luisenstr. 48</td>\n",
       "      <td>Münster</td>\n",
       "      <td>Western Europe</td>\n",
       "      <td>44087</td>\n",
       "      <td>Germany</td>\n",
       "    </tr>\n",
       "    <tr>\n",
       "      <th>2</th>\n",
       "      <td>10250</td>\n",
       "      <td>HANAR</td>\n",
       "      <td>4</td>\n",
       "      <td>2012-07-08</td>\n",
       "      <td>2012-08-05</td>\n",
       "      <td>2012-07-12</td>\n",
       "      <td>2</td>\n",
       "      <td>65.83</td>\n",
       "      <td>Hanari Carnes</td>\n",
       "      <td>Rua do Paço, 67</td>\n",
       "      <td>Rio de Janeiro</td>\n",
       "      <td>South America</td>\n",
       "      <td>05454-876</td>\n",
       "      <td>Brazil</td>\n",
       "    </tr>\n",
       "  </tbody>\n",
       "</table>\n",
       "</div>"
      ],
      "text/plain": [
       "      Id CustomerId  EmployeeId   OrderDate RequiredDate ShippedDate  ShipVia  \\\n",
       "0  10248      VINET           5  2012-07-04   2012-08-01  2012-07-16        3   \n",
       "1  10249      TOMSP           6  2012-07-05   2012-08-16  2012-07-10        1   \n",
       "2  10250      HANAR           4  2012-07-08   2012-08-05  2012-07-12        2   \n",
       "\n",
       "   Freight                   ShipName         ShipAddress        ShipCity  \\\n",
       "0    32.38  Vins et alcools Chevalier  59 rue de l'Abbaye           Reims   \n",
       "1    11.61         Toms Spezialitäten       Luisenstr. 48         Münster   \n",
       "2    65.83              Hanari Carnes     Rua do Paço, 67  Rio de Janeiro   \n",
       "\n",
       "       ShipRegion ShipPostalCode ShipCountry  \n",
       "0  Western Europe          51100      France  \n",
       "1  Western Europe          44087     Germany  \n",
       "2   South America      05454-876      Brazil  "
      ]
     },
     "execution_count": 35,
     "metadata": {},
     "output_type": "execute_result"
    }
   ],
   "source": [
    "# Reviewing Order DataFrame:\n",
    "df_order.head(3)"
   ]
  },
  {
   "cell_type": "code",
   "execution_count": 36,
   "metadata": {
    "scrolled": false
   },
   "outputs": [
    {
     "name": "stdout",
     "output_type": "stream",
     "text": [
      "<class 'pandas.core.frame.DataFrame'>\n",
      "RangeIndex: 830 entries, 0 to 829\n",
      "Data columns (total 14 columns):\n",
      "Id                830 non-null int64\n",
      "CustomerId        830 non-null object\n",
      "EmployeeId        830 non-null int64\n",
      "OrderDate         830 non-null object\n",
      "RequiredDate      830 non-null object\n",
      "ShippedDate       809 non-null object\n",
      "ShipVia           830 non-null int64\n",
      "Freight           830 non-null float64\n",
      "ShipName          830 non-null object\n",
      "ShipAddress       830 non-null object\n",
      "ShipCity          830 non-null object\n",
      "ShipRegion        830 non-null object\n",
      "ShipPostalCode    811 non-null object\n",
      "ShipCountry       830 non-null object\n",
      "dtypes: float64(1), int64(3), object(10)\n",
      "memory usage: 90.9+ KB\n",
      "None\n"
     ]
    }
   ],
   "source": [
    "# Investigating Order DataFrame for the presence of null values:\n",
    "print(df_order.info())"
   ]
  },
  {
   "cell_type": "code",
   "execution_count": 37,
   "metadata": {},
   "outputs": [],
   "source": [
    "# Dropping ShipPostalCode Column, as we have City/Region/Country info:\n",
    "df_order.drop('ShipPostalCode', axis=1, inplace=True)"
   ]
  },
  {
   "cell_type": "markdown",
   "metadata": {},
   "source": [
    "### See Note Below:"
   ]
  },
  {
   "cell_type": "code",
   "execution_count": 38,
   "metadata": {},
   "outputs": [],
   "source": [
    "# May reconsider how I treat null values in ShippedDate Column********\n",
    "df_order.ShippedDate.fillna('0', inplace=True)"
   ]
  },
  {
   "cell_type": "code",
   "execution_count": 39,
   "metadata": {},
   "outputs": [
    {
     "name": "stdout",
     "output_type": "stream",
     "text": [
      "<class 'pandas.core.frame.DataFrame'>\n",
      "RangeIndex: 830 entries, 0 to 829\n",
      "Data columns (total 13 columns):\n",
      "Id              830 non-null int64\n",
      "CustomerId      830 non-null object\n",
      "EmployeeId      830 non-null int64\n",
      "OrderDate       830 non-null object\n",
      "RequiredDate    830 non-null object\n",
      "ShippedDate     830 non-null object\n",
      "ShipVia         830 non-null int64\n",
      "Freight         830 non-null float64\n",
      "ShipName        830 non-null object\n",
      "ShipAddress     830 non-null object\n",
      "ShipCity        830 non-null object\n",
      "ShipRegion      830 non-null object\n",
      "ShipCountry     830 non-null object\n",
      "dtypes: float64(1), int64(3), object(9)\n",
      "memory usage: 84.4+ KB\n"
     ]
    }
   ],
   "source": [
    "df_order.info()"
   ]
  },
  {
   "cell_type": "markdown",
   "metadata": {},
   "source": [
    "#### OrderDetail Table Scrubbing:"
   ]
  },
  {
   "cell_type": "code",
   "execution_count": 40,
   "metadata": {},
   "outputs": [
    {
     "data": {
      "text/html": [
       "<div>\n",
       "<style scoped>\n",
       "    .dataframe tbody tr th:only-of-type {\n",
       "        vertical-align: middle;\n",
       "    }\n",
       "\n",
       "    .dataframe tbody tr th {\n",
       "        vertical-align: top;\n",
       "    }\n",
       "\n",
       "    .dataframe thead th {\n",
       "        text-align: right;\n",
       "    }\n",
       "</style>\n",
       "<table border=\"1\" class=\"dataframe\">\n",
       "  <thead>\n",
       "    <tr style=\"text-align: right;\">\n",
       "      <th></th>\n",
       "      <th>Id</th>\n",
       "      <th>OrderId</th>\n",
       "      <th>ProductId</th>\n",
       "      <th>UnitPrice</th>\n",
       "      <th>Quantity</th>\n",
       "      <th>Discount</th>\n",
       "    </tr>\n",
       "  </thead>\n",
       "  <tbody>\n",
       "    <tr>\n",
       "      <th>0</th>\n",
       "      <td>10248/11</td>\n",
       "      <td>10248</td>\n",
       "      <td>11</td>\n",
       "      <td>14.0</td>\n",
       "      <td>12</td>\n",
       "      <td>0.0</td>\n",
       "    </tr>\n",
       "    <tr>\n",
       "      <th>1</th>\n",
       "      <td>10248/42</td>\n",
       "      <td>10248</td>\n",
       "      <td>42</td>\n",
       "      <td>9.8</td>\n",
       "      <td>10</td>\n",
       "      <td>0.0</td>\n",
       "    </tr>\n",
       "    <tr>\n",
       "      <th>2</th>\n",
       "      <td>10248/72</td>\n",
       "      <td>10248</td>\n",
       "      <td>72</td>\n",
       "      <td>34.8</td>\n",
       "      <td>5</td>\n",
       "      <td>0.0</td>\n",
       "    </tr>\n",
       "  </tbody>\n",
       "</table>\n",
       "</div>"
      ],
      "text/plain": [
       "         Id  OrderId  ProductId  UnitPrice  Quantity  Discount\n",
       "0  10248/11    10248         11       14.0        12       0.0\n",
       "1  10248/42    10248         42        9.8        10       0.0\n",
       "2  10248/72    10248         72       34.8         5       0.0"
      ]
     },
     "execution_count": 40,
     "metadata": {},
     "output_type": "execute_result"
    }
   ],
   "source": [
    "# Reviewing OrderDetail DataFrame:\n",
    "df_orderdetail.head(3)"
   ]
  },
  {
   "cell_type": "code",
   "execution_count": 41,
   "metadata": {},
   "outputs": [
    {
     "name": "stdout",
     "output_type": "stream",
     "text": [
      "<class 'pandas.core.frame.DataFrame'>\n",
      "RangeIndex: 2155 entries, 0 to 2154\n",
      "Data columns (total 6 columns):\n",
      "Id           2155 non-null object\n",
      "OrderId      2155 non-null int64\n",
      "ProductId    2155 non-null int64\n",
      "UnitPrice    2155 non-null float64\n",
      "Quantity     2155 non-null int64\n",
      "Discount     2155 non-null float64\n",
      "dtypes: float64(2), int64(3), object(1)\n",
      "memory usage: 101.1+ KB\n",
      "None\n"
     ]
    }
   ],
   "source": [
    "print(df_orderdetail.info())"
   ]
  },
  {
   "cell_type": "markdown",
   "metadata": {},
   "source": [
    "#### Product Table Scrubbing:"
   ]
  },
  {
   "cell_type": "code",
   "execution_count": 42,
   "metadata": {
    "scrolled": false
   },
   "outputs": [
    {
     "data": {
      "text/html": [
       "<div>\n",
       "<style scoped>\n",
       "    .dataframe tbody tr th:only-of-type {\n",
       "        vertical-align: middle;\n",
       "    }\n",
       "\n",
       "    .dataframe tbody tr th {\n",
       "        vertical-align: top;\n",
       "    }\n",
       "\n",
       "    .dataframe thead th {\n",
       "        text-align: right;\n",
       "    }\n",
       "</style>\n",
       "<table border=\"1\" class=\"dataframe\">\n",
       "  <thead>\n",
       "    <tr style=\"text-align: right;\">\n",
       "      <th></th>\n",
       "      <th>Id</th>\n",
       "      <th>ProductName</th>\n",
       "      <th>SupplierId</th>\n",
       "      <th>CategoryId</th>\n",
       "      <th>QuantityPerUnit</th>\n",
       "      <th>UnitPrice</th>\n",
       "      <th>UnitsInStock</th>\n",
       "      <th>UnitsOnOrder</th>\n",
       "      <th>ReorderLevel</th>\n",
       "      <th>Discontinued</th>\n",
       "    </tr>\n",
       "  </thead>\n",
       "  <tbody>\n",
       "    <tr>\n",
       "      <th>0</th>\n",
       "      <td>1</td>\n",
       "      <td>Chai</td>\n",
       "      <td>1</td>\n",
       "      <td>1</td>\n",
       "      <td>10 boxes x 20 bags</td>\n",
       "      <td>18.0</td>\n",
       "      <td>39</td>\n",
       "      <td>0</td>\n",
       "      <td>10</td>\n",
       "      <td>0</td>\n",
       "    </tr>\n",
       "    <tr>\n",
       "      <th>1</th>\n",
       "      <td>2</td>\n",
       "      <td>Chang</td>\n",
       "      <td>1</td>\n",
       "      <td>1</td>\n",
       "      <td>24 - 12 oz bottles</td>\n",
       "      <td>19.0</td>\n",
       "      <td>17</td>\n",
       "      <td>40</td>\n",
       "      <td>25</td>\n",
       "      <td>0</td>\n",
       "    </tr>\n",
       "    <tr>\n",
       "      <th>2</th>\n",
       "      <td>3</td>\n",
       "      <td>Aniseed Syrup</td>\n",
       "      <td>1</td>\n",
       "      <td>2</td>\n",
       "      <td>12 - 550 ml bottles</td>\n",
       "      <td>10.0</td>\n",
       "      <td>13</td>\n",
       "      <td>70</td>\n",
       "      <td>25</td>\n",
       "      <td>0</td>\n",
       "    </tr>\n",
       "  </tbody>\n",
       "</table>\n",
       "</div>"
      ],
      "text/plain": [
       "   Id    ProductName  SupplierId  CategoryId      QuantityPerUnit  UnitPrice  \\\n",
       "0   1           Chai           1           1   10 boxes x 20 bags       18.0   \n",
       "1   2          Chang           1           1   24 - 12 oz bottles       19.0   \n",
       "2   3  Aniseed Syrup           1           2  12 - 550 ml bottles       10.0   \n",
       "\n",
       "   UnitsInStock  UnitsOnOrder  ReorderLevel  Discontinued  \n",
       "0            39             0            10             0  \n",
       "1            17            40            25             0  \n",
       "2            13            70            25             0  "
      ]
     },
     "execution_count": 42,
     "metadata": {},
     "output_type": "execute_result"
    }
   ],
   "source": [
    "# Reviewing Product DataFrame:\n",
    "df_product.head(3)"
   ]
  },
  {
   "cell_type": "code",
   "execution_count": 43,
   "metadata": {},
   "outputs": [
    {
     "data": {
      "text/plain": [
       "0    69\n",
       "1     8\n",
       "Name: Discontinued, dtype: int64"
      ]
     },
     "execution_count": 43,
     "metadata": {},
     "output_type": "execute_result"
    }
   ],
   "source": [
    "# Viewing number of \"Discontinued\" Products:\n",
    "df_product.Discontinued.value_counts()"
   ]
  },
  {
   "cell_type": "markdown",
   "metadata": {},
   "source": [
    "For the purposes of our analysis, we will ignore the presence of Discontinued Products. Should we find that specific Discontinued products perform as good or better than other products in the dataset, we may recommend that Northwind choose to restock these products.\n",
    "\n",
    "In a future project, Northwind may also consider investigating the sales performance of specific products on a regional or national level to maximize product performance, reduce shipping costs, and reduce shrink through order size optimization."
   ]
  },
  {
   "cell_type": "markdown",
   "metadata": {},
   "source": [
    "### May need to map SupplierId and CategoryId"
   ]
  },
  {
   "cell_type": "code",
   "execution_count": 44,
   "metadata": {
    "scrolled": true
   },
   "outputs": [
    {
     "name": "stdout",
     "output_type": "stream",
     "text": [
      "<class 'pandas.core.frame.DataFrame'>\n",
      "RangeIndex: 77 entries, 0 to 76\n",
      "Data columns (total 10 columns):\n",
      "Id                 77 non-null int64\n",
      "ProductName        77 non-null object\n",
      "SupplierId         77 non-null int64\n",
      "CategoryId         77 non-null int64\n",
      "QuantityPerUnit    77 non-null object\n",
      "UnitPrice          77 non-null float64\n",
      "UnitsInStock       77 non-null int64\n",
      "UnitsOnOrder       77 non-null int64\n",
      "ReorderLevel       77 non-null int64\n",
      "Discontinued       77 non-null int64\n",
      "dtypes: float64(1), int64(7), object(2)\n",
      "memory usage: 6.1+ KB\n",
      "None\n"
     ]
    }
   ],
   "source": [
    "print(df_product.info())"
   ]
  },
  {
   "cell_type": "code",
   "execution_count": 45,
   "metadata": {},
   "outputs": [],
   "source": [
    "# Create column that contains number of units"
   ]
  },
  {
   "cell_type": "markdown",
   "metadata": {},
   "source": [
    "#### Region Table Scrubbing:"
   ]
  },
  {
   "cell_type": "code",
   "execution_count": 46,
   "metadata": {},
   "outputs": [
    {
     "data": {
      "text/html": [
       "<div>\n",
       "<style scoped>\n",
       "    .dataframe tbody tr th:only-of-type {\n",
       "        vertical-align: middle;\n",
       "    }\n",
       "\n",
       "    .dataframe tbody tr th {\n",
       "        vertical-align: top;\n",
       "    }\n",
       "\n",
       "    .dataframe thead th {\n",
       "        text-align: right;\n",
       "    }\n",
       "</style>\n",
       "<table border=\"1\" class=\"dataframe\">\n",
       "  <thead>\n",
       "    <tr style=\"text-align: right;\">\n",
       "      <th></th>\n",
       "      <th>Id</th>\n",
       "      <th>RegionDescription</th>\n",
       "    </tr>\n",
       "  </thead>\n",
       "  <tbody>\n",
       "    <tr>\n",
       "      <th>0</th>\n",
       "      <td>1</td>\n",
       "      <td>Eastern</td>\n",
       "    </tr>\n",
       "    <tr>\n",
       "      <th>1</th>\n",
       "      <td>2</td>\n",
       "      <td>Western</td>\n",
       "    </tr>\n",
       "    <tr>\n",
       "      <th>2</th>\n",
       "      <td>3</td>\n",
       "      <td>Northern</td>\n",
       "    </tr>\n",
       "  </tbody>\n",
       "</table>\n",
       "</div>"
      ],
      "text/plain": [
       "   Id RegionDescription\n",
       "0   1           Eastern\n",
       "1   2           Western\n",
       "2   3          Northern"
      ]
     },
     "execution_count": 46,
     "metadata": {},
     "output_type": "execute_result"
    }
   ],
   "source": [
    "# Reviewing Region DataFrame:\n",
    "df_region.head(3)"
   ]
  },
  {
   "cell_type": "code",
   "execution_count": 47,
   "metadata": {
    "scrolled": true
   },
   "outputs": [
    {
     "name": "stdout",
     "output_type": "stream",
     "text": [
      "<class 'pandas.core.frame.DataFrame'>\n",
      "RangeIndex: 4 entries, 0 to 3\n",
      "Data columns (total 2 columns):\n",
      "Id                   4 non-null int64\n",
      "RegionDescription    4 non-null object\n",
      "dtypes: int64(1), object(1)\n",
      "memory usage: 144.0+ bytes\n",
      "None\n"
     ]
    }
   ],
   "source": [
    "print(df_region.info())"
   ]
  },
  {
   "cell_type": "code",
   "execution_count": 48,
   "metadata": {},
   "outputs": [],
   "source": [
    "# Consider One-Hot-Encoding Here"
   ]
  },
  {
   "cell_type": "code",
   "execution_count": null,
   "metadata": {},
   "outputs": [],
   "source": []
  },
  {
   "cell_type": "markdown",
   "metadata": {},
   "source": [
    "## Idea - One hot encode regions and look to compare discount effect in each region"
   ]
  },
  {
   "cell_type": "code",
   "execution_count": null,
   "metadata": {},
   "outputs": [],
   "source": []
  },
  {
   "cell_type": "markdown",
   "metadata": {},
   "source": [
    "#### Shipper Table Scrubbing:"
   ]
  },
  {
   "cell_type": "code",
   "execution_count": 49,
   "metadata": {},
   "outputs": [
    {
     "data": {
      "text/html": [
       "<div>\n",
       "<style scoped>\n",
       "    .dataframe tbody tr th:only-of-type {\n",
       "        vertical-align: middle;\n",
       "    }\n",
       "\n",
       "    .dataframe tbody tr th {\n",
       "        vertical-align: top;\n",
       "    }\n",
       "\n",
       "    .dataframe thead th {\n",
       "        text-align: right;\n",
       "    }\n",
       "</style>\n",
       "<table border=\"1\" class=\"dataframe\">\n",
       "  <thead>\n",
       "    <tr style=\"text-align: right;\">\n",
       "      <th></th>\n",
       "      <th>Id</th>\n",
       "      <th>CompanyName</th>\n",
       "      <th>Phone</th>\n",
       "    </tr>\n",
       "  </thead>\n",
       "  <tbody>\n",
       "    <tr>\n",
       "      <th>0</th>\n",
       "      <td>1</td>\n",
       "      <td>Speedy Express</td>\n",
       "      <td>(503) 555-9831</td>\n",
       "    </tr>\n",
       "    <tr>\n",
       "      <th>1</th>\n",
       "      <td>2</td>\n",
       "      <td>United Package</td>\n",
       "      <td>(503) 555-3199</td>\n",
       "    </tr>\n",
       "    <tr>\n",
       "      <th>2</th>\n",
       "      <td>3</td>\n",
       "      <td>Federal Shipping</td>\n",
       "      <td>(503) 555-9931</td>\n",
       "    </tr>\n",
       "  </tbody>\n",
       "</table>\n",
       "</div>"
      ],
      "text/plain": [
       "   Id       CompanyName           Phone\n",
       "0   1    Speedy Express  (503) 555-9831\n",
       "1   2    United Package  (503) 555-3199\n",
       "2   3  Federal Shipping  (503) 555-9931"
      ]
     },
     "execution_count": 49,
     "metadata": {},
     "output_type": "execute_result"
    }
   ],
   "source": [
    "# Reviewing Shipper DataFrame:\n",
    "df_shipper.head(3)"
   ]
  },
  {
   "cell_type": "code",
   "execution_count": 50,
   "metadata": {},
   "outputs": [
    {
     "name": "stdout",
     "output_type": "stream",
     "text": [
      "<class 'pandas.core.frame.DataFrame'>\n",
      "RangeIndex: 3 entries, 0 to 2\n",
      "Data columns (total 3 columns):\n",
      "Id             3 non-null int64\n",
      "CompanyName    3 non-null object\n",
      "Phone          3 non-null object\n",
      "dtypes: int64(1), object(2)\n",
      "memory usage: 152.0+ bytes\n",
      "None\n"
     ]
    }
   ],
   "source": [
    "print(df_shipper.info())"
   ]
  },
  {
   "cell_type": "markdown",
   "metadata": {},
   "source": [
    "#### Supplier Table Scrubbing:"
   ]
  },
  {
   "cell_type": "code",
   "execution_count": 51,
   "metadata": {},
   "outputs": [
    {
     "data": {
      "text/html": [
       "<div>\n",
       "<style scoped>\n",
       "    .dataframe tbody tr th:only-of-type {\n",
       "        vertical-align: middle;\n",
       "    }\n",
       "\n",
       "    .dataframe tbody tr th {\n",
       "        vertical-align: top;\n",
       "    }\n",
       "\n",
       "    .dataframe thead th {\n",
       "        text-align: right;\n",
       "    }\n",
       "</style>\n",
       "<table border=\"1\" class=\"dataframe\">\n",
       "  <thead>\n",
       "    <tr style=\"text-align: right;\">\n",
       "      <th></th>\n",
       "      <th>Id</th>\n",
       "      <th>CompanyName</th>\n",
       "      <th>ContactName</th>\n",
       "      <th>ContactTitle</th>\n",
       "      <th>Address</th>\n",
       "      <th>City</th>\n",
       "      <th>Region</th>\n",
       "      <th>PostalCode</th>\n",
       "      <th>Country</th>\n",
       "      <th>Phone</th>\n",
       "      <th>Fax</th>\n",
       "      <th>HomePage</th>\n",
       "    </tr>\n",
       "  </thead>\n",
       "  <tbody>\n",
       "    <tr>\n",
       "      <th>0</th>\n",
       "      <td>1</td>\n",
       "      <td>Exotic Liquids</td>\n",
       "      <td>Charlotte Cooper</td>\n",
       "      <td>Purchasing Manager</td>\n",
       "      <td>49 Gilbert St.</td>\n",
       "      <td>London</td>\n",
       "      <td>British Isles</td>\n",
       "      <td>EC1 4SD</td>\n",
       "      <td>UK</td>\n",
       "      <td>(171) 555-2222</td>\n",
       "      <td>None</td>\n",
       "      <td>None</td>\n",
       "    </tr>\n",
       "    <tr>\n",
       "      <th>1</th>\n",
       "      <td>2</td>\n",
       "      <td>New Orleans Cajun Delights</td>\n",
       "      <td>Shelley Burke</td>\n",
       "      <td>Order Administrator</td>\n",
       "      <td>P.O. Box 78934</td>\n",
       "      <td>New Orleans</td>\n",
       "      <td>North America</td>\n",
       "      <td>70117</td>\n",
       "      <td>USA</td>\n",
       "      <td>(100) 555-4822</td>\n",
       "      <td>None</td>\n",
       "      <td>#CAJUN.HTM#</td>\n",
       "    </tr>\n",
       "    <tr>\n",
       "      <th>2</th>\n",
       "      <td>3</td>\n",
       "      <td>Grandma Kelly's Homestead</td>\n",
       "      <td>Regina Murphy</td>\n",
       "      <td>Sales Representative</td>\n",
       "      <td>707 Oxford Rd.</td>\n",
       "      <td>Ann Arbor</td>\n",
       "      <td>North America</td>\n",
       "      <td>48104</td>\n",
       "      <td>USA</td>\n",
       "      <td>(313) 555-5735</td>\n",
       "      <td>(313) 555-3349</td>\n",
       "      <td>None</td>\n",
       "    </tr>\n",
       "  </tbody>\n",
       "</table>\n",
       "</div>"
      ],
      "text/plain": [
       "   Id                 CompanyName       ContactName          ContactTitle  \\\n",
       "0   1              Exotic Liquids  Charlotte Cooper    Purchasing Manager   \n",
       "1   2  New Orleans Cajun Delights     Shelley Burke   Order Administrator   \n",
       "2   3   Grandma Kelly's Homestead     Regina Murphy  Sales Representative   \n",
       "\n",
       "          Address         City         Region PostalCode Country  \\\n",
       "0  49 Gilbert St.       London  British Isles    EC1 4SD      UK   \n",
       "1  P.O. Box 78934  New Orleans  North America      70117     USA   \n",
       "2  707 Oxford Rd.    Ann Arbor  North America      48104     USA   \n",
       "\n",
       "            Phone             Fax     HomePage  \n",
       "0  (171) 555-2222            None         None  \n",
       "1  (100) 555-4822            None  #CAJUN.HTM#  \n",
       "2  (313) 555-5735  (313) 555-3349         None  "
      ]
     },
     "execution_count": 51,
     "metadata": {},
     "output_type": "execute_result"
    }
   ],
   "source": [
    "# Reviewing Supplier DataFrame\n",
    "df_supplier.head(3)"
   ]
  },
  {
   "cell_type": "code",
   "execution_count": 52,
   "metadata": {},
   "outputs": [
    {
     "name": "stdout",
     "output_type": "stream",
     "text": [
      "<class 'pandas.core.frame.DataFrame'>\n",
      "RangeIndex: 29 entries, 0 to 28\n",
      "Data columns (total 12 columns):\n",
      "Id              29 non-null int64\n",
      "CompanyName     29 non-null object\n",
      "ContactName     29 non-null object\n",
      "ContactTitle    29 non-null object\n",
      "Address         29 non-null object\n",
      "City            29 non-null object\n",
      "Region          29 non-null object\n",
      "PostalCode      29 non-null object\n",
      "Country         29 non-null object\n",
      "Phone           29 non-null object\n",
      "Fax             13 non-null object\n",
      "HomePage        5 non-null object\n",
      "dtypes: int64(1), object(11)\n",
      "memory usage: 2.8+ KB\n",
      "None\n"
     ]
    }
   ],
   "source": [
    "# Investigating Supplier DataFrame for presence of Null Values\n",
    "print(df_supplier.info())"
   ]
  },
  {
   "cell_type": "code",
   "execution_count": 53,
   "metadata": {},
   "outputs": [],
   "source": [
    "# Dropping the 'Fax' and 'HomePage' columns:\n",
    "df_supplier.drop(['Fax', 'HomePage'], axis=1, inplace=True)"
   ]
  },
  {
   "cell_type": "code",
   "execution_count": 54,
   "metadata": {},
   "outputs": [
    {
     "name": "stdout",
     "output_type": "stream",
     "text": [
      "<class 'pandas.core.frame.DataFrame'>\n",
      "RangeIndex: 29 entries, 0 to 28\n",
      "Data columns (total 10 columns):\n",
      "Id              29 non-null int64\n",
      "CompanyName     29 non-null object\n",
      "ContactName     29 non-null object\n",
      "ContactTitle    29 non-null object\n",
      "Address         29 non-null object\n",
      "City            29 non-null object\n",
      "Region          29 non-null object\n",
      "PostalCode      29 non-null object\n",
      "Country         29 non-null object\n",
      "Phone           29 non-null object\n",
      "dtypes: int64(1), object(9)\n",
      "memory usage: 2.3+ KB\n"
     ]
    }
   ],
   "source": [
    "df_supplier.info()"
   ]
  },
  {
   "cell_type": "markdown",
   "metadata": {},
   "source": [
    "#### Territory Table Scrubbing:"
   ]
  },
  {
   "cell_type": "code",
   "execution_count": 55,
   "metadata": {},
   "outputs": [
    {
     "data": {
      "text/html": [
       "<div>\n",
       "<style scoped>\n",
       "    .dataframe tbody tr th:only-of-type {\n",
       "        vertical-align: middle;\n",
       "    }\n",
       "\n",
       "    .dataframe tbody tr th {\n",
       "        vertical-align: top;\n",
       "    }\n",
       "\n",
       "    .dataframe thead th {\n",
       "        text-align: right;\n",
       "    }\n",
       "</style>\n",
       "<table border=\"1\" class=\"dataframe\">\n",
       "  <thead>\n",
       "    <tr style=\"text-align: right;\">\n",
       "      <th></th>\n",
       "      <th>Id</th>\n",
       "      <th>TerritoryDescription</th>\n",
       "      <th>RegionId</th>\n",
       "    </tr>\n",
       "  </thead>\n",
       "  <tbody>\n",
       "    <tr>\n",
       "      <th>0</th>\n",
       "      <td>01581</td>\n",
       "      <td>Westboro</td>\n",
       "      <td>1</td>\n",
       "    </tr>\n",
       "    <tr>\n",
       "      <th>1</th>\n",
       "      <td>01730</td>\n",
       "      <td>Bedford</td>\n",
       "      <td>1</td>\n",
       "    </tr>\n",
       "    <tr>\n",
       "      <th>2</th>\n",
       "      <td>01833</td>\n",
       "      <td>Georgetow</td>\n",
       "      <td>1</td>\n",
       "    </tr>\n",
       "  </tbody>\n",
       "</table>\n",
       "</div>"
      ],
      "text/plain": [
       "      Id TerritoryDescription  RegionId\n",
       "0  01581             Westboro         1\n",
       "1  01730              Bedford         1\n",
       "2  01833            Georgetow         1"
      ]
     },
     "execution_count": 55,
     "metadata": {},
     "output_type": "execute_result"
    }
   ],
   "source": [
    "# Reviewing Territory DataFrame:\n",
    "df_territory.head(3)"
   ]
  },
  {
   "cell_type": "code",
   "execution_count": 56,
   "metadata": {},
   "outputs": [
    {
     "name": "stdout",
     "output_type": "stream",
     "text": [
      "<class 'pandas.core.frame.DataFrame'>\n",
      "RangeIndex: 53 entries, 0 to 52\n",
      "Data columns (total 3 columns):\n",
      "Id                      53 non-null object\n",
      "TerritoryDescription    53 non-null object\n",
      "RegionId                53 non-null int64\n",
      "dtypes: int64(1), object(2)\n",
      "memory usage: 1.3+ KB\n",
      "None\n"
     ]
    }
   ],
   "source": [
    "print(df_territory.info())"
   ]
  },
  {
   "cell_type": "code",
   "execution_count": 57,
   "metadata": {},
   "outputs": [
    {
     "name": "stdout",
     "output_type": "stream",
     "text": [
      "Category DF Len: 8\n",
      "Customer DF Len: 91\n",
      "CustomerCustomerDemo DF Len: 0\n",
      "CustomerDemographic DF Len: 0\n",
      "Employee DF Len: 9\n",
      "EmployeeTerritory DF Len: 49\n",
      "Order DF Len: 830\n",
      "OrderDetail DF Len: 2155\n",
      "Product DF Len: 77\n",
      "Region DF Len: 4\n",
      "Shipper DF Len: 3\n",
      "Supplier DF Len: 29\n",
      "Territory DF Len: 53\n"
     ]
    }
   ],
   "source": [
    "# Reviewing the length of each DataFrame\n",
    "print(f'Category DF Len: {len(df_category)}')\n",
    "print(f'Customer DF Len: {len(df_customer)}')\n",
    "print(f'CustomerCustomerDemo DF Len: {len(df_customercustomerdemo)}')\n",
    "print(f'CustomerDemographic DF Len: {len(df_customerdemographic)}')\n",
    "print(f'Employee DF Len: {len(df_employee)}')\n",
    "print(f'EmployeeTerritory DF Len: {len(df_employeeterritory)}')\n",
    "print(f'Order DF Len: {len(df_order)}')\n",
    "print(f'OrderDetail DF Len: {len(df_orderdetail)}')\n",
    "print(f'Product DF Len: {len(df_product)}')\n",
    "print(f'Region DF Len: {len(df_region)}')\n",
    "print(f'Shipper DF Len: {len(df_shipper)}')\n",
    "print(f'Supplier DF Len: {len(df_supplier)}')\n",
    "print(f'Territory DF Len: {len(df_territory)}')"
   ]
  },
  {
   "cell_type": "markdown",
   "metadata": {},
   "source": [
    "## 3. Data Exploration:"
   ]
  },
  {
   "cell_type": "markdown",
   "metadata": {},
   "source": [
    "Before further investigating the dataset, we should first re-state the scope of our inquiry by writing 'guiding questions' that we'll answer in order to make targeted business recommendations for Northwind.\n",
    "\n",
    "1. Do discounts have a statistically significant effect on the number of products customers order? If so, at what level(s) of discount?\n",
    "2. Do discounts have statistically significant effect on number of products customers order on a regional level? If so, which region(s) ...?\n",
    "3. Are discounts more effective on \"expensive\" products?\n",
    "4. Customer Demographics and Discounts\n",
    "5. Regions and efficacy of Discounts\n",
    "6. Season and discounts\n",
    "7. Does discount affect sales by product category?\n",
    "8. Does discount affect sales volume (PDF)"
   ]
  },
  {
   "cell_type": "markdown",
   "metadata": {},
   "source": [
    "### Functions I am/may use:"
   ]
  },
  {
   "cell_type": "code",
   "execution_count": 58,
   "metadata": {},
   "outputs": [],
   "source": [
    "# Calculate Population Mean:\n",
    "def calculate_mu(x):\n",
    "    d = float(sum(x.values)/len(x))\n",
    "    return (d)"
   ]
  },
  {
   "cell_type": "code",
   "execution_count": null,
   "metadata": {},
   "outputs": [],
   "source": []
  },
  {
   "cell_type": "code",
   "execution_count": 59,
   "metadata": {
    "scrolled": true
   },
   "outputs": [
    {
     "data": {
      "text/plain": [
       "\"\\n# Calculate Sample Means:\\ndef calc_sample_means(sample_size, data):\\n    n = sample_size\\n    \\n    # Calc population mean:\\n    mu = calculate_mu(data)\\n    print(f'Population Mean: {mu}')\\n    \\n    # Generate all combinations using given sample size 'n':\\n    combs = list(itertools.combinations(data, n))\\n    print(f'Combinations: {combs}')\\n    \\n    # Calculate Sample Means\\n    x_bar_list = []\\n    \\n    for i in range(len(combs)):\\n        sum = 0\\n        for j in range n:\\n            key = combs[i][j]\\n\""
      ]
     },
     "execution_count": 59,
     "metadata": {},
     "output_type": "execute_result"
    }
   ],
   "source": [
    "'''\n",
    "# Calculate Sample Means:\n",
    "def calc_sample_means(sample_size, data):\n",
    "    n = sample_size\n",
    "    \n",
    "    # Calc population mean:\n",
    "    mu = calculate_mu(data)\n",
    "    print(f'Population Mean: {mu}')\n",
    "    \n",
    "    # Generate all combinations using given sample size 'n':\n",
    "    combs = list(itertools.combinations(data, n))\n",
    "    print(f'Combinations: {combs}')\n",
    "    \n",
    "    # Calculate Sample Means\n",
    "    x_bar_list = []\n",
    "    \n",
    "    for i in range(len(combs)):\n",
    "        sum = 0\n",
    "        for j in range n:\n",
    "            key = combs[i][j]\n",
    "'''"
   ]
  },
  {
   "cell_type": "code",
   "execution_count": 60,
   "metadata": {
    "scrolled": true
   },
   "outputs": [
    {
     "name": "stdout",
     "output_type": "stream",
     "text": [
      "2019-06-16 18:43:25,159 INFO sqlalchemy.engine.base.Engine SELECT o.ID, c.CompanyName, Count(*) num_orders\n",
      "            FROM [Order] o INNER JOIN Customer c on o.CustomerID = c.ID GROUP BY\n",
      "            c.CompanyName ORDER BY num_orders DESC;\n",
      "2019-06-16 18:43:25,160 INFO sqlalchemy.engine.base.Engine ()\n"
     ]
    },
    {
     "data": {
      "text/html": [
       "<div>\n",
       "<style scoped>\n",
       "    .dataframe tbody tr th:only-of-type {\n",
       "        vertical-align: middle;\n",
       "    }\n",
       "\n",
       "    .dataframe tbody tr th {\n",
       "        vertical-align: top;\n",
       "    }\n",
       "\n",
       "    .dataframe thead th {\n",
       "        text-align: right;\n",
       "    }\n",
       "</style>\n",
       "<table border=\"1\" class=\"dataframe\">\n",
       "  <thead>\n",
       "    <tr style=\"text-align: right;\">\n",
       "      <th></th>\n",
       "      <th>Id</th>\n",
       "      <th>CompanyName</th>\n",
       "      <th>num_orders</th>\n",
       "    </tr>\n",
       "  </thead>\n",
       "  <tbody>\n",
       "    <tr>\n",
       "      <th>0</th>\n",
       "      <td>11064</td>\n",
       "      <td>Save-a-lot Markets</td>\n",
       "      <td>31</td>\n",
       "    </tr>\n",
       "    <tr>\n",
       "      <th>1</th>\n",
       "      <td>11072</td>\n",
       "      <td>Ernst Handel</td>\n",
       "      <td>30</td>\n",
       "    </tr>\n",
       "    <tr>\n",
       "      <th>2</th>\n",
       "      <td>11021</td>\n",
       "      <td>QUICK-Stop</td>\n",
       "      <td>28</td>\n",
       "    </tr>\n",
       "  </tbody>\n",
       "</table>\n",
       "</div>"
      ],
      "text/plain": [
       "      Id         CompanyName  num_orders\n",
       "0  11064  Save-a-lot Markets          31\n",
       "1  11072        Ernst Handel          30\n",
       "2  11021          QUICK-Stop          28"
      ]
     },
     "execution_count": 60,
     "metadata": {},
     "output_type": "execute_result"
    }
   ],
   "source": [
    "df = pd.read_sql_query(\"\"\"SELECT o.ID, c.CompanyName, Count(*) num_orders\n",
    "            FROM [Order] o INNER JOIN Customer c on o.CustomerID = c.ID GROUP BY\n",
    "            c.CompanyName ORDER BY num_orders DESC;\"\"\", engine)\n",
    "df.head(3)"
   ]
  },
  {
   "cell_type": "code",
   "execution_count": 61,
   "metadata": {},
   "outputs": [
    {
     "name": "stdout",
     "output_type": "stream",
     "text": [
      "2019-06-16 18:43:25,173 INFO sqlalchemy.engine.base.Engine SELECT name FROM sqlite_master WHERE type='table' ORDER BY name\n",
      "2019-06-16 18:43:25,174 INFO sqlalchemy.engine.base.Engine ()\n",
      "2019-06-16 18:43:25,176 INFO sqlalchemy.engine.base.Engine PRAGMA table_info(\"Category\")\n",
      "2019-06-16 18:43:25,176 INFO sqlalchemy.engine.base.Engine ()\n",
      "2019-06-16 18:43:25,178 INFO sqlalchemy.engine.base.Engine SELECT sql FROM  (SELECT * FROM sqlite_master UNION ALL   SELECT * FROM sqlite_temp_master) WHERE name = 'Category' AND type = 'table'\n",
      "2019-06-16 18:43:25,178 INFO sqlalchemy.engine.base.Engine ()\n",
      "2019-06-16 18:43:25,180 INFO sqlalchemy.engine.base.Engine PRAGMA foreign_key_list(\"Category\")\n",
      "2019-06-16 18:43:25,180 INFO sqlalchemy.engine.base.Engine ()\n",
      "2019-06-16 18:43:25,181 INFO sqlalchemy.engine.base.Engine SELECT sql FROM  (SELECT * FROM sqlite_master UNION ALL   SELECT * FROM sqlite_temp_master) WHERE name = 'Category' AND type = 'table'\n",
      "2019-06-16 18:43:25,182 INFO sqlalchemy.engine.base.Engine ()\n",
      "2019-06-16 18:43:25,185 INFO sqlalchemy.engine.base.Engine PRAGMA index_list(\"Category\")\n",
      "2019-06-16 18:43:25,186 INFO sqlalchemy.engine.base.Engine ()\n",
      "2019-06-16 18:43:25,187 INFO sqlalchemy.engine.base.Engine PRAGMA index_list(\"Category\")\n",
      "2019-06-16 18:43:25,188 INFO sqlalchemy.engine.base.Engine ()\n",
      "2019-06-16 18:43:25,189 INFO sqlalchemy.engine.base.Engine SELECT sql FROM  (SELECT * FROM sqlite_master UNION ALL   SELECT * FROM sqlite_temp_master) WHERE name = 'Category' AND type = 'table'\n",
      "2019-06-16 18:43:25,190 INFO sqlalchemy.engine.base.Engine ()\n",
      "2019-06-16 18:43:25,193 INFO sqlalchemy.engine.base.Engine PRAGMA table_info(\"Customer\")\n",
      "2019-06-16 18:43:25,194 INFO sqlalchemy.engine.base.Engine ()\n",
      "2019-06-16 18:43:25,195 INFO sqlalchemy.engine.base.Engine SELECT sql FROM  (SELECT * FROM sqlite_master UNION ALL   SELECT * FROM sqlite_temp_master) WHERE name = 'Customer' AND type = 'table'\n",
      "2019-06-16 18:43:25,196 INFO sqlalchemy.engine.base.Engine ()\n",
      "2019-06-16 18:43:25,197 INFO sqlalchemy.engine.base.Engine PRAGMA foreign_key_list(\"Customer\")\n",
      "2019-06-16 18:43:25,198 INFO sqlalchemy.engine.base.Engine ()\n",
      "2019-06-16 18:43:25,199 INFO sqlalchemy.engine.base.Engine SELECT sql FROM  (SELECT * FROM sqlite_master UNION ALL   SELECT * FROM sqlite_temp_master) WHERE name = 'Customer' AND type = 'table'\n",
      "2019-06-16 18:43:25,199 INFO sqlalchemy.engine.base.Engine ()\n",
      "2019-06-16 18:43:25,200 INFO sqlalchemy.engine.base.Engine PRAGMA index_list(\"Customer\")\n",
      "2019-06-16 18:43:25,201 INFO sqlalchemy.engine.base.Engine ()\n",
      "2019-06-16 18:43:25,202 INFO sqlalchemy.engine.base.Engine PRAGMA index_list(\"Customer\")\n",
      "2019-06-16 18:43:25,203 INFO sqlalchemy.engine.base.Engine ()\n",
      "2019-06-16 18:43:25,204 INFO sqlalchemy.engine.base.Engine PRAGMA index_info(\"sqlite_autoindex_Customer_1\")\n",
      "2019-06-16 18:43:25,204 INFO sqlalchemy.engine.base.Engine ()\n",
      "2019-06-16 18:43:25,206 INFO sqlalchemy.engine.base.Engine SELECT sql FROM  (SELECT * FROM sqlite_master UNION ALL   SELECT * FROM sqlite_temp_master) WHERE name = 'Customer' AND type = 'table'\n",
      "2019-06-16 18:43:25,206 INFO sqlalchemy.engine.base.Engine ()\n",
      "2019-06-16 18:43:25,208 INFO sqlalchemy.engine.base.Engine PRAGMA table_info(\"CustomerCustomerDemo\")\n",
      "2019-06-16 18:43:25,209 INFO sqlalchemy.engine.base.Engine ()\n",
      "2019-06-16 18:43:25,210 INFO sqlalchemy.engine.base.Engine SELECT sql FROM  (SELECT * FROM sqlite_master UNION ALL   SELECT * FROM sqlite_temp_master) WHERE name = 'CustomerCustomerDemo' AND type = 'table'\n",
      "2019-06-16 18:43:25,211 INFO sqlalchemy.engine.base.Engine ()\n",
      "2019-06-16 18:43:25,212 INFO sqlalchemy.engine.base.Engine PRAGMA foreign_key_list(\"CustomerCustomerDemo\")\n",
      "2019-06-16 18:43:25,213 INFO sqlalchemy.engine.base.Engine ()\n",
      "2019-06-16 18:43:25,214 INFO sqlalchemy.engine.base.Engine SELECT sql FROM  (SELECT * FROM sqlite_master UNION ALL   SELECT * FROM sqlite_temp_master) WHERE name = 'CustomerCustomerDemo' AND type = 'table'\n",
      "2019-06-16 18:43:25,214 INFO sqlalchemy.engine.base.Engine ()\n",
      "2019-06-16 18:43:25,216 INFO sqlalchemy.engine.base.Engine PRAGMA index_list(\"CustomerCustomerDemo\")\n",
      "2019-06-16 18:43:25,216 INFO sqlalchemy.engine.base.Engine ()\n",
      "2019-06-16 18:43:25,217 INFO sqlalchemy.engine.base.Engine PRAGMA index_list(\"CustomerCustomerDemo\")\n",
      "2019-06-16 18:43:25,218 INFO sqlalchemy.engine.base.Engine ()\n",
      "2019-06-16 18:43:25,219 INFO sqlalchemy.engine.base.Engine PRAGMA index_info(\"sqlite_autoindex_CustomerCustomerDemo_1\")\n",
      "2019-06-16 18:43:25,220 INFO sqlalchemy.engine.base.Engine ()\n",
      "2019-06-16 18:43:25,221 INFO sqlalchemy.engine.base.Engine SELECT sql FROM  (SELECT * FROM sqlite_master UNION ALL   SELECT * FROM sqlite_temp_master) WHERE name = 'CustomerCustomerDemo' AND type = 'table'\n",
      "2019-06-16 18:43:25,221 INFO sqlalchemy.engine.base.Engine ()\n",
      "2019-06-16 18:43:25,223 INFO sqlalchemy.engine.base.Engine PRAGMA table_info(\"CustomerDemographic\")\n",
      "2019-06-16 18:43:25,224 INFO sqlalchemy.engine.base.Engine ()\n",
      "2019-06-16 18:43:25,225 INFO sqlalchemy.engine.base.Engine SELECT sql FROM  (SELECT * FROM sqlite_master UNION ALL   SELECT * FROM sqlite_temp_master) WHERE name = 'CustomerDemographic' AND type = 'table'\n",
      "2019-06-16 18:43:25,226 INFO sqlalchemy.engine.base.Engine ()\n",
      "2019-06-16 18:43:25,227 INFO sqlalchemy.engine.base.Engine PRAGMA foreign_key_list(\"CustomerDemographic\")\n",
      "2019-06-16 18:43:25,228 INFO sqlalchemy.engine.base.Engine ()\n",
      "2019-06-16 18:43:25,229 INFO sqlalchemy.engine.base.Engine SELECT sql FROM  (SELECT * FROM sqlite_master UNION ALL   SELECT * FROM sqlite_temp_master) WHERE name = 'CustomerDemographic' AND type = 'table'\n",
      "2019-06-16 18:43:25,230 INFO sqlalchemy.engine.base.Engine ()\n",
      "2019-06-16 18:43:25,231 INFO sqlalchemy.engine.base.Engine PRAGMA index_list(\"CustomerDemographic\")\n",
      "2019-06-16 18:43:25,232 INFO sqlalchemy.engine.base.Engine ()\n",
      "2019-06-16 18:43:25,233 INFO sqlalchemy.engine.base.Engine PRAGMA index_list(\"CustomerDemographic\")\n",
      "2019-06-16 18:43:25,234 INFO sqlalchemy.engine.base.Engine ()\n",
      "2019-06-16 18:43:25,235 INFO sqlalchemy.engine.base.Engine PRAGMA index_info(\"sqlite_autoindex_CustomerDemographic_1\")\n",
      "2019-06-16 18:43:25,236 INFO sqlalchemy.engine.base.Engine ()\n",
      "2019-06-16 18:43:25,237 INFO sqlalchemy.engine.base.Engine SELECT sql FROM  (SELECT * FROM sqlite_master UNION ALL   SELECT * FROM sqlite_temp_master) WHERE name = 'CustomerDemographic' AND type = 'table'\n",
      "2019-06-16 18:43:25,238 INFO sqlalchemy.engine.base.Engine ()\n",
      "2019-06-16 18:43:25,239 INFO sqlalchemy.engine.base.Engine PRAGMA table_info(\"Employee\")\n",
      "2019-06-16 18:43:25,240 INFO sqlalchemy.engine.base.Engine ()\n",
      "2019-06-16 18:43:25,242 INFO sqlalchemy.engine.base.Engine SELECT sql FROM  (SELECT * FROM sqlite_master UNION ALL   SELECT * FROM sqlite_temp_master) WHERE name = 'Employee' AND type = 'table'\n",
      "2019-06-16 18:43:25,243 INFO sqlalchemy.engine.base.Engine ()\n",
      "2019-06-16 18:43:25,244 INFO sqlalchemy.engine.base.Engine PRAGMA foreign_key_list(\"Employee\")\n",
      "2019-06-16 18:43:25,245 INFO sqlalchemy.engine.base.Engine ()\n",
      "2019-06-16 18:43:25,246 INFO sqlalchemy.engine.base.Engine SELECT sql FROM  (SELECT * FROM sqlite_master UNION ALL   SELECT * FROM sqlite_temp_master) WHERE name = 'Employee' AND type = 'table'\n",
      "2019-06-16 18:43:25,247 INFO sqlalchemy.engine.base.Engine ()\n",
      "2019-06-16 18:43:25,248 INFO sqlalchemy.engine.base.Engine PRAGMA index_list(\"Employee\")\n",
      "2019-06-16 18:43:25,249 INFO sqlalchemy.engine.base.Engine ()\n",
      "2019-06-16 18:43:25,250 INFO sqlalchemy.engine.base.Engine PRAGMA index_list(\"Employee\")\n",
      "2019-06-16 18:43:25,251 INFO sqlalchemy.engine.base.Engine ()\n",
      "2019-06-16 18:43:25,252 INFO sqlalchemy.engine.base.Engine SELECT sql FROM  (SELECT * FROM sqlite_master UNION ALL   SELECT * FROM sqlite_temp_master) WHERE name = 'Employee' AND type = 'table'\n",
      "2019-06-16 18:43:25,253 INFO sqlalchemy.engine.base.Engine ()\n",
      "2019-06-16 18:43:25,254 INFO sqlalchemy.engine.base.Engine PRAGMA table_info(\"EmployeeTerritory\")\n",
      "2019-06-16 18:43:25,255 INFO sqlalchemy.engine.base.Engine ()\n",
      "2019-06-16 18:43:25,256 INFO sqlalchemy.engine.base.Engine SELECT sql FROM  (SELECT * FROM sqlite_master UNION ALL   SELECT * FROM sqlite_temp_master) WHERE name = 'EmployeeTerritory' AND type = 'table'\n",
      "2019-06-16 18:43:25,257 INFO sqlalchemy.engine.base.Engine ()\n"
     ]
    },
    {
     "name": "stdout",
     "output_type": "stream",
     "text": [
      "2019-06-16 18:43:25,258 INFO sqlalchemy.engine.base.Engine PRAGMA foreign_key_list(\"EmployeeTerritory\")\n",
      "2019-06-16 18:43:25,258 INFO sqlalchemy.engine.base.Engine ()\n",
      "2019-06-16 18:43:25,259 INFO sqlalchemy.engine.base.Engine SELECT sql FROM  (SELECT * FROM sqlite_master UNION ALL   SELECT * FROM sqlite_temp_master) WHERE name = 'EmployeeTerritory' AND type = 'table'\n",
      "2019-06-16 18:43:25,260 INFO sqlalchemy.engine.base.Engine ()\n",
      "2019-06-16 18:43:25,261 INFO sqlalchemy.engine.base.Engine PRAGMA index_list(\"EmployeeTerritory\")\n",
      "2019-06-16 18:43:25,261 INFO sqlalchemy.engine.base.Engine ()\n",
      "2019-06-16 18:43:25,263 INFO sqlalchemy.engine.base.Engine PRAGMA index_list(\"EmployeeTerritory\")\n",
      "2019-06-16 18:43:25,263 INFO sqlalchemy.engine.base.Engine ()\n",
      "2019-06-16 18:43:25,264 INFO sqlalchemy.engine.base.Engine PRAGMA index_info(\"sqlite_autoindex_EmployeeTerritory_1\")\n",
      "2019-06-16 18:43:25,265 INFO sqlalchemy.engine.base.Engine ()\n",
      "2019-06-16 18:43:25,266 INFO sqlalchemy.engine.base.Engine SELECT sql FROM  (SELECT * FROM sqlite_master UNION ALL   SELECT * FROM sqlite_temp_master) WHERE name = 'EmployeeTerritory' AND type = 'table'\n",
      "2019-06-16 18:43:25,267 INFO sqlalchemy.engine.base.Engine ()\n",
      "2019-06-16 18:43:25,269 INFO sqlalchemy.engine.base.Engine PRAGMA table_info(\"Order\")\n",
      "2019-06-16 18:43:25,269 INFO sqlalchemy.engine.base.Engine ()\n",
      "2019-06-16 18:43:25,272 INFO sqlalchemy.engine.base.Engine SELECT sql FROM  (SELECT * FROM sqlite_master UNION ALL   SELECT * FROM sqlite_temp_master) WHERE name = 'Order' AND type = 'table'\n",
      "2019-06-16 18:43:25,272 INFO sqlalchemy.engine.base.Engine ()\n",
      "2019-06-16 18:43:25,274 INFO sqlalchemy.engine.base.Engine PRAGMA foreign_key_list(\"Order\")\n",
      "2019-06-16 18:43:25,275 INFO sqlalchemy.engine.base.Engine ()\n",
      "2019-06-16 18:43:25,275 INFO sqlalchemy.engine.base.Engine SELECT sql FROM  (SELECT * FROM sqlite_master UNION ALL   SELECT * FROM sqlite_temp_master) WHERE name = 'Order' AND type = 'table'\n",
      "2019-06-16 18:43:25,276 INFO sqlalchemy.engine.base.Engine ()\n",
      "2019-06-16 18:43:25,277 INFO sqlalchemy.engine.base.Engine PRAGMA index_list(\"Order\")\n",
      "2019-06-16 18:43:25,277 INFO sqlalchemy.engine.base.Engine ()\n",
      "2019-06-16 18:43:25,279 INFO sqlalchemy.engine.base.Engine PRAGMA index_list(\"Order\")\n",
      "2019-06-16 18:43:25,279 INFO sqlalchemy.engine.base.Engine ()\n",
      "2019-06-16 18:43:25,280 INFO sqlalchemy.engine.base.Engine SELECT sql FROM  (SELECT * FROM sqlite_master UNION ALL   SELECT * FROM sqlite_temp_master) WHERE name = 'Order' AND type = 'table'\n",
      "2019-06-16 18:43:25,281 INFO sqlalchemy.engine.base.Engine ()\n",
      "2019-06-16 18:43:25,282 INFO sqlalchemy.engine.base.Engine PRAGMA table_info(\"OrderDetail\")\n",
      "2019-06-16 18:43:25,283 INFO sqlalchemy.engine.base.Engine ()\n",
      "2019-06-16 18:43:25,285 INFO sqlalchemy.engine.base.Engine SELECT sql FROM  (SELECT * FROM sqlite_master UNION ALL   SELECT * FROM sqlite_temp_master) WHERE name = 'OrderDetail' AND type = 'table'\n",
      "2019-06-16 18:43:25,285 INFO sqlalchemy.engine.base.Engine ()\n",
      "2019-06-16 18:43:25,287 INFO sqlalchemy.engine.base.Engine PRAGMA foreign_key_list(\"OrderDetail\")\n",
      "2019-06-16 18:43:25,287 INFO sqlalchemy.engine.base.Engine ()\n",
      "2019-06-16 18:43:25,288 INFO sqlalchemy.engine.base.Engine SELECT sql FROM  (SELECT * FROM sqlite_master UNION ALL   SELECT * FROM sqlite_temp_master) WHERE name = 'OrderDetail' AND type = 'table'\n",
      "2019-06-16 18:43:25,289 INFO sqlalchemy.engine.base.Engine ()\n",
      "2019-06-16 18:43:25,291 INFO sqlalchemy.engine.base.Engine PRAGMA index_list(\"OrderDetail\")\n",
      "2019-06-16 18:43:25,291 INFO sqlalchemy.engine.base.Engine ()\n",
      "2019-06-16 18:43:25,292 INFO sqlalchemy.engine.base.Engine PRAGMA index_list(\"OrderDetail\")\n",
      "2019-06-16 18:43:25,293 INFO sqlalchemy.engine.base.Engine ()\n",
      "2019-06-16 18:43:25,294 INFO sqlalchemy.engine.base.Engine PRAGMA index_info(\"sqlite_autoindex_OrderDetail_1\")\n",
      "2019-06-16 18:43:25,295 INFO sqlalchemy.engine.base.Engine ()\n",
      "2019-06-16 18:43:25,296 INFO sqlalchemy.engine.base.Engine SELECT sql FROM  (SELECT * FROM sqlite_master UNION ALL   SELECT * FROM sqlite_temp_master) WHERE name = 'OrderDetail' AND type = 'table'\n",
      "2019-06-16 18:43:25,297 INFO sqlalchemy.engine.base.Engine ()\n",
      "2019-06-16 18:43:25,298 INFO sqlalchemy.engine.base.Engine PRAGMA table_info(\"Product\")\n",
      "2019-06-16 18:43:25,299 INFO sqlalchemy.engine.base.Engine ()\n",
      "2019-06-16 18:43:25,301 INFO sqlalchemy.engine.base.Engine SELECT sql FROM  (SELECT * FROM sqlite_master UNION ALL   SELECT * FROM sqlite_temp_master) WHERE name = 'Product' AND type = 'table'\n",
      "2019-06-16 18:43:25,301 INFO sqlalchemy.engine.base.Engine ()\n",
      "2019-06-16 18:43:25,303 INFO sqlalchemy.engine.base.Engine PRAGMA foreign_key_list(\"Product\")\n",
      "2019-06-16 18:43:25,304 INFO sqlalchemy.engine.base.Engine ()\n",
      "2019-06-16 18:43:25,305 INFO sqlalchemy.engine.base.Engine SELECT sql FROM  (SELECT * FROM sqlite_master UNION ALL   SELECT * FROM sqlite_temp_master) WHERE name = 'Product' AND type = 'table'\n",
      "2019-06-16 18:43:25,305 INFO sqlalchemy.engine.base.Engine ()\n",
      "2019-06-16 18:43:25,307 INFO sqlalchemy.engine.base.Engine PRAGMA index_list(\"Product\")\n",
      "2019-06-16 18:43:25,308 INFO sqlalchemy.engine.base.Engine ()\n",
      "2019-06-16 18:43:25,309 INFO sqlalchemy.engine.base.Engine PRAGMA index_list(\"Product\")\n",
      "2019-06-16 18:43:25,309 INFO sqlalchemy.engine.base.Engine ()\n",
      "2019-06-16 18:43:25,311 INFO sqlalchemy.engine.base.Engine SELECT sql FROM  (SELECT * FROM sqlite_master UNION ALL   SELECT * FROM sqlite_temp_master) WHERE name = 'Product' AND type = 'table'\n",
      "2019-06-16 18:43:25,311 INFO sqlalchemy.engine.base.Engine ()\n",
      "2019-06-16 18:43:25,313 INFO sqlalchemy.engine.base.Engine PRAGMA table_info(\"Region\")\n",
      "2019-06-16 18:43:25,313 INFO sqlalchemy.engine.base.Engine ()\n",
      "2019-06-16 18:43:25,315 INFO sqlalchemy.engine.base.Engine SELECT sql FROM  (SELECT * FROM sqlite_master UNION ALL   SELECT * FROM sqlite_temp_master) WHERE name = 'Region' AND type = 'table'\n",
      "2019-06-16 18:43:25,315 INFO sqlalchemy.engine.base.Engine ()\n",
      "2019-06-16 18:43:25,317 INFO sqlalchemy.engine.base.Engine PRAGMA foreign_key_list(\"Region\")\n",
      "2019-06-16 18:43:25,317 INFO sqlalchemy.engine.base.Engine ()\n",
      "2019-06-16 18:43:25,318 INFO sqlalchemy.engine.base.Engine SELECT sql FROM  (SELECT * FROM sqlite_master UNION ALL   SELECT * FROM sqlite_temp_master) WHERE name = 'Region' AND type = 'table'\n",
      "2019-06-16 18:43:25,319 INFO sqlalchemy.engine.base.Engine ()\n",
      "2019-06-16 18:43:25,320 INFO sqlalchemy.engine.base.Engine PRAGMA index_list(\"Region\")\n",
      "2019-06-16 18:43:25,321 INFO sqlalchemy.engine.base.Engine ()\n",
      "2019-06-16 18:43:25,322 INFO sqlalchemy.engine.base.Engine PRAGMA index_list(\"Region\")\n",
      "2019-06-16 18:43:25,322 INFO sqlalchemy.engine.base.Engine ()\n",
      "2019-06-16 18:43:25,323 INFO sqlalchemy.engine.base.Engine SELECT sql FROM  (SELECT * FROM sqlite_master UNION ALL   SELECT * FROM sqlite_temp_master) WHERE name = 'Region' AND type = 'table'\n",
      "2019-06-16 18:43:25,324 INFO sqlalchemy.engine.base.Engine ()\n",
      "2019-06-16 18:43:25,325 INFO sqlalchemy.engine.base.Engine PRAGMA table_info(\"Shipper\")\n",
      "2019-06-16 18:43:25,326 INFO sqlalchemy.engine.base.Engine ()\n",
      "2019-06-16 18:43:25,328 INFO sqlalchemy.engine.base.Engine SELECT sql FROM  (SELECT * FROM sqlite_master UNION ALL   SELECT * FROM sqlite_temp_master) WHERE name = 'Shipper' AND type = 'table'\n",
      "2019-06-16 18:43:25,328 INFO sqlalchemy.engine.base.Engine ()\n",
      "2019-06-16 18:43:25,329 INFO sqlalchemy.engine.base.Engine PRAGMA foreign_key_list(\"Shipper\")\n",
      "2019-06-16 18:43:25,330 INFO sqlalchemy.engine.base.Engine ()\n",
      "2019-06-16 18:43:25,331 INFO sqlalchemy.engine.base.Engine SELECT sql FROM  (SELECT * FROM sqlite_master UNION ALL   SELECT * FROM sqlite_temp_master) WHERE name = 'Shipper' AND type = 'table'\n",
      "2019-06-16 18:43:25,332 INFO sqlalchemy.engine.base.Engine ()\n",
      "2019-06-16 18:43:25,333 INFO sqlalchemy.engine.base.Engine PRAGMA index_list(\"Shipper\")\n",
      "2019-06-16 18:43:25,334 INFO sqlalchemy.engine.base.Engine ()\n",
      "2019-06-16 18:43:25,335 INFO sqlalchemy.engine.base.Engine PRAGMA index_list(\"Shipper\")\n",
      "2019-06-16 18:43:25,335 INFO sqlalchemy.engine.base.Engine ()\n",
      "2019-06-16 18:43:25,336 INFO sqlalchemy.engine.base.Engine SELECT sql FROM  (SELECT * FROM sqlite_master UNION ALL   SELECT * FROM sqlite_temp_master) WHERE name = 'Shipper' AND type = 'table'\n",
      "2019-06-16 18:43:25,337 INFO sqlalchemy.engine.base.Engine ()\n"
     ]
    },
    {
     "name": "stdout",
     "output_type": "stream",
     "text": [
      "2019-06-16 18:43:25,338 INFO sqlalchemy.engine.base.Engine PRAGMA table_info(\"Supplier\")\n",
      "2019-06-16 18:43:25,339 INFO sqlalchemy.engine.base.Engine ()\n",
      "2019-06-16 18:43:25,340 INFO sqlalchemy.engine.base.Engine SELECT sql FROM  (SELECT * FROM sqlite_master UNION ALL   SELECT * FROM sqlite_temp_master) WHERE name = 'Supplier' AND type = 'table'\n",
      "2019-06-16 18:43:25,341 INFO sqlalchemy.engine.base.Engine ()\n",
      "2019-06-16 18:43:25,342 INFO sqlalchemy.engine.base.Engine PRAGMA foreign_key_list(\"Supplier\")\n",
      "2019-06-16 18:43:25,343 INFO sqlalchemy.engine.base.Engine ()\n",
      "2019-06-16 18:43:25,344 INFO sqlalchemy.engine.base.Engine SELECT sql FROM  (SELECT * FROM sqlite_master UNION ALL   SELECT * FROM sqlite_temp_master) WHERE name = 'Supplier' AND type = 'table'\n",
      "2019-06-16 18:43:25,344 INFO sqlalchemy.engine.base.Engine ()\n",
      "2019-06-16 18:43:25,346 INFO sqlalchemy.engine.base.Engine PRAGMA index_list(\"Supplier\")\n",
      "2019-06-16 18:43:25,346 INFO sqlalchemy.engine.base.Engine ()\n",
      "2019-06-16 18:43:25,347 INFO sqlalchemy.engine.base.Engine PRAGMA index_list(\"Supplier\")\n",
      "2019-06-16 18:43:25,348 INFO sqlalchemy.engine.base.Engine ()\n",
      "2019-06-16 18:43:25,349 INFO sqlalchemy.engine.base.Engine SELECT sql FROM  (SELECT * FROM sqlite_master UNION ALL   SELECT * FROM sqlite_temp_master) WHERE name = 'Supplier' AND type = 'table'\n",
      "2019-06-16 18:43:25,350 INFO sqlalchemy.engine.base.Engine ()\n",
      "2019-06-16 18:43:25,351 INFO sqlalchemy.engine.base.Engine PRAGMA table_info(\"Territory\")\n",
      "2019-06-16 18:43:25,352 INFO sqlalchemy.engine.base.Engine ()\n",
      "2019-06-16 18:43:25,353 INFO sqlalchemy.engine.base.Engine SELECT sql FROM  (SELECT * FROM sqlite_master UNION ALL   SELECT * FROM sqlite_temp_master) WHERE name = 'Territory' AND type = 'table'\n",
      "2019-06-16 18:43:25,354 INFO sqlalchemy.engine.base.Engine ()\n",
      "2019-06-16 18:43:25,355 INFO sqlalchemy.engine.base.Engine PRAGMA foreign_key_list(\"Territory\")\n",
      "2019-06-16 18:43:25,356 INFO sqlalchemy.engine.base.Engine ()\n",
      "2019-06-16 18:43:25,357 INFO sqlalchemy.engine.base.Engine SELECT sql FROM  (SELECT * FROM sqlite_master UNION ALL   SELECT * FROM sqlite_temp_master) WHERE name = 'Territory' AND type = 'table'\n",
      "2019-06-16 18:43:25,357 INFO sqlalchemy.engine.base.Engine ()\n",
      "2019-06-16 18:43:25,358 INFO sqlalchemy.engine.base.Engine PRAGMA index_list(\"Territory\")\n",
      "2019-06-16 18:43:25,359 INFO sqlalchemy.engine.base.Engine ()\n",
      "2019-06-16 18:43:25,360 INFO sqlalchemy.engine.base.Engine PRAGMA index_list(\"Territory\")\n",
      "2019-06-16 18:43:25,360 INFO sqlalchemy.engine.base.Engine ()\n",
      "2019-06-16 18:43:25,361 INFO sqlalchemy.engine.base.Engine PRAGMA index_info(\"sqlite_autoindex_Territory_1\")\n",
      "2019-06-16 18:43:25,362 INFO sqlalchemy.engine.base.Engine ()\n",
      "2019-06-16 18:43:25,363 INFO sqlalchemy.engine.base.Engine SELECT sql FROM  (SELECT * FROM sqlite_master UNION ALL   SELECT * FROM sqlite_temp_master) WHERE name = 'Territory' AND type = 'table'\n",
      "2019-06-16 18:43:25,363 INFO sqlalchemy.engine.base.Engine ()\n"
     ]
    }
   ],
   "source": [
    "metadata = MetaData()\n",
    "metadata.reflect(engine)\n",
    "\n",
    "Base = automap_base(metadata=metadata)\n",
    "Base.prepare()"
   ]
  },
  {
   "cell_type": "code",
   "execution_count": 62,
   "metadata": {},
   "outputs": [
    {
     "data": {
      "text/plain": [
       "\"\\nmeta = MetaData()\\nmeta.reflect(bind=engine)\\nusers_table = meta.tables['users']\\naddresses_table = meta.tables['addresses']\\n\\npprint.pprint(users_table)\\n\\ntables\\n\\nmetadata = MetaData()\\nmetadata.reflect(engine)\\n\\nBase = automap_base(metadata=metadata)\\nBase.prepare()\\n\\n# This is an incomplete function to map tables to classes:\\n\""
      ]
     },
     "execution_count": 62,
     "metadata": {},
     "output_type": "execute_result"
    }
   ],
   "source": [
    "'''\n",
    "meta = MetaData()\n",
    "meta.reflect(bind=engine)\n",
    "users_table = meta.tables['users']\n",
    "addresses_table = meta.tables['addresses']\n",
    "\n",
    "pprint.pprint(users_table)\n",
    "\n",
    "tables\n",
    "\n",
    "metadata = MetaData()\n",
    "metadata.reflect(engine)\n",
    "\n",
    "Base = automap_base(metadata=metadata)\n",
    "Base.prepare()\n",
    "\n",
    "# This is an incomplete function to map tables to classes:\n",
    "'''"
   ]
  },
  {
   "cell_type": "code",
   "execution_count": 63,
   "metadata": {
    "scrolled": true
   },
   "outputs": [
    {
     "data": {
      "text/plain": [
       "\"\\ndef prepare_classes(tables):\\n    class_list = []\\n    for table in tables:\\n        table = class_list.append('Base.classes.'+table)\\n    return class_list\\nbases = prepare_classes(tables)\\nbases\\n\""
      ]
     },
     "execution_count": 63,
     "metadata": {},
     "output_type": "execute_result"
    }
   ],
   "source": [
    "'''\n",
    "def prepare_classes(tables):\n",
    "    class_list = []\n",
    "    for table in tables:\n",
    "        table = class_list.append('Base.classes.'+table)\n",
    "    return class_list\n",
    "bases = prepare_classes(tables)\n",
    "bases\n",
    "'''"
   ]
  },
  {
   "cell_type": "markdown",
   "metadata": {},
   "source": [
    "## 1. Do discounts have a statistically significant effect on the number of products customers order? If so, at what level(s) of discount?\n",
    "\n",
    "\n",
    "#### 1a. Do discounts have a statistically significant effect on the number of products customers order?\n",
    "* $H_{0}:$ Discount has no effect on the number of products ordered.\n",
    "* $H_{a}:$ Discount does have an effect on number of products ordered.\n",
    "* $\\alpha$ = 0.05"
   ]
  },
  {
   "cell_type": "code",
   "execution_count": 64,
   "metadata": {},
   "outputs": [
    {
     "name": "stdout",
     "output_type": "stream",
     "text": [
      "2019-06-16 18:43:25,400 INFO sqlalchemy.engine.base.Engine SELECT ProductId, UnitPrice, Quantity, Discount FROM OrderDetail\n",
      "2019-06-16 18:43:25,401 INFO sqlalchemy.engine.base.Engine ()\n"
     ]
    },
    {
     "data": {
      "text/html": [
       "<div>\n",
       "<style scoped>\n",
       "    .dataframe tbody tr th:only-of-type {\n",
       "        vertical-align: middle;\n",
       "    }\n",
       "\n",
       "    .dataframe tbody tr th {\n",
       "        vertical-align: top;\n",
       "    }\n",
       "\n",
       "    .dataframe thead th {\n",
       "        text-align: right;\n",
       "    }\n",
       "</style>\n",
       "<table border=\"1\" class=\"dataframe\">\n",
       "  <thead>\n",
       "    <tr style=\"text-align: right;\">\n",
       "      <th></th>\n",
       "      <th>ProductId</th>\n",
       "      <th>UnitPrice</th>\n",
       "      <th>Quantity</th>\n",
       "      <th>Discount</th>\n",
       "    </tr>\n",
       "  </thead>\n",
       "  <tbody>\n",
       "    <tr>\n",
       "      <th>0</th>\n",
       "      <td>11</td>\n",
       "      <td>14.0</td>\n",
       "      <td>12</td>\n",
       "      <td>0.0</td>\n",
       "    </tr>\n",
       "    <tr>\n",
       "      <th>1</th>\n",
       "      <td>42</td>\n",
       "      <td>9.8</td>\n",
       "      <td>10</td>\n",
       "      <td>0.0</td>\n",
       "    </tr>\n",
       "    <tr>\n",
       "      <th>2</th>\n",
       "      <td>72</td>\n",
       "      <td>34.8</td>\n",
       "      <td>5</td>\n",
       "      <td>0.0</td>\n",
       "    </tr>\n",
       "    <tr>\n",
       "      <th>3</th>\n",
       "      <td>14</td>\n",
       "      <td>18.6</td>\n",
       "      <td>9</td>\n",
       "      <td>0.0</td>\n",
       "    </tr>\n",
       "    <tr>\n",
       "      <th>4</th>\n",
       "      <td>51</td>\n",
       "      <td>42.4</td>\n",
       "      <td>40</td>\n",
       "      <td>0.0</td>\n",
       "    </tr>\n",
       "  </tbody>\n",
       "</table>\n",
       "</div>"
      ],
      "text/plain": [
       "   ProductId  UnitPrice  Quantity  Discount\n",
       "0         11       14.0        12       0.0\n",
       "1         42        9.8        10       0.0\n",
       "2         72       34.8         5       0.0\n",
       "3         14       18.6         9       0.0\n",
       "4         51       42.4        40       0.0"
      ]
     },
     "execution_count": 64,
     "metadata": {},
     "output_type": "execute_result"
    }
   ],
   "source": [
    "# Creating new DataFrame:\n",
    "df_discount_basic = pd.read_sql_query(\"\"\"SELECT ProductId, UnitPrice, Quantity, Discount FROM OrderDetail\"\"\", engine)\n",
    "df_discount_basic.head()"
   ]
  },
  {
   "cell_type": "code",
   "execution_count": 65,
   "metadata": {},
   "outputs": [],
   "source": [
    "# Creating a new column to identify presence of Discount/no Discount:\n",
    "df_discount_basic['DiscBool'] = df_discount_basic['Discount'].apply(lambda x: 0 if x == 0 else 1)"
   ]
  },
  {
   "cell_type": "code",
   "execution_count": 66,
   "metadata": {
    "scrolled": false
   },
   "outputs": [
    {
     "data": {
      "text/plain": [
       "0.00    1317\n",
       "0.05     185\n",
       "0.10     173\n",
       "0.20     161\n",
       "0.15     157\n",
       "0.25     154\n",
       "0.03       3\n",
       "0.02       2\n",
       "0.01       1\n",
       "0.04       1\n",
       "0.06       1\n",
       "Name: Discount, dtype: int64"
      ]
     },
     "execution_count": 66,
     "metadata": {},
     "output_type": "execute_result"
    }
   ],
   "source": [
    "# Since nearly every discount value is a multiple of .05, we will discard other values.\n",
    "df_discount_basic.Discount.value_counts()"
   ]
  },
  {
   "cell_type": "code",
   "execution_count": 67,
   "metadata": {
    "scrolled": true
   },
   "outputs": [
    {
     "data": {
      "text/html": [
       "<div>\n",
       "<style scoped>\n",
       "    .dataframe tbody tr th:only-of-type {\n",
       "        vertical-align: middle;\n",
       "    }\n",
       "\n",
       "    .dataframe tbody tr th {\n",
       "        vertical-align: top;\n",
       "    }\n",
       "\n",
       "    .dataframe thead th {\n",
       "        text-align: right;\n",
       "    }\n",
       "</style>\n",
       "<table border=\"1\" class=\"dataframe\">\n",
       "  <thead>\n",
       "    <tr style=\"text-align: right;\">\n",
       "      <th></th>\n",
       "      <th>ProductId</th>\n",
       "      <th>UnitPrice</th>\n",
       "      <th>Quantity</th>\n",
       "      <th>Discount</th>\n",
       "      <th>DiscBool</th>\n",
       "    </tr>\n",
       "  </thead>\n",
       "  <tbody>\n",
       "    <tr>\n",
       "      <th>count</th>\n",
       "      <td>2147.000000</td>\n",
       "      <td>2147.000000</td>\n",
       "      <td>2147.000000</td>\n",
       "      <td>2147.000000</td>\n",
       "      <td>2147.000000</td>\n",
       "    </tr>\n",
       "    <tr>\n",
       "      <th>mean</th>\n",
       "      <td>40.805776</td>\n",
       "      <td>26.203987</td>\n",
       "      <td>23.895203</td>\n",
       "      <td>0.056265</td>\n",
       "      <td>0.386586</td>\n",
       "    </tr>\n",
       "    <tr>\n",
       "      <th>std</th>\n",
       "      <td>22.148297</td>\n",
       "      <td>29.855453</td>\n",
       "      <td>19.009580</td>\n",
       "      <td>0.083586</td>\n",
       "      <td>0.487081</td>\n",
       "    </tr>\n",
       "    <tr>\n",
       "      <th>min</th>\n",
       "      <td>1.000000</td>\n",
       "      <td>2.000000</td>\n",
       "      <td>1.000000</td>\n",
       "      <td>0.000000</td>\n",
       "      <td>0.000000</td>\n",
       "    </tr>\n",
       "    <tr>\n",
       "      <th>25%</th>\n",
       "      <td>22.000000</td>\n",
       "      <td>12.000000</td>\n",
       "      <td>10.000000</td>\n",
       "      <td>0.000000</td>\n",
       "      <td>0.000000</td>\n",
       "    </tr>\n",
       "    <tr>\n",
       "      <th>50%</th>\n",
       "      <td>41.000000</td>\n",
       "      <td>18.400000</td>\n",
       "      <td>20.000000</td>\n",
       "      <td>0.000000</td>\n",
       "      <td>0.000000</td>\n",
       "    </tr>\n",
       "    <tr>\n",
       "      <th>75%</th>\n",
       "      <td>60.000000</td>\n",
       "      <td>32.000000</td>\n",
       "      <td>30.000000</td>\n",
       "      <td>0.100000</td>\n",
       "      <td>1.000000</td>\n",
       "    </tr>\n",
       "    <tr>\n",
       "      <th>max</th>\n",
       "      <td>77.000000</td>\n",
       "      <td>263.500000</td>\n",
       "      <td>130.000000</td>\n",
       "      <td>0.250000</td>\n",
       "      <td>1.000000</td>\n",
       "    </tr>\n",
       "  </tbody>\n",
       "</table>\n",
       "</div>"
      ],
      "text/plain": [
       "         ProductId    UnitPrice     Quantity     Discount     DiscBool\n",
       "count  2147.000000  2147.000000  2147.000000  2147.000000  2147.000000\n",
       "mean     40.805776    26.203987    23.895203     0.056265     0.386586\n",
       "std      22.148297    29.855453    19.009580     0.083586     0.487081\n",
       "min       1.000000     2.000000     1.000000     0.000000     0.000000\n",
       "25%      22.000000    12.000000    10.000000     0.000000     0.000000\n",
       "50%      41.000000    18.400000    20.000000     0.000000     0.000000\n",
       "75%      60.000000    32.000000    30.000000     0.100000     1.000000\n",
       "max      77.000000   263.500000   130.000000     0.250000     1.000000"
      ]
     },
     "execution_count": 67,
     "metadata": {},
     "output_type": "execute_result"
    }
   ],
   "source": [
    "# Dropping values where Discount%.05 != 0:\n",
    "df_discount_basic = df_discount_basic[df_discount_basic.Discount.isin(['0.00', '0.05', '0.10', '0.15', '0.20', '0.25'])]\n",
    "df_discount_basic.describe()"
   ]
  },
  {
   "cell_type": "code",
   "execution_count": 68,
   "metadata": {
    "scrolled": true
   },
   "outputs": [
    {
     "data": {
      "image/png": "[encoded data removed]",
      "text/plain": [
       "<Figure size 864x360 with 2 Axes>"
      ]
     },
     "metadata": {
      "needs_background": "light"
     },
     "output_type": "display_data"
    }
   ],
   "source": [
    "# Visualizing Number of Orders and Average Order Size by hue DiscBool:\n",
    "fig, axes = plt.subplots(2, 1, figsize=(12,5))\n",
    "\n",
    "# Grouping DataFrame for visualization:\n",
    "df_discount_basic.groupby(['DiscBool'])['Quantity'].count().plot(kind='barh', ax=axes[0], color=['#E78AC3', '#A6D854'])\n",
    "df_discount_basic.groupby(['DiscBool'])['Quantity'].mean().plot(kind='barh', ax=axes[1], color=['#E78AC3', '#A6D854'])\n",
    "\n",
    "# Subplot 1 Labels:\n",
    "axes[0].set_title('Number of Orders', fontweight='bold', fontsize=13)\n",
    "axes[0].set_xlabel('Orders', fontweight='semibold')\n",
    "axes[0].set_ylabel('')\n",
    "axes[0].set_yticklabels(['No Discount', 'Discount'])\n",
    "\n",
    "#Subplot 2 Labels:\n",
    "axes[1].set_title('Average Order Size', fontweight='bold', fontsize=13)\n",
    "axes[1].set_xlabel('Orders', fontweight='semibold')\n",
    "axes[1].set_ylabel('')\n",
    "axes[1].set_yticklabels(['No Discount', 'Discount'])\n",
    "fig.subplots_adjust(hspace=.75);"
   ]
  },
  {
   "cell_type": "code",
   "execution_count": 69,
   "metadata": {
    "scrolled": true
   },
   "outputs": [
    {
     "name": "stdout",
     "output_type": "stream",
     "text": [
      "- There were **487** more orders made where there was no discount.\n",
      "- The average order size for discounted items was **5.638954908472158** items greater than the order size when there was no discount.\n"
     ]
    }
   ],
   "source": [
    "# Difference Between Number of Orders and Avg Size by hue Discount:\n",
    "print(f\"- There were **{df_discount_basic.groupby(['DiscBool'])['Quantity'].count()[0] - df_discount_basic.groupby(['DiscBool'])['Quantity'].count()[1]}** more orders made where there was no discount.\")\n",
    "print(f\"- The average order size for discounted items was **{df_discount_basic.groupby(['DiscBool'])['Quantity'].mean()[1] - df_discount_basic.groupby(['DiscBool'])['Quantity'].mean()[0]}** items greater than the order size when there was no discount.\")     "
   ]
  },
  {
   "cell_type": "markdown",
   "metadata": {},
   "source": [
    "\n",
    "As seen above, while there are less orders made for discounted items, the average order size when purchasing discounted items is larger. In order to determine the effect of any discount to sales, we will determine whether the differences illustrated above are stastically significant.\n",
    "\n",
    "*Note: This initial inquiry does not factor in item price or discount level.*\n",
    "\n"
   ]
  },
  {
   "cell_type": "code",
   "execution_count": 70,
   "metadata": {},
   "outputs": [],
   "source": [
    "# Create DataFrame where value for Discount > 0:\n",
    "query1 = 'DiscBool > 0'\n",
    "df_discount_bool = df_discount_basic.query(query1)\n",
    "\n",
    "# Create DataFrame where value for Discount == 0:\n",
    "query2 = 'DiscBool == 0'\n",
    "df_nodiscount_bool = df_discount_basic.query(query2)"
   ]
  },
  {
   "cell_type": "code",
   "execution_count": 71,
   "metadata": {
    "scrolled": true
   },
   "outputs": [
    {
     "data": {
      "text/html": [
       "<div>\n",
       "<style scoped>\n",
       "    .dataframe tbody tr th:only-of-type {\n",
       "        vertical-align: middle;\n",
       "    }\n",
       "\n",
       "    .dataframe tbody tr th {\n",
       "        vertical-align: top;\n",
       "    }\n",
       "\n",
       "    .dataframe thead th {\n",
       "        text-align: right;\n",
       "    }\n",
       "</style>\n",
       "<table border=\"1\" class=\"dataframe\">\n",
       "  <thead>\n",
       "    <tr style=\"text-align: right;\">\n",
       "      <th></th>\n",
       "      <th>ProductId</th>\n",
       "      <th>UnitPrice</th>\n",
       "      <th>Quantity</th>\n",
       "      <th>Discount</th>\n",
       "      <th>DiscBool</th>\n",
       "    </tr>\n",
       "  </thead>\n",
       "  <tbody>\n",
       "    <tr>\n",
       "      <th>count</th>\n",
       "      <td>830.000000</td>\n",
       "      <td>830.000000</td>\n",
       "      <td>830.000000</td>\n",
       "      <td>830.000000</td>\n",
       "      <td>830.0</td>\n",
       "    </tr>\n",
       "    <tr>\n",
       "      <th>mean</th>\n",
       "      <td>39.868675</td>\n",
       "      <td>26.255482</td>\n",
       "      <td>27.354217</td>\n",
       "      <td>0.145542</td>\n",
       "      <td>1.0</td>\n",
       "    </tr>\n",
       "    <tr>\n",
       "      <th>std</th>\n",
       "      <td>22.019037</td>\n",
       "      <td>30.091176</td>\n",
       "      <td>20.720667</td>\n",
       "      <td>0.071250</td>\n",
       "      <td>0.0</td>\n",
       "    </tr>\n",
       "    <tr>\n",
       "      <th>min</th>\n",
       "      <td>1.000000</td>\n",
       "      <td>2.000000</td>\n",
       "      <td>1.000000</td>\n",
       "      <td>0.050000</td>\n",
       "      <td>1.0</td>\n",
       "    </tr>\n",
       "    <tr>\n",
       "      <th>25%</th>\n",
       "      <td>21.000000</td>\n",
       "      <td>12.125000</td>\n",
       "      <td>12.250000</td>\n",
       "      <td>0.100000</td>\n",
       "      <td>1.0</td>\n",
       "    </tr>\n",
       "    <tr>\n",
       "      <th>50%</th>\n",
       "      <td>40.000000</td>\n",
       "      <td>18.000000</td>\n",
       "      <td>20.000000</td>\n",
       "      <td>0.150000</td>\n",
       "      <td>1.0</td>\n",
       "    </tr>\n",
       "    <tr>\n",
       "      <th>75%</th>\n",
       "      <td>59.000000</td>\n",
       "      <td>31.230000</td>\n",
       "      <td>36.000000</td>\n",
       "      <td>0.200000</td>\n",
       "      <td>1.0</td>\n",
       "    </tr>\n",
       "    <tr>\n",
       "      <th>max</th>\n",
       "      <td>77.000000</td>\n",
       "      <td>263.500000</td>\n",
       "      <td>130.000000</td>\n",
       "      <td>0.250000</td>\n",
       "      <td>1.0</td>\n",
       "    </tr>\n",
       "  </tbody>\n",
       "</table>\n",
       "</div>"
      ],
      "text/plain": [
       "        ProductId   UnitPrice    Quantity    Discount  DiscBool\n",
       "count  830.000000  830.000000  830.000000  830.000000     830.0\n",
       "mean    39.868675   26.255482   27.354217    0.145542       1.0\n",
       "std     22.019037   30.091176   20.720667    0.071250       0.0\n",
       "min      1.000000    2.000000    1.000000    0.050000       1.0\n",
       "25%     21.000000   12.125000   12.250000    0.100000       1.0\n",
       "50%     40.000000   18.000000   20.000000    0.150000       1.0\n",
       "75%     59.000000   31.230000   36.000000    0.200000       1.0\n",
       "max     77.000000  263.500000  130.000000    0.250000       1.0"
      ]
     },
     "execution_count": 71,
     "metadata": {},
     "output_type": "execute_result"
    }
   ],
   "source": [
    "df_discount_bool.describe()"
   ]
  },
  {
   "cell_type": "code",
   "execution_count": 72,
   "metadata": {
    "scrolled": true
   },
   "outputs": [
    {
     "data": {
      "text/html": [
       "<div>\n",
       "<style scoped>\n",
       "    .dataframe tbody tr th:only-of-type {\n",
       "        vertical-align: middle;\n",
       "    }\n",
       "\n",
       "    .dataframe tbody tr th {\n",
       "        vertical-align: top;\n",
       "    }\n",
       "\n",
       "    .dataframe thead th {\n",
       "        text-align: right;\n",
       "    }\n",
       "</style>\n",
       "<table border=\"1\" class=\"dataframe\">\n",
       "  <thead>\n",
       "    <tr style=\"text-align: right;\">\n",
       "      <th></th>\n",
       "      <th>ProductId</th>\n",
       "      <th>UnitPrice</th>\n",
       "      <th>Quantity</th>\n",
       "      <th>Discount</th>\n",
       "      <th>DiscBool</th>\n",
       "    </tr>\n",
       "  </thead>\n",
       "  <tbody>\n",
       "    <tr>\n",
       "      <th>count</th>\n",
       "      <td>1317.000000</td>\n",
       "      <td>1317.000000</td>\n",
       "      <td>1317.000000</td>\n",
       "      <td>1317.0</td>\n",
       "      <td>1317.0</td>\n",
       "    </tr>\n",
       "    <tr>\n",
       "      <th>mean</th>\n",
       "      <td>41.396355</td>\n",
       "      <td>26.171534</td>\n",
       "      <td>21.715262</td>\n",
       "      <td>0.0</td>\n",
       "      <td>0.0</td>\n",
       "    </tr>\n",
       "    <tr>\n",
       "      <th>std</th>\n",
       "      <td>22.217410</td>\n",
       "      <td>29.717354</td>\n",
       "      <td>17.507493</td>\n",
       "      <td>0.0</td>\n",
       "      <td>0.0</td>\n",
       "    </tr>\n",
       "    <tr>\n",
       "      <th>min</th>\n",
       "      <td>1.000000</td>\n",
       "      <td>2.000000</td>\n",
       "      <td>1.000000</td>\n",
       "      <td>0.0</td>\n",
       "      <td>0.0</td>\n",
       "    </tr>\n",
       "    <tr>\n",
       "      <th>25%</th>\n",
       "      <td>23.000000</td>\n",
       "      <td>12.000000</td>\n",
       "      <td>10.000000</td>\n",
       "      <td>0.0</td>\n",
       "      <td>0.0</td>\n",
       "    </tr>\n",
       "    <tr>\n",
       "      <th>50%</th>\n",
       "      <td>41.000000</td>\n",
       "      <td>18.400000</td>\n",
       "      <td>18.000000</td>\n",
       "      <td>0.0</td>\n",
       "      <td>0.0</td>\n",
       "    </tr>\n",
       "    <tr>\n",
       "      <th>75%</th>\n",
       "      <td>60.000000</td>\n",
       "      <td>32.800000</td>\n",
       "      <td>30.000000</td>\n",
       "      <td>0.0</td>\n",
       "      <td>0.0</td>\n",
       "    </tr>\n",
       "    <tr>\n",
       "      <th>max</th>\n",
       "      <td>77.000000</td>\n",
       "      <td>263.500000</td>\n",
       "      <td>130.000000</td>\n",
       "      <td>0.0</td>\n",
       "      <td>0.0</td>\n",
       "    </tr>\n",
       "  </tbody>\n",
       "</table>\n",
       "</div>"
      ],
      "text/plain": [
       "         ProductId    UnitPrice     Quantity  Discount  DiscBool\n",
       "count  1317.000000  1317.000000  1317.000000    1317.0    1317.0\n",
       "mean     41.396355    26.171534    21.715262       0.0       0.0\n",
       "std      22.217410    29.717354    17.507493       0.0       0.0\n",
       "min       1.000000     2.000000     1.000000       0.0       0.0\n",
       "25%      23.000000    12.000000    10.000000       0.0       0.0\n",
       "50%      41.000000    18.400000    18.000000       0.0       0.0\n",
       "75%      60.000000    32.800000    30.000000       0.0       0.0\n",
       "max      77.000000   263.500000   130.000000       0.0       0.0"
      ]
     },
     "execution_count": 72,
     "metadata": {},
     "output_type": "execute_result"
    }
   ],
   "source": [
    "df_nodiscount_bool.describe()"
   ]
  },
  {
   "cell_type": "code",
   "execution_count": 73,
   "metadata": {},
   "outputs": [],
   "source": [
    "# Defining a function to generate normally distributed KDE:\n",
    "def KDE_gen(mu, sigma, n):\n",
    "    x = np.random.normal(mu,sigma,n)\n",
    "    return x"
   ]
  },
  {
   "cell_type": "code",
   "execution_count": 74,
   "metadata": {},
   "outputs": [],
   "source": [
    "# Generate values to represent a normal distributions using dataset:\n",
    "discount_mu, discount_sigma, discount_n = 27.35, 20.72, 830\n",
    "no_discount_mu, no_discount_sigma, no_discount_n = 21.72, 17.51, 1317\n",
    "\n",
    "# Generating Normal Distributions for comparison to sample distributions:\n",
    "discount_KDE = KDE_gen(discount_mu, discount_sigma, discount_n)\n",
    "no_discount_KDE = KDE_gen(no_discount_mu, no_discount_sigma, no_discount_n)"
   ]
  },
  {
   "cell_type": "code",
   "execution_count": 75,
   "metadata": {
    "scrolled": true
   },
   "outputs": [
    {
     "data": {
      "image/png": "[encoded data removed]",
      "text/plain": [
       "<Figure size 720x360 with 1 Axes>"
      ]
     },
     "metadata": {},
     "output_type": "display_data"
    }
   ],
   "source": [
    "# Visualizing Distribution of orders with/without discounts:\n",
    "sns.set(rc={'figure.figsize':(10,5)})\n",
    "sns.set()\n",
    "ax = sns.distplot(df_discount_bool.Quantity, label='Discount', color='#E78AC3')\n",
    "ax = sns.distplot(df_nodiscount_bool.Quantity, label='No Discount', color='#A6D854')\n",
    "ax = sns.kdeplot(discount_KDE, label='Discount KDE')\n",
    "ax = sns.kdeplot(no_discount_KDE, label='No Discount KDE')\n",
    "ax.set_title('Distribution of Order Quantity', fontsize=14, fontweight='bold')\n",
    "ax.legend(loc=1, fontsize='medium');"
   ]
  },
  {
   "cell_type": "markdown",
   "metadata": {},
   "source": [
    "Based on the results above, we can see that there is some amount of skew present in the distribution of order sizes. However, because our data for orders has a minimum value of 1 (and our manually generated KDE plots do not) the level of skew is magnified due to the ranges present in KDE plots.\n",
    "\n",
    "Based on the Central Limit Theorem, we can accept the above distributions to be normal and will therefore use a standard 2 tailed t-test in hypthesis testing."
   ]
  },
  {
   "cell_type": "code",
   "execution_count": 76,
   "metadata": {},
   "outputs": [],
   "source": [
    "def results_printer(a, b):\n",
    "    print(f'Avg with discount: {round(a, 2)}')\n",
    "    print(f'Avg with no discount: {round(b, 2)}')\n",
    "    print(f'Effect Size: {round((a-b),2)}')\n",
    "    print(f'Relative effect size: {round((a-b)/b,2)}')"
   ]
  },
  {
   "cell_type": "code",
   "execution_count": 77,
   "metadata": {},
   "outputs": [],
   "source": [
    "def results_printer_disc(a, b):\n",
    "    print(f'Avg at current discount level: {round(a, 2)}')\n",
    "    print(f'Effect Size: {round((a-b),2)}')\n",
    "    print(f'Relative effect size: {round((a-b)/b,2)}')"
   ]
  },
  {
   "cell_type": "code",
   "execution_count": 78,
   "metadata": {},
   "outputs": [
    {
     "name": "stdout",
     "output_type": "stream",
     "text": [
      "Avg with discount: 27.35\n",
      "Avg with no discount: 21.72\n",
      "Effect Size: 5.64\n",
      "Relative effect size: 0.26\n"
     ]
    }
   ],
   "source": [
    "a = df_discount_bool.Quantity.mean()\n",
    "b = df_nodiscount_bool.Quantity.mean()\n",
    "results_printer(a,b)"
   ]
  },
  {
   "cell_type": "code",
   "execution_count": 79,
   "metadata": {},
   "outputs": [
    {
     "data": {
      "text/plain": [
       "NormaltestResult(statistic=261.04626710761113, pvalue=2.0631145260149106e-57)"
      ]
     },
     "execution_count": 79,
     "metadata": {},
     "output_type": "execute_result"
    }
   ],
   "source": [
    "# Testing distributions for normality:\n",
    "stats.normaltest(df_discount_bool.Quantity)"
   ]
  },
  {
   "cell_type": "code",
   "execution_count": 80,
   "metadata": {},
   "outputs": [
    {
     "data": {
      "text/plain": [
       "NormaltestResult(statistic=544.5770045551502, pvalue=5.579637380545965e-119)"
      ]
     },
     "execution_count": 80,
     "metadata": {},
     "output_type": "execute_result"
    }
   ],
   "source": [
    "# Testing distributions for normality:\n",
    "stats.normaltest(df_nodiscount_bool.Quantity)"
   ]
  },
  {
   "cell_type": "code",
   "execution_count": 81,
   "metadata": {},
   "outputs": [
    {
     "name": "stdout",
     "output_type": "stream",
     "text": [
      "Ttest_indResult(statistic=6.7627297036707565, pvalue=1.7401995278127614e-11)\n"
     ]
    }
   ],
   "source": [
    "# 2 tailed T:\n",
    "pprint.pprint(stats.ttest_ind(df_discount_bool.Quantity, df_nodiscount_bool.Quantity))"
   ]
  },
  {
   "cell_type": "markdown",
   "metadata": {},
   "source": [
    "#### 1a. Do discounts have a statistically significant effect on the number of products customers order?\n",
    "* $H_{0}:$ Discount has no effect on the number of products ordered.\n",
    "* $H_{a}:$ Discount does have an effect on number of products ordered.\n",
    "* $\\alpha$ = 0.05\n",
    "\n",
    "**Discounts do have a statistically significant effect on the number of products customers order.**\n",
    "\n",
    "The resulting p-value is less than our alpha value of 0.05. Therefore, we reject the null hypothesis that there is no difference between average order size for orders with and without discounts. Since we've confirmed that discounts do have a statistically significant effect on the number of products customers order, we can explore the difference in effect at each level of discount.\n",
    "\n",
    "#### 1b. If so, at what level(s) of discount?\n",
    "* $H_{0}:$ The average number of products ordered by customers is the same regardless of discount level.\n",
    "<br>\n",
    "* $H_{a}:$ The average number of products ordered by customers is not the same as discount level changes.\n",
    "<br>\n",
    "* $\\alpha$ = 0.05"
   ]
  },
  {
   "cell_type": "code",
   "execution_count": 82,
   "metadata": {
    "scrolled": true
   },
   "outputs": [
    {
     "data": {
      "image/png": "[encoded data removed]",
      "text/plain": [
       "<Figure size 864x360 with 2 Axes>"
      ]
     },
     "metadata": {},
     "output_type": "display_data"
    }
   ],
   "source": [
    "# Repeating above visualization for each discount value:\n",
    "fig, axes = plt.subplots(2, 1, figsize=(12,5))\n",
    "\n",
    "# Grouping DataFrame for visualization:\n",
    "df_discount_basic.groupby(['Discount'])['Quantity'].count().plot(kind='barh', ax=axes[0], \\\n",
    "                                    color=['#E78AC3', '#A6D854', '#FFD92F', '#E5C494', '#B3B3B3', '#66C2A5'])\n",
    "df_discount_basic.groupby(['Discount'])['Quantity'].mean().plot(kind='barh', ax=axes[1], \\\n",
    "                                    color=['#E78AC3', '#A6D854', '#FFD92F', '#E5C494', '#B3B3B3', '#66C2A5'])\n",
    "\n",
    "# Subplot 1 Labels:\n",
    "axes[0].set_title('Number of Orders', fontweight='bold', fontsize=13)\n",
    "axes[0].set_xlabel('Orders')\n",
    "axes[0].set_ylabel('')\n",
    "axes[0].set_yticklabels(['No Discount', '0.05', '0.10', '0.15', '0.20', '0.25'])\n",
    "\n",
    "# Subplot 2 Labels:\n",
    "axes[1].set_title('Average Order Size', fontweight='bold', fontsize=13)\n",
    "axes[1].set_xlabel('Orders')\n",
    "axes[1].set_ylabel('')\n",
    "axes[1].set_yticklabels(['No Discount', '0.05', '0.10', '0.15', '0.20', '0.25'])\n",
    "fig.subplots_adjust(hspace=.75);"
   ]
  },
  {
   "cell_type": "code",
   "execution_count": 83,
   "metadata": {
    "scrolled": true
   },
   "outputs": [
    {
     "data": {
      "image/png": "[encoded data removed]",
      "text/plain": [
       "<Figure size 720x360 with 1 Axes>"
      ]
     },
     "metadata": {},
     "output_type": "display_data"
    }
   ],
   "source": [
    "sns.set(rc={'figure.figsize':(10,5)})\n",
    "\n",
    "ax = sns.boxenplot(data=df_discount_basic, x=df_discount_basic.Discount, y=df_discount_basic.Quantity, \\\n",
    "                   hue=df_discount_basic.Discount, palette='Set2')\n",
    "ax = sns.swarmplot(data=df_discount_basic, x=df_discount_basic.Discount, y=df_discount_basic.Quantity, \\\n",
    "                   hue=df_discount_basic.Discount, palette='Set2', alpha=.45)\n",
    "ax.set_title('Discount vs. Order Quantity', fontsize=14, fontweight='bold')\n",
    "ax.legend(loc=1, fontsize='small', ncol=2);"
   ]
  },
  {
   "cell_type": "markdown",
   "metadata": {},
   "source": [
    "In contrast to our analysis in part 1a., when order quantity is visualized at each discount level we can observe a larger difference in number of orders and a smaller difference in average order size at each individual level of discount."
   ]
  },
  {
   "cell_type": "code",
   "execution_count": 84,
   "metadata": {},
   "outputs": [
    {
     "data": {
      "text/html": [
       "<table class=\"simpletable\">\n",
       "<caption>OLS Regression Results</caption>\n",
       "<tr>\n",
       "  <th>Dep. Variable:</th>        <td>Quantity</td>     <th>  R-squared:         </th> <td>   0.003</td>\n",
       "</tr>\n",
       "<tr>\n",
       "  <th>Model:</th>                   <td>OLS</td>       <th>  Adj. R-squared:    </th> <td>  -0.002</td>\n",
       "</tr>\n",
       "<tr>\n",
       "  <th>Method:</th>             <td>Least Squares</td>  <th>  F-statistic:       </th> <td>  0.6741</td>\n",
       "</tr>\n",
       "<tr>\n",
       "  <th>Date:</th>             <td>Sun, 16 Jun 2019</td> <th>  Prob (F-statistic):</th>  <td> 0.610</td> \n",
       "</tr>\n",
       "<tr>\n",
       "  <th>Time:</th>                 <td>18:43:30</td>     <th>  Log-Likelihood:    </th> <td> -3691.7</td>\n",
       "</tr>\n",
       "<tr>\n",
       "  <th>No. Observations:</th>      <td>   830</td>      <th>  AIC:               </th> <td>   7393.</td>\n",
       "</tr>\n",
       "<tr>\n",
       "  <th>Df Residuals:</th>          <td>   825</td>      <th>  BIC:               </th> <td>   7417.</td>\n",
       "</tr>\n",
       "<tr>\n",
       "  <th>Df Model:</th>              <td>     4</td>      <th>                     </th>     <td> </td>   \n",
       "</tr>\n",
       "<tr>\n",
       "  <th>Covariance Type:</th>      <td>nonrobust</td>    <th>                     </th>     <td> </td>   \n",
       "</tr>\n",
       "</table>\n",
       "<table class=\"simpletable\">\n",
       "<tr>\n",
       "           <td></td>              <th>coef</th>     <th>std err</th>      <th>t</th>      <th>P>|t|</th>  <th>[0.025</th>    <th>0.975]</th>  \n",
       "</tr>\n",
       "<tr>\n",
       "  <th>Intercept</th>           <td>   28.0108</td> <td>    1.525</td> <td>   18.372</td> <td> 0.000</td> <td>   25.018</td> <td>   31.003</td>\n",
       "</tr>\n",
       "<tr>\n",
       "  <th>C(Discount)[T.0.1]</th>  <td>   -2.7738</td> <td>    2.193</td> <td>   -1.265</td> <td> 0.206</td> <td>   -7.079</td> <td>    1.531</td>\n",
       "</tr>\n",
       "<tr>\n",
       "  <th>C(Discount)[T.0.15]</th> <td>    0.3714</td> <td>    2.250</td> <td>    0.165</td> <td> 0.869</td> <td>   -4.045</td> <td>    4.788</td>\n",
       "</tr>\n",
       "<tr>\n",
       "  <th>C(Discount)[T.0.2]</th>  <td>   -0.9860</td> <td>    2.235</td> <td>   -0.441</td> <td> 0.659</td> <td>   -5.373</td> <td>    3.401</td>\n",
       "</tr>\n",
       "<tr>\n",
       "  <th>C(Discount)[T.0.25]</th> <td>    0.2294</td> <td>    2.262</td> <td>    0.101</td> <td> 0.919</td> <td>   -4.211</td> <td>    4.669</td>\n",
       "</tr>\n",
       "</table>\n",
       "<table class=\"simpletable\">\n",
       "<tr>\n",
       "  <th>Omnibus:</th>       <td>263.705</td> <th>  Durbin-Watson:     </th> <td>   1.667</td> \n",
       "</tr>\n",
       "<tr>\n",
       "  <th>Prob(Omnibus):</th> <td> 0.000</td>  <th>  Jarque-Bera (JB):  </th> <td> 751.622</td> \n",
       "</tr>\n",
       "<tr>\n",
       "  <th>Skew:</th>          <td> 1.598</td>  <th>  Prob(JB):          </th> <td>6.13e-164</td>\n",
       "</tr>\n",
       "<tr>\n",
       "  <th>Kurtosis:</th>      <td> 6.394</td>  <th>  Cond. No.          </th> <td>    5.56</td> \n",
       "</tr>\n",
       "</table><br/><br/>Warnings:<br/>[1] Standard Errors assume that the covariance matrix of the errors is correctly specified."
      ],
      "text/plain": [
       "<class 'statsmodels.iolib.summary.Summary'>\n",
       "\"\"\"\n",
       "                            OLS Regression Results                            \n",
       "==============================================================================\n",
       "Dep. Variable:               Quantity   R-squared:                       0.003\n",
       "Model:                            OLS   Adj. R-squared:                 -0.002\n",
       "Method:                 Least Squares   F-statistic:                    0.6741\n",
       "Date:                Sun, 16 Jun 2019   Prob (F-statistic):              0.610\n",
       "Time:                        18:43:30   Log-Likelihood:                -3691.7\n",
       "No. Observations:                 830   AIC:                             7393.\n",
       "Df Residuals:                     825   BIC:                             7417.\n",
       "Df Model:                           4                                         \n",
       "Covariance Type:            nonrobust                                         \n",
       "=======================================================================================\n",
       "                          coef    std err          t      P>|t|      [0.025      0.975]\n",
       "---------------------------------------------------------------------------------------\n",
       "Intercept              28.0108      1.525     18.372      0.000      25.018      31.003\n",
       "C(Discount)[T.0.1]     -2.7738      2.193     -1.265      0.206      -7.079       1.531\n",
       "C(Discount)[T.0.15]     0.3714      2.250      0.165      0.869      -4.045       4.788\n",
       "C(Discount)[T.0.2]     -0.9860      2.235     -0.441      0.659      -5.373       3.401\n",
       "C(Discount)[T.0.25]     0.2294      2.262      0.101      0.919      -4.211       4.669\n",
       "==============================================================================\n",
       "Omnibus:                      263.705   Durbin-Watson:                   1.667\n",
       "Prob(Omnibus):                  0.000   Jarque-Bera (JB):              751.622\n",
       "Skew:                           1.598   Prob(JB):                    6.13e-164\n",
       "Kurtosis:                       6.394   Cond. No.                         5.56\n",
       "==============================================================================\n",
       "\n",
       "Warnings:\n",
       "[1] Standard Errors assume that the covariance matrix of the errors is correctly specified.\n",
       "\"\"\""
      ]
     },
     "execution_count": 84,
     "metadata": {},
     "output_type": "execute_result"
    }
   ],
   "source": [
    "# Fitting model to prepare to calculate ANOVA:\n",
    "lm = ols('Quantity ~ C(Discount)', df_discount_bool).fit()\n",
    "lm.summary()"
   ]
  },
  {
   "cell_type": "code",
   "execution_count": 85,
   "metadata": {},
   "outputs": [
    {
     "data": {
      "text/html": [
       "<div>\n",
       "<style scoped>\n",
       "    .dataframe tbody tr th:only-of-type {\n",
       "        vertical-align: middle;\n",
       "    }\n",
       "\n",
       "    .dataframe tbody tr th {\n",
       "        vertical-align: top;\n",
       "    }\n",
       "\n",
       "    .dataframe thead th {\n",
       "        text-align: right;\n",
       "    }\n",
       "</style>\n",
       "<table border=\"1\" class=\"dataframe\">\n",
       "  <thead>\n",
       "    <tr style=\"text-align: right;\">\n",
       "      <th></th>\n",
       "      <th>sum_sq</th>\n",
       "      <th>df</th>\n",
       "      <th>F</th>\n",
       "      <th>PR(&gt;F)</th>\n",
       "    </tr>\n",
       "  </thead>\n",
       "  <tbody>\n",
       "    <tr>\n",
       "      <th>C(Discount)</th>\n",
       "      <td>1159.517551</td>\n",
       "      <td>4.0</td>\n",
       "      <td>0.674103</td>\n",
       "      <td>0.610041</td>\n",
       "    </tr>\n",
       "    <tr>\n",
       "      <th>Residual</th>\n",
       "      <td>354768.342690</td>\n",
       "      <td>825.0</td>\n",
       "      <td>NaN</td>\n",
       "      <td>NaN</td>\n",
       "    </tr>\n",
       "  </tbody>\n",
       "</table>\n",
       "</div>"
      ],
      "text/plain": [
       "                    sum_sq     df         F    PR(>F)\n",
       "C(Discount)    1159.517551    4.0  0.674103  0.610041\n",
       "Residual     354768.342690  825.0       NaN       NaN"
      ]
     },
     "execution_count": 85,
     "metadata": {},
     "output_type": "execute_result"
    }
   ],
   "source": [
    "# ANOVA analysis to test multiple pairwise comparisons:\n",
    "sm.stats.anova_lm(lm, typ=2)"
   ]
  },
  {
   "cell_type": "markdown",
   "metadata": {},
   "source": [
    "#### 1b. If so, at what level(s) of discount?\n",
    "* $H_{0}:$ The average number of products ordered by customers is the same regardless of discount level.\n",
    "<br>\n",
    "* $H_{a}:$ The average number of products ordered by customers is not the same as discount level changes. \n",
    "<br>\n",
    "* $\\alpha$ = 0.05\n",
    "\n",
    "**There is no statistically significant difference in products ordered between levels of discount.**\n",
    "\n",
    "Reviewing the model above, we observe that the resulting p-values for each comparison between discount levels is greater than our alpha(.05), indicating that there is no significant difference between the order sizes for items at each discount level.\n",
    "\n",
    "The results of the ANOVA test indicate a p-value of 0.61. Because the resulting p-value is greater than our alpha(0.05), we fail to reject the Null Hypothesis that the average number of products ordered by customers is the same regardless of discount level.\n",
    "\n",
    "While valuable, the results obtained from our first inquiry necessitate consideration of item price to give context to the client. Before definining the parameters of our next inquiry, let's review the results obtained thusfar.\n",
    "\n",
    "**Summation:**\n",
    "<br>\n",
    "There is a statistically significant difference in order quantity based on the presence of a discount at any level, but there is not a statistically significant difference between order quantity and discount level.\n",
    "\n",
    "Great! We can safely advise our client that customers order more products when a discount is offered, but that the delta in customer order volume for each discount level is not statistically significant. However, this data doesn't tell the full story. In order to advise the client on whether (and at what level) to offer discounts, we must determine whether the increase in product orders for discounted items produces a statistically significant difference in every company's #1 metric for success, **revenue**. *(see 3)* \n",
    "\n",
    "Essentially, we need to determine whether or not customers spend more when discounts are present and whether additional spend exists to offset the loss in potential revenue due to discounts. For example, if there is no statistically significant difference in customer spend regardless of whether a 5% or 25% discount is offered, we would likely advise the client to reduce the discount level of most items to 5%.\n",
    "\n"
   ]
  },
  {
   "cell_type": "markdown",
   "metadata": {},
   "source": [
    "## 2. Do discounts have a statistically significant effect on average customer spend per order? If so, at what level(s) of discount?\n",
    "\n",
    "#### 2a. Do discounts have a statistically significant effect on average customer spend?\n",
    "* $H_{0}:$ Discounts do not have a statistically significant effect on average customer spend.\n",
    "<br>\n",
    "* $H_{a}:$ Discounts do have a statistically significant effect (whether positive or negative) on average customer spend.\n",
    "<br>\n",
    "* $\\alpha$ = 0.05"
   ]
  },
  {
   "cell_type": "code",
   "execution_count": 86,
   "metadata": {},
   "outputs": [
    {
     "name": "stdout",
     "output_type": "stream",
     "text": [
      "2019-06-16 18:43:30,727 INFO sqlalchemy.engine.base.Engine SELECT o.OrderId, o.UnitPrice, o.Discount, o.Quantity, p.QuantityPerUnit FROM [OrderDetail] o                     INNER JOIN Product p on o.ProductId = p.ID\n",
      "                    GROUP BY o.OrderId;\n",
      "2019-06-16 18:43:30,728 INFO sqlalchemy.engine.base.Engine ()\n"
     ]
    },
    {
     "data": {
      "text/html": [
       "<div>\n",
       "<style scoped>\n",
       "    .dataframe tbody tr th:only-of-type {\n",
       "        vertical-align: middle;\n",
       "    }\n",
       "\n",
       "    .dataframe tbody tr th {\n",
       "        vertical-align: top;\n",
       "    }\n",
       "\n",
       "    .dataframe thead th {\n",
       "        text-align: right;\n",
       "    }\n",
       "</style>\n",
       "<table border=\"1\" class=\"dataframe\">\n",
       "  <thead>\n",
       "    <tr style=\"text-align: right;\">\n",
       "      <th></th>\n",
       "      <th>OrderId</th>\n",
       "      <th>UnitPrice</th>\n",
       "      <th>Discount</th>\n",
       "      <th>Quantity</th>\n",
       "      <th>QuantityPerUnit</th>\n",
       "    </tr>\n",
       "  </thead>\n",
       "  <tbody>\n",
       "    <tr>\n",
       "      <th>0</th>\n",
       "      <td>10248</td>\n",
       "      <td>34.8</td>\n",
       "      <td>0.00</td>\n",
       "      <td>5</td>\n",
       "      <td>24 - 200 g pkgs.</td>\n",
       "    </tr>\n",
       "    <tr>\n",
       "      <th>1</th>\n",
       "      <td>10249</td>\n",
       "      <td>42.4</td>\n",
       "      <td>0.00</td>\n",
       "      <td>40</td>\n",
       "      <td>50 - 300 g pkgs.</td>\n",
       "    </tr>\n",
       "    <tr>\n",
       "      <th>2</th>\n",
       "      <td>10250</td>\n",
       "      <td>16.8</td>\n",
       "      <td>0.15</td>\n",
       "      <td>15</td>\n",
       "      <td>32 - 8 oz bottles</td>\n",
       "    </tr>\n",
       "  </tbody>\n",
       "</table>\n",
       "</div>"
      ],
      "text/plain": [
       "   OrderId  UnitPrice  Discount  Quantity    QuantityPerUnit\n",
       "0    10248       34.8      0.00         5   24 - 200 g pkgs.\n",
       "1    10249       42.4      0.00        40   50 - 300 g pkgs.\n",
       "2    10250       16.8      0.15        15  32 - 8 oz bottles"
      ]
     },
     "execution_count": 86,
     "metadata": {},
     "output_type": "execute_result"
    }
   ],
   "source": [
    "df_discount_spend = pd.read_sql_query(\"\"\"SELECT o.OrderId, o.UnitPrice, o.Discount, o.Quantity, p.QuantityPerUnit FROM [OrderDetail] o \\\n",
    "                    INNER JOIN Product p on o.ProductId = p.ID\n",
    "                    GROUP BY o.OrderId;\"\"\", engine)\n",
    "df_discount_spend.head(3)"
   ]
  },
  {
   "cell_type": "code",
   "execution_count": 87,
   "metadata": {
    "scrolled": false
   },
   "outputs": [
    {
     "name": "stdout",
     "output_type": "stream",
     "text": [
      "<class 'pandas.core.frame.DataFrame'>\n",
      "RangeIndex: 830 entries, 0 to 829\n",
      "Data columns (total 5 columns):\n",
      "OrderId            830 non-null int64\n",
      "UnitPrice          830 non-null float64\n",
      "Discount           830 non-null float64\n",
      "Quantity           830 non-null int64\n",
      "QuantityPerUnit    830 non-null object\n",
      "dtypes: float64(2), int64(2), object(1)\n",
      "memory usage: 32.5+ KB\n"
     ]
    }
   ],
   "source": [
    "df_discount_spend.info()"
   ]
  },
  {
   "cell_type": "code",
   "execution_count": 88,
   "metadata": {
    "scrolled": true
   },
   "outputs": [
    {
     "data": {
      "text/html": [
       "<div>\n",
       "<style scoped>\n",
       "    .dataframe tbody tr th:only-of-type {\n",
       "        vertical-align: middle;\n",
       "    }\n",
       "\n",
       "    .dataframe tbody tr th {\n",
       "        vertical-align: top;\n",
       "    }\n",
       "\n",
       "    .dataframe thead th {\n",
       "        text-align: right;\n",
       "    }\n",
       "</style>\n",
       "<table border=\"1\" class=\"dataframe\">\n",
       "  <thead>\n",
       "    <tr style=\"text-align: right;\">\n",
       "      <th></th>\n",
       "      <th>OrderId</th>\n",
       "      <th>UnitPrice</th>\n",
       "      <th>Discount</th>\n",
       "      <th>Quantity</th>\n",
       "      <th>QuantityPerUnit</th>\n",
       "    </tr>\n",
       "  </thead>\n",
       "  <tbody>\n",
       "    <tr>\n",
       "      <th>0</th>\n",
       "      <td>10248</td>\n",
       "      <td>34.8</td>\n",
       "      <td>0.00</td>\n",
       "      <td>5</td>\n",
       "      <td>[24, -, 200, g, pkgs.]</td>\n",
       "    </tr>\n",
       "    <tr>\n",
       "      <th>1</th>\n",
       "      <td>10249</td>\n",
       "      <td>42.4</td>\n",
       "      <td>0.00</td>\n",
       "      <td>40</td>\n",
       "      <td>[50, -, 300, g, pkgs.]</td>\n",
       "    </tr>\n",
       "    <tr>\n",
       "      <th>2</th>\n",
       "      <td>10250</td>\n",
       "      <td>16.8</td>\n",
       "      <td>0.15</td>\n",
       "      <td>15</td>\n",
       "      <td>[32, -, 8, oz, bottles]</td>\n",
       "    </tr>\n",
       "  </tbody>\n",
       "</table>\n",
       "</div>"
      ],
      "text/plain": [
       "   OrderId  UnitPrice  Discount  Quantity          QuantityPerUnit\n",
       "0    10248       34.8      0.00         5   [24, -, 200, g, pkgs.]\n",
       "1    10249       42.4      0.00        40   [50, -, 300, g, pkgs.]\n",
       "2    10250       16.8      0.15        15  [32, -, 8, oz, bottles]"
      ]
     },
     "execution_count": 88,
     "metadata": {},
     "output_type": "execute_result"
    }
   ],
   "source": [
    "df_discount_spend['QuantityPerUnit'] = df_discount_spend['QuantityPerUnit'].apply(lambda x: (x.split()))\n",
    "df_discount_spend.head(3)"
   ]
  },
  {
   "cell_type": "code",
   "execution_count": 89,
   "metadata": {},
   "outputs": [
    {
     "data": {
      "text/plain": [
       "['24', '-', '200', 'g', 'pkgs.']"
      ]
     },
     "execution_count": 89,
     "metadata": {},
     "output_type": "execute_result"
    }
   ],
   "source": [
    "df_discount_spend.QuantityPerUnit.iloc[0]"
   ]
  },
  {
   "cell_type": "code",
   "execution_count": 90,
   "metadata": {},
   "outputs": [],
   "source": [
    "# Defining a function to extract the first element from each list:\n",
    "def select_first_element(L, new_list=[]):\n",
    "    for i in L:\n",
    "        if type(i) == list:\n",
    "            new_list.append(int(i[0]))\n",
    "        else:\n",
    "            pass\n",
    "    return new_list"
   ]
  },
  {
   "cell_type": "code",
   "execution_count": 91,
   "metadata": {
    "scrolled": false
   },
   "outputs": [
    {
     "name": "stdout",
     "output_type": "stream",
     "text": [
      "[24, 50, 32, 32, 15, 24, 5, 5, 12, 12, 24, 12, 24, 24, 24]\n",
      "830\n"
     ]
    }
   ],
   "source": [
    "# Extracting the first element from list:\n",
    "L = df_discount_spend.QuantityPerUnit\n",
    "QuantityPerUnitEdit = select_first_element(L)\n",
    "# Testing Output:\n",
    "print(QuantityPerUnitEdit[:15])\n",
    "print(len(QuantityPerUnitEdit))"
   ]
  },
  {
   "cell_type": "code",
   "execution_count": 92,
   "metadata": {
    "scrolled": true
   },
   "outputs": [
    {
     "data": {
      "text/html": [
       "<div>\n",
       "<style scoped>\n",
       "    .dataframe tbody tr th:only-of-type {\n",
       "        vertical-align: middle;\n",
       "    }\n",
       "\n",
       "    .dataframe tbody tr th {\n",
       "        vertical-align: top;\n",
       "    }\n",
       "\n",
       "    .dataframe thead th {\n",
       "        text-align: right;\n",
       "    }\n",
       "</style>\n",
       "<table border=\"1\" class=\"dataframe\">\n",
       "  <thead>\n",
       "    <tr style=\"text-align: right;\">\n",
       "      <th></th>\n",
       "      <th>OrderId</th>\n",
       "      <th>UnitPrice</th>\n",
       "      <th>Discount</th>\n",
       "      <th>Quantity</th>\n",
       "      <th>QuantityPerUnit</th>\n",
       "      <th>QuantityPerUnitEdit</th>\n",
       "    </tr>\n",
       "  </thead>\n",
       "  <tbody>\n",
       "    <tr>\n",
       "      <th>0</th>\n",
       "      <td>10248</td>\n",
       "      <td>34.8</td>\n",
       "      <td>0.00</td>\n",
       "      <td>5</td>\n",
       "      <td>[24, -, 200, g, pkgs.]</td>\n",
       "      <td>24</td>\n",
       "    </tr>\n",
       "    <tr>\n",
       "      <th>1</th>\n",
       "      <td>10249</td>\n",
       "      <td>42.4</td>\n",
       "      <td>0.00</td>\n",
       "      <td>40</td>\n",
       "      <td>[50, -, 300, g, pkgs.]</td>\n",
       "      <td>50</td>\n",
       "    </tr>\n",
       "    <tr>\n",
       "      <th>2</th>\n",
       "      <td>10250</td>\n",
       "      <td>16.8</td>\n",
       "      <td>0.15</td>\n",
       "      <td>15</td>\n",
       "      <td>[32, -, 8, oz, bottles]</td>\n",
       "      <td>32</td>\n",
       "    </tr>\n",
       "  </tbody>\n",
       "</table>\n",
       "</div>"
      ],
      "text/plain": [
       "   OrderId  UnitPrice  Discount  Quantity          QuantityPerUnit  \\\n",
       "0    10248       34.8      0.00         5   [24, -, 200, g, pkgs.]   \n",
       "1    10249       42.4      0.00        40   [50, -, 300, g, pkgs.]   \n",
       "2    10250       16.8      0.15        15  [32, -, 8, oz, bottles]   \n",
       "\n",
       "   QuantityPerUnitEdit  \n",
       "0                   24  \n",
       "1                   50  \n",
       "2                   32  "
      ]
     },
     "execution_count": 92,
     "metadata": {},
     "output_type": "execute_result"
    }
   ],
   "source": [
    "# Inserting newly extracted list into new DataFrame column using np:\n",
    "df_discount_spend['QuantityPerUnitEdit'] = np.array(QuantityPerUnitEdit)\n",
    "df_discount_spend.head(3)"
   ]
  },
  {
   "cell_type": "code",
   "execution_count": 93,
   "metadata": {},
   "outputs": [
    {
     "data": {
      "text/html": [
       "<div>\n",
       "<style scoped>\n",
       "    .dataframe tbody tr th:only-of-type {\n",
       "        vertical-align: middle;\n",
       "    }\n",
       "\n",
       "    .dataframe tbody tr th {\n",
       "        vertical-align: top;\n",
       "    }\n",
       "\n",
       "    .dataframe thead th {\n",
       "        text-align: right;\n",
       "    }\n",
       "</style>\n",
       "<table border=\"1\" class=\"dataframe\">\n",
       "  <thead>\n",
       "    <tr style=\"text-align: right;\">\n",
       "      <th></th>\n",
       "      <th>OrderId</th>\n",
       "      <th>UnitPrice</th>\n",
       "      <th>Discount</th>\n",
       "      <th>Quantity</th>\n",
       "      <th>QuantityPerUnitEdit</th>\n",
       "    </tr>\n",
       "  </thead>\n",
       "  <tbody>\n",
       "    <tr>\n",
       "      <th>0</th>\n",
       "      <td>10248</td>\n",
       "      <td>34.8</td>\n",
       "      <td>0.00</td>\n",
       "      <td>5</td>\n",
       "      <td>24</td>\n",
       "    </tr>\n",
       "    <tr>\n",
       "      <th>1</th>\n",
       "      <td>10249</td>\n",
       "      <td>42.4</td>\n",
       "      <td>0.00</td>\n",
       "      <td>40</td>\n",
       "      <td>50</td>\n",
       "    </tr>\n",
       "    <tr>\n",
       "      <th>2</th>\n",
       "      <td>10250</td>\n",
       "      <td>16.8</td>\n",
       "      <td>0.15</td>\n",
       "      <td>15</td>\n",
       "      <td>32</td>\n",
       "    </tr>\n",
       "  </tbody>\n",
       "</table>\n",
       "</div>"
      ],
      "text/plain": [
       "   OrderId  UnitPrice  Discount  Quantity  QuantityPerUnitEdit\n",
       "0    10248       34.8      0.00         5                   24\n",
       "1    10249       42.4      0.00        40                   50\n",
       "2    10250       16.8      0.15        15                   32"
      ]
     },
     "execution_count": 93,
     "metadata": {},
     "output_type": "execute_result"
    }
   ],
   "source": [
    "# Dropping 'QuantityPerUnit' column:\n",
    "df_discount_spend.drop(['QuantityPerUnit'], axis=1, inplace=True)\n",
    "df_discount_spend.head(3)"
   ]
  },
  {
   "cell_type": "code",
   "execution_count": 94,
   "metadata": {
    "scrolled": false
   },
   "outputs": [
    {
     "data": {
      "text/html": [
       "<div>\n",
       "<style scoped>\n",
       "    .dataframe tbody tr th:only-of-type {\n",
       "        vertical-align: middle;\n",
       "    }\n",
       "\n",
       "    .dataframe tbody tr th {\n",
       "        vertical-align: top;\n",
       "    }\n",
       "\n",
       "    .dataframe thead th {\n",
       "        text-align: right;\n",
       "    }\n",
       "</style>\n",
       "<table border=\"1\" class=\"dataframe\">\n",
       "  <thead>\n",
       "    <tr style=\"text-align: right;\">\n",
       "      <th></th>\n",
       "      <th>OrderId</th>\n",
       "      <th>UnitPrice</th>\n",
       "      <th>Discount</th>\n",
       "      <th>Quantity</th>\n",
       "      <th>QuantityPerUnitEdit</th>\n",
       "    </tr>\n",
       "  </thead>\n",
       "  <tbody>\n",
       "    <tr>\n",
       "      <th>count</th>\n",
       "      <td>830.000000</td>\n",
       "      <td>830.000000</td>\n",
       "      <td>830.000000</td>\n",
       "      <td>830.000000</td>\n",
       "      <td>830.000000</td>\n",
       "    </tr>\n",
       "    <tr>\n",
       "      <th>mean</th>\n",
       "      <td>10662.500000</td>\n",
       "      <td>24.868578</td>\n",
       "      <td>0.054157</td>\n",
       "      <td>22.883133</td>\n",
       "      <td>57.786747</td>\n",
       "    </tr>\n",
       "    <tr>\n",
       "      <th>std</th>\n",
       "      <td>239.744656</td>\n",
       "      <td>25.800797</td>\n",
       "      <td>0.082725</td>\n",
       "      <td>18.952727</td>\n",
       "      <td>139.016931</td>\n",
       "    </tr>\n",
       "    <tr>\n",
       "      <th>min</th>\n",
       "      <td>10248.000000</td>\n",
       "      <td>2.000000</td>\n",
       "      <td>0.000000</td>\n",
       "      <td>1.000000</td>\n",
       "      <td>1.000000</td>\n",
       "    </tr>\n",
       "    <tr>\n",
       "      <th>25%</th>\n",
       "      <td>10455.250000</td>\n",
       "      <td>12.000000</td>\n",
       "      <td>0.000000</td>\n",
       "      <td>10.000000</td>\n",
       "      <td>12.000000</td>\n",
       "    </tr>\n",
       "    <tr>\n",
       "      <th>50%</th>\n",
       "      <td>10662.500000</td>\n",
       "      <td>18.000000</td>\n",
       "      <td>0.000000</td>\n",
       "      <td>20.000000</td>\n",
       "      <td>24.000000</td>\n",
       "    </tr>\n",
       "    <tr>\n",
       "      <th>75%</th>\n",
       "      <td>10869.750000</td>\n",
       "      <td>33.250000</td>\n",
       "      <td>0.100000</td>\n",
       "      <td>30.000000</td>\n",
       "      <td>24.000000</td>\n",
       "    </tr>\n",
       "    <tr>\n",
       "      <th>max</th>\n",
       "      <td>11077.000000</td>\n",
       "      <td>263.500000</td>\n",
       "      <td>0.250000</td>\n",
       "      <td>130.000000</td>\n",
       "      <td>750.000000</td>\n",
       "    </tr>\n",
       "  </tbody>\n",
       "</table>\n",
       "</div>"
      ],
      "text/plain": [
       "            OrderId   UnitPrice    Discount    Quantity  QuantityPerUnitEdit\n",
       "count    830.000000  830.000000  830.000000  830.000000           830.000000\n",
       "mean   10662.500000   24.868578    0.054157   22.883133            57.786747\n",
       "std      239.744656   25.800797    0.082725   18.952727           139.016931\n",
       "min    10248.000000    2.000000    0.000000    1.000000             1.000000\n",
       "25%    10455.250000   12.000000    0.000000   10.000000            12.000000\n",
       "50%    10662.500000   18.000000    0.000000   20.000000            24.000000\n",
       "75%    10869.750000   33.250000    0.100000   30.000000            24.000000\n",
       "max    11077.000000  263.500000    0.250000  130.000000           750.000000"
      ]
     },
     "execution_count": 94,
     "metadata": {},
     "output_type": "execute_result"
    }
   ],
   "source": [
    "# Reviewing DataFrame description:\n",
    "df_discount_spend.describe()"
   ]
  },
  {
   "cell_type": "code",
   "execution_count": 95,
   "metadata": {
    "scrolled": false
   },
   "outputs": [
    {
     "data": {
      "text/html": [
       "<div>\n",
       "<style scoped>\n",
       "    .dataframe tbody tr th:only-of-type {\n",
       "        vertical-align: middle;\n",
       "    }\n",
       "\n",
       "    .dataframe tbody tr th {\n",
       "        vertical-align: top;\n",
       "    }\n",
       "\n",
       "    .dataframe thead th {\n",
       "        text-align: right;\n",
       "    }\n",
       "</style>\n",
       "<table border=\"1\" class=\"dataframe\">\n",
       "  <thead>\n",
       "    <tr style=\"text-align: right;\">\n",
       "      <th></th>\n",
       "      <th>OrderId</th>\n",
       "      <th>UnitPrice</th>\n",
       "      <th>Discount</th>\n",
       "      <th>Quantity</th>\n",
       "      <th>QuantityPerUnitEdit</th>\n",
       "    </tr>\n",
       "  </thead>\n",
       "  <tbody>\n",
       "    <tr>\n",
       "      <th>0</th>\n",
       "      <td>10248</td>\n",
       "      <td>34.8</td>\n",
       "      <td>0.00</td>\n",
       "      <td>5</td>\n",
       "      <td>24</td>\n",
       "    </tr>\n",
       "    <tr>\n",
       "      <th>1</th>\n",
       "      <td>10249</td>\n",
       "      <td>42.4</td>\n",
       "      <td>0.00</td>\n",
       "      <td>40</td>\n",
       "      <td>50</td>\n",
       "    </tr>\n",
       "    <tr>\n",
       "      <th>2</th>\n",
       "      <td>10250</td>\n",
       "      <td>16.8</td>\n",
       "      <td>0.15</td>\n",
       "      <td>15</td>\n",
       "      <td>32</td>\n",
       "    </tr>\n",
       "  </tbody>\n",
       "</table>\n",
       "</div>"
      ],
      "text/plain": [
       "   OrderId  UnitPrice  Discount  Quantity  QuantityPerUnitEdit\n",
       "0    10248       34.8      0.00         5                   24\n",
       "1    10249       42.4      0.00        40                   50\n",
       "2    10250       16.8      0.15        15                   32"
      ]
     },
     "execution_count": 95,
     "metadata": {},
     "output_type": "execute_result"
    }
   ],
   "source": [
    "df_discount_spend.head(3)"
   ]
  },
  {
   "cell_type": "code",
   "execution_count": 96,
   "metadata": {},
   "outputs": [],
   "source": [
    "# Multiplying UnitPrice by the QuantityPerUnit and Quantity to obtain total order price:\n",
    "#df_discount_spend['OrderPrice'] = \n",
    "discount_list = df_discount_spend.Discount\n",
    "unitprice_list = df_discount_spend.UnitPrice\n",
    "quantity_list = df_discount_spend.Quantity\n",
    "quantity_per_unit_list = df_discount_spend.QuantityPerUnitEdit\n",
    "\n",
    "def order_cost_calc(discount_list, unitprice_list, quantity_list, quantity_per_unit_list, new_list=[]):\n",
    "    for i in range(len(discount_list)):\n",
    "        if discount_list[i] == 0:\n",
    "            new_list.append((unitprice_list[i] * quantity_per_unit_list[i] * quantity_list[i]))\n",
    "        else:\n",
    "            new_list.append((unitprice_list[i] * quantity_list[i] * (1-discount_list[i]) * quantity_per_unit_list[i]))\n",
    "    return new_list"
   ]
  },
  {
   "cell_type": "code",
   "execution_count": 97,
   "metadata": {},
   "outputs": [
    {
     "name": "stdout",
     "output_type": "stream",
     "text": [
      "[4176.0, 84800.0, 6854.4, 10752.0, 16320.0]\n"
     ]
    }
   ],
   "source": [
    "# Making sure discounts are applied where applicable:\n",
    "OrderPrice = order_cost_calc(discount_list, unitprice_list, quantity_list, quantity_per_unit_list)\n",
    "print(OrderPrice[:5]) # Value of OrderPrice[3] confirms correct application of discount."
   ]
  },
  {
   "cell_type": "code",
   "execution_count": 98,
   "metadata": {},
   "outputs": [
    {
     "name": "stdout",
     "output_type": "stream",
     "text": [
      "830\n",
      "60.0\n"
     ]
    }
   ],
   "source": [
    "# Confirming list length equals length of DataFrame:\n",
    "print(len(OrderPrice))\n",
    "# Confirming that all values for OrderPrice are non-zero:\n",
    "print(min(OrderPrice))"
   ]
  },
  {
   "cell_type": "code",
   "execution_count": 99,
   "metadata": {},
   "outputs": [
    {
     "data": {
      "text/html": [
       "<div>\n",
       "<style scoped>\n",
       "    .dataframe tbody tr th:only-of-type {\n",
       "        vertical-align: middle;\n",
       "    }\n",
       "\n",
       "    .dataframe tbody tr th {\n",
       "        vertical-align: top;\n",
       "    }\n",
       "\n",
       "    .dataframe thead th {\n",
       "        text-align: right;\n",
       "    }\n",
       "</style>\n",
       "<table border=\"1\" class=\"dataframe\">\n",
       "  <thead>\n",
       "    <tr style=\"text-align: right;\">\n",
       "      <th></th>\n",
       "      <th>OrderId</th>\n",
       "      <th>UnitPrice</th>\n",
       "      <th>Discount</th>\n",
       "      <th>Quantity</th>\n",
       "      <th>QuantityPerUnitEdit</th>\n",
       "      <th>OrderPrice</th>\n",
       "    </tr>\n",
       "  </thead>\n",
       "  <tbody>\n",
       "    <tr>\n",
       "      <th>0</th>\n",
       "      <td>10248</td>\n",
       "      <td>34.8</td>\n",
       "      <td>0.00</td>\n",
       "      <td>5</td>\n",
       "      <td>24</td>\n",
       "      <td>4176.0</td>\n",
       "    </tr>\n",
       "    <tr>\n",
       "      <th>1</th>\n",
       "      <td>10249</td>\n",
       "      <td>42.4</td>\n",
       "      <td>0.00</td>\n",
       "      <td>40</td>\n",
       "      <td>50</td>\n",
       "      <td>84800.0</td>\n",
       "    </tr>\n",
       "    <tr>\n",
       "      <th>2</th>\n",
       "      <td>10250</td>\n",
       "      <td>16.8</td>\n",
       "      <td>0.15</td>\n",
       "      <td>15</td>\n",
       "      <td>32</td>\n",
       "      <td>6854.4</td>\n",
       "    </tr>\n",
       "  </tbody>\n",
       "</table>\n",
       "</div>"
      ],
      "text/plain": [
       "   OrderId  UnitPrice  Discount  Quantity  QuantityPerUnitEdit  OrderPrice\n",
       "0    10248       34.8      0.00         5                   24      4176.0\n",
       "1    10249       42.4      0.00        40                   50     84800.0\n",
       "2    10250       16.8      0.15        15                   32      6854.4"
      ]
     },
     "execution_count": 99,
     "metadata": {},
     "output_type": "execute_result"
    }
   ],
   "source": [
    "# Inserting new column 'OrderPrice' into DataFrame:\n",
    "df_discount_spend['OrderPrice'] = np.array(OrderPrice)\n",
    "df_discount_spend.head(3)"
   ]
  },
  {
   "cell_type": "code",
   "execution_count": 100,
   "metadata": {},
   "outputs": [
    {
     "data": {
      "text/html": [
       "<div>\n",
       "<style scoped>\n",
       "    .dataframe tbody tr th:only-of-type {\n",
       "        vertical-align: middle;\n",
       "    }\n",
       "\n",
       "    .dataframe tbody tr th {\n",
       "        vertical-align: top;\n",
       "    }\n",
       "\n",
       "    .dataframe thead th {\n",
       "        text-align: right;\n",
       "    }\n",
       "</style>\n",
       "<table border=\"1\" class=\"dataframe\">\n",
       "  <thead>\n",
       "    <tr style=\"text-align: right;\">\n",
       "      <th></th>\n",
       "      <th>OrderId</th>\n",
       "      <th>UnitPrice</th>\n",
       "      <th>Discount</th>\n",
       "      <th>Quantity</th>\n",
       "      <th>QuantityPerUnitEdit</th>\n",
       "      <th>OrderPrice</th>\n",
       "      <th>DiscBool</th>\n",
       "    </tr>\n",
       "  </thead>\n",
       "  <tbody>\n",
       "    <tr>\n",
       "      <th>0</th>\n",
       "      <td>10248</td>\n",
       "      <td>34.8</td>\n",
       "      <td>0.00</td>\n",
       "      <td>5</td>\n",
       "      <td>24</td>\n",
       "      <td>4176.0</td>\n",
       "      <td>0</td>\n",
       "    </tr>\n",
       "    <tr>\n",
       "      <th>1</th>\n",
       "      <td>10249</td>\n",
       "      <td>42.4</td>\n",
       "      <td>0.00</td>\n",
       "      <td>40</td>\n",
       "      <td>50</td>\n",
       "      <td>84800.0</td>\n",
       "      <td>0</td>\n",
       "    </tr>\n",
       "    <tr>\n",
       "      <th>2</th>\n",
       "      <td>10250</td>\n",
       "      <td>16.8</td>\n",
       "      <td>0.15</td>\n",
       "      <td>15</td>\n",
       "      <td>32</td>\n",
       "      <td>6854.4</td>\n",
       "      <td>1</td>\n",
       "    </tr>\n",
       "  </tbody>\n",
       "</table>\n",
       "</div>"
      ],
      "text/plain": [
       "   OrderId  UnitPrice  Discount  Quantity  QuantityPerUnitEdit  OrderPrice  \\\n",
       "0    10248       34.8      0.00         5                   24      4176.0   \n",
       "1    10249       42.4      0.00        40                   50     84800.0   \n",
       "2    10250       16.8      0.15        15                   32      6854.4   \n",
       "\n",
       "   DiscBool  \n",
       "0         0  \n",
       "1         0  \n",
       "2         1  "
      ]
     },
     "execution_count": 100,
     "metadata": {},
     "output_type": "execute_result"
    }
   ],
   "source": [
    "# Creating a new column to identify presence of Discount/no Discount:\n",
    "df_discount_spend['DiscBool'] = df_discount_spend['Discount'].apply(lambda x: 0 if x == 0 else 1)\n",
    "df_discount_spend.head(3)"
   ]
  },
  {
   "cell_type": "code",
   "execution_count": 101,
   "metadata": {},
   "outputs": [
    {
     "data": {
      "image/png": "[encoded data removed]",
      "text/plain": [
       "<Figure size 864x360 with 2 Axes>"
      ]
     },
     "metadata": {},
     "output_type": "display_data"
    }
   ],
   "source": [
    "# Visualizing Order Price by hue DiscBool:\n",
    "fig, axes = plt.subplots(2, 1, figsize=(12,5))\n",
    "\n",
    "# Grouping DataFrame for visualization:\n",
    "df_discount_spend.groupby(['DiscBool'])['OrderPrice'].sum().plot(kind='barh', ax=axes[0], color=['#E78AC3', '#A6D854'])\n",
    "df_discount_spend.groupby(['DiscBool'])['OrderPrice'].mean().plot(kind='barh', ax=axes[1], color=['#E78AC3', '#A6D854'])\n",
    "\n",
    "# Subplot 1 Labels:\n",
    "axes[0].set_title('Total Order Revenue', fontweight='bold', fontsize=13)\n",
    "axes[0].set_xlabel('Revenue ($)', fontweight='semibold')\n",
    "axes[0].set_ylabel('')\n",
    "axes[0].set_yticklabels(['No Discount', 'Discount'])\n",
    "\n",
    "#Subplot 2 Labels:\n",
    "axes[1].set_title('Average Order Cost', fontweight='bold', fontsize=13)\n",
    "axes[1].set_xlabel('Revenue ($)', fontweight='semibold')\n",
    "axes[1].set_ylabel('')\n",
    "axes[1].set_yticklabels(['No Discount', 'Discount'])\n",
    "fig.subplots_adjust(hspace=.75);"
   ]
  },
  {
   "cell_type": "markdown",
   "metadata": {},
   "source": [
    "Based on the visualization above, we can determine that Northwind generates more total revenue from sales of non-discounted items. However, the average order cost for orders containing discounts is greater than those without discounts. To determine whether this difference is statistically significant, we should first review the distribution of Order Price for orders with and without discount(s)."
   ]
  },
  {
   "cell_type": "code",
   "execution_count": 102,
   "metadata": {},
   "outputs": [],
   "source": [
    "# Segmenting df_discount_spend based on presence of discount:\n",
    "# Create DataFrame where value for Discount > 0:\n",
    "query1 = 'Discount > 0'\n",
    "df_discount_spend_disc = df_discount_spend.query(query1)\n",
    "\n",
    "# Create DataFrame where value for Discount == 0:\n",
    "query2 = 'Discount == 0'\n",
    "df_discount_spend_nodisc = df_discount_spend.query(query2)"
   ]
  },
  {
   "cell_type": "code",
   "execution_count": 103,
   "metadata": {
    "scrolled": true
   },
   "outputs": [
    {
     "name": "stdout",
     "output_type": "stream",
     "text": [
      "308\n"
     ]
    },
    {
     "data": {
      "text/html": [
       "<div>\n",
       "<style scoped>\n",
       "    .dataframe tbody tr th:only-of-type {\n",
       "        vertical-align: middle;\n",
       "    }\n",
       "\n",
       "    .dataframe tbody tr th {\n",
       "        vertical-align: top;\n",
       "    }\n",
       "\n",
       "    .dataframe thead th {\n",
       "        text-align: right;\n",
       "    }\n",
       "</style>\n",
       "<table border=\"1\" class=\"dataframe\">\n",
       "  <thead>\n",
       "    <tr style=\"text-align: right;\">\n",
       "      <th></th>\n",
       "      <th>OrderId</th>\n",
       "      <th>UnitPrice</th>\n",
       "      <th>Discount</th>\n",
       "      <th>Quantity</th>\n",
       "      <th>QuantityPerUnitEdit</th>\n",
       "      <th>OrderPrice</th>\n",
       "      <th>DiscBool</th>\n",
       "    </tr>\n",
       "  </thead>\n",
       "  <tbody>\n",
       "    <tr>\n",
       "      <th>2</th>\n",
       "      <td>10250</td>\n",
       "      <td>16.8</td>\n",
       "      <td>0.15</td>\n",
       "      <td>15</td>\n",
       "      <td>32</td>\n",
       "      <td>6854.40</td>\n",
       "      <td>1</td>\n",
       "    </tr>\n",
       "    <tr>\n",
       "      <th>10</th>\n",
       "      <td>10258</td>\n",
       "      <td>25.6</td>\n",
       "      <td>0.20</td>\n",
       "      <td>6</td>\n",
       "      <td>24</td>\n",
       "      <td>2949.12</td>\n",
       "      <td>1</td>\n",
       "    </tr>\n",
       "    <tr>\n",
       "      <th>12</th>\n",
       "      <td>10260</td>\n",
       "      <td>12.0</td>\n",
       "      <td>0.25</td>\n",
       "      <td>21</td>\n",
       "      <td>24</td>\n",
       "      <td>4536.00</td>\n",
       "      <td>1</td>\n",
       "    </tr>\n",
       "  </tbody>\n",
       "</table>\n",
       "</div>"
      ],
      "text/plain": [
       "    OrderId  UnitPrice  Discount  Quantity  QuantityPerUnitEdit  OrderPrice  \\\n",
       "2     10250       16.8      0.15        15                   32     6854.40   \n",
       "10    10258       25.6      0.20         6                   24     2949.12   \n",
       "12    10260       12.0      0.25        21                   24     4536.00   \n",
       "\n",
       "    DiscBool  \n",
       "2          1  \n",
       "10         1  \n",
       "12         1  "
      ]
     },
     "execution_count": 103,
     "metadata": {},
     "output_type": "execute_result"
    }
   ],
   "source": [
    "# Previewing newly created DataFrame:\n",
    "print(len(df_discount_spend_disc))\n",
    "df_discount_spend_disc.head(3)"
   ]
  },
  {
   "cell_type": "code",
   "execution_count": 104,
   "metadata": {
    "scrolled": true
   },
   "outputs": [
    {
     "data": {
      "text/html": [
       "<div>\n",
       "<style scoped>\n",
       "    .dataframe tbody tr th:only-of-type {\n",
       "        vertical-align: middle;\n",
       "    }\n",
       "\n",
       "    .dataframe tbody tr th {\n",
       "        vertical-align: top;\n",
       "    }\n",
       "\n",
       "    .dataframe thead th {\n",
       "        text-align: right;\n",
       "    }\n",
       "</style>\n",
       "<table border=\"1\" class=\"dataframe\">\n",
       "  <thead>\n",
       "    <tr style=\"text-align: right;\">\n",
       "      <th></th>\n",
       "      <th>OrderId</th>\n",
       "      <th>UnitPrice</th>\n",
       "      <th>Discount</th>\n",
       "      <th>Quantity</th>\n",
       "      <th>QuantityPerUnitEdit</th>\n",
       "      <th>OrderPrice</th>\n",
       "      <th>DiscBool</th>\n",
       "    </tr>\n",
       "  </thead>\n",
       "  <tbody>\n",
       "    <tr>\n",
       "      <th>count</th>\n",
       "      <td>308.000000</td>\n",
       "      <td>308.000000</td>\n",
       "      <td>308.000000</td>\n",
       "      <td>308.000000</td>\n",
       "      <td>308.000000</td>\n",
       "      <td>3.080000e+02</td>\n",
       "      <td>308.0</td>\n",
       "    </tr>\n",
       "    <tr>\n",
       "      <th>mean</th>\n",
       "      <td>10653.461039</td>\n",
       "      <td>24.464058</td>\n",
       "      <td>0.145942</td>\n",
       "      <td>27.428571</td>\n",
       "      <td>61.214286</td>\n",
       "      <td>3.358123e+04</td>\n",
       "      <td>1.0</td>\n",
       "    </tr>\n",
       "    <tr>\n",
       "      <th>std</th>\n",
       "      <td>230.064716</td>\n",
       "      <td>21.738923</td>\n",
       "      <td>0.070996</td>\n",
       "      <td>22.444098</td>\n",
       "      <td>147.919269</td>\n",
       "      <td>1.232602e+05</td>\n",
       "      <td>0.0</td>\n",
       "    </tr>\n",
       "    <tr>\n",
       "      <th>min</th>\n",
       "      <td>10250.000000</td>\n",
       "      <td>2.500000</td>\n",
       "      <td>0.050000</td>\n",
       "      <td>2.000000</td>\n",
       "      <td>1.000000</td>\n",
       "      <td>7.200000e+01</td>\n",
       "      <td>1.0</td>\n",
       "    </tr>\n",
       "    <tr>\n",
       "      <th>25%</th>\n",
       "      <td>10459.000000</td>\n",
       "      <td>12.000000</td>\n",
       "      <td>0.100000</td>\n",
       "      <td>12.000000</td>\n",
       "      <td>12.000000</td>\n",
       "      <td>2.904120e+03</td>\n",
       "      <td>1.0</td>\n",
       "    </tr>\n",
       "    <tr>\n",
       "      <th>50%</th>\n",
       "      <td>10642.500000</td>\n",
       "      <td>18.000000</td>\n",
       "      <td>0.150000</td>\n",
       "      <td>20.000000</td>\n",
       "      <td>24.000000</td>\n",
       "      <td>7.175000e+03</td>\n",
       "      <td>1.0</td>\n",
       "    </tr>\n",
       "    <tr>\n",
       "      <th>75%</th>\n",
       "      <td>10844.000000</td>\n",
       "      <td>32.912500</td>\n",
       "      <td>0.200000</td>\n",
       "      <td>35.000000</td>\n",
       "      <td>24.000000</td>\n",
       "      <td>1.580400e+04</td>\n",
       "      <td>1.0</td>\n",
       "    </tr>\n",
       "    <tr>\n",
       "      <th>max</th>\n",
       "      <td>11076.000000</td>\n",
       "      <td>210.800000</td>\n",
       "      <td>0.250000</td>\n",
       "      <td>130.000000</td>\n",
       "      <td>750.000000</td>\n",
       "      <td>1.579500e+06</td>\n",
       "      <td>1.0</td>\n",
       "    </tr>\n",
       "  </tbody>\n",
       "</table>\n",
       "</div>"
      ],
      "text/plain": [
       "            OrderId   UnitPrice    Discount    Quantity  QuantityPerUnitEdit  \\\n",
       "count    308.000000  308.000000  308.000000  308.000000           308.000000   \n",
       "mean   10653.461039   24.464058    0.145942   27.428571            61.214286   \n",
       "std      230.064716   21.738923    0.070996   22.444098           147.919269   \n",
       "min    10250.000000    2.500000    0.050000    2.000000             1.000000   \n",
       "25%    10459.000000   12.000000    0.100000   12.000000            12.000000   \n",
       "50%    10642.500000   18.000000    0.150000   20.000000            24.000000   \n",
       "75%    10844.000000   32.912500    0.200000   35.000000            24.000000   \n",
       "max    11076.000000  210.800000    0.250000  130.000000           750.000000   \n",
       "\n",
       "         OrderPrice  DiscBool  \n",
       "count  3.080000e+02     308.0  \n",
       "mean   3.358123e+04       1.0  \n",
       "std    1.232602e+05       0.0  \n",
       "min    7.200000e+01       1.0  \n",
       "25%    2.904120e+03       1.0  \n",
       "50%    7.175000e+03       1.0  \n",
       "75%    1.580400e+04       1.0  \n",
       "max    1.579500e+06       1.0  "
      ]
     },
     "execution_count": 104,
     "metadata": {},
     "output_type": "execute_result"
    }
   ],
   "source": [
    "# Viewing distributions of newly created DataFrame:\n",
    "df_discount_spend_disc.describe()"
   ]
  },
  {
   "cell_type": "code",
   "execution_count": 105,
   "metadata": {},
   "outputs": [],
   "source": [
    "def KDE_gen(mu, sigma, n):\n",
    "    x = np.random.normal(mu,sigma,n)\n",
    "    return x"
   ]
  },
  {
   "cell_type": "code",
   "execution_count": 106,
   "metadata": {},
   "outputs": [],
   "source": [
    "# Creating Normal Distribution using DataFrame description:\n",
    "discount_KDE = KDE_gen(33581.23, 123260.2, 308)"
   ]
  },
  {
   "cell_type": "code",
   "execution_count": 107,
   "metadata": {
    "scrolled": true
   },
   "outputs": [
    {
     "name": "stdout",
     "output_type": "stream",
     "text": [
      "522\n"
     ]
    },
    {
     "data": {
      "text/html": [
       "<div>\n",
       "<style scoped>\n",
       "    .dataframe tbody tr th:only-of-type {\n",
       "        vertical-align: middle;\n",
       "    }\n",
       "\n",
       "    .dataframe tbody tr th {\n",
       "        vertical-align: top;\n",
       "    }\n",
       "\n",
       "    .dataframe thead th {\n",
       "        text-align: right;\n",
       "    }\n",
       "</style>\n",
       "<table border=\"1\" class=\"dataframe\">\n",
       "  <thead>\n",
       "    <tr style=\"text-align: right;\">\n",
       "      <th></th>\n",
       "      <th>OrderId</th>\n",
       "      <th>UnitPrice</th>\n",
       "      <th>Discount</th>\n",
       "      <th>Quantity</th>\n",
       "      <th>QuantityPerUnitEdit</th>\n",
       "      <th>OrderPrice</th>\n",
       "      <th>DiscBool</th>\n",
       "    </tr>\n",
       "  </thead>\n",
       "  <tbody>\n",
       "    <tr>\n",
       "      <th>0</th>\n",
       "      <td>10248</td>\n",
       "      <td>34.8</td>\n",
       "      <td>0.0</td>\n",
       "      <td>5</td>\n",
       "      <td>24</td>\n",
       "      <td>4176.0</td>\n",
       "      <td>0</td>\n",
       "    </tr>\n",
       "    <tr>\n",
       "      <th>1</th>\n",
       "      <td>10249</td>\n",
       "      <td>42.4</td>\n",
       "      <td>0.0</td>\n",
       "      <td>40</td>\n",
       "      <td>50</td>\n",
       "      <td>84800.0</td>\n",
       "      <td>0</td>\n",
       "    </tr>\n",
       "    <tr>\n",
       "      <th>3</th>\n",
       "      <td>10251</td>\n",
       "      <td>16.8</td>\n",
       "      <td>0.0</td>\n",
       "      <td>20</td>\n",
       "      <td>32</td>\n",
       "      <td>10752.0</td>\n",
       "      <td>0</td>\n",
       "    </tr>\n",
       "  </tbody>\n",
       "</table>\n",
       "</div>"
      ],
      "text/plain": [
       "   OrderId  UnitPrice  Discount  Quantity  QuantityPerUnitEdit  OrderPrice  \\\n",
       "0    10248       34.8       0.0         5                   24      4176.0   \n",
       "1    10249       42.4       0.0        40                   50     84800.0   \n",
       "3    10251       16.8       0.0        20                   32     10752.0   \n",
       "\n",
       "   DiscBool  \n",
       "0         0  \n",
       "1         0  \n",
       "3         0  "
      ]
     },
     "execution_count": 107,
     "metadata": {},
     "output_type": "execute_result"
    }
   ],
   "source": [
    "# Previewing newly created DataFrame:\n",
    "print(len(df_discount_spend_nodisc))\n",
    "df_discount_spend_nodisc.head(3)"
   ]
  },
  {
   "cell_type": "code",
   "execution_count": 108,
   "metadata": {
    "scrolled": true
   },
   "outputs": [
    {
     "data": {
      "text/html": [
       "<div>\n",
       "<style scoped>\n",
       "    .dataframe tbody tr th:only-of-type {\n",
       "        vertical-align: middle;\n",
       "    }\n",
       "\n",
       "    .dataframe tbody tr th {\n",
       "        vertical-align: top;\n",
       "    }\n",
       "\n",
       "    .dataframe thead th {\n",
       "        text-align: right;\n",
       "    }\n",
       "</style>\n",
       "<table border=\"1\" class=\"dataframe\">\n",
       "  <thead>\n",
       "    <tr style=\"text-align: right;\">\n",
       "      <th></th>\n",
       "      <th>OrderId</th>\n",
       "      <th>UnitPrice</th>\n",
       "      <th>Discount</th>\n",
       "      <th>Quantity</th>\n",
       "      <th>QuantityPerUnitEdit</th>\n",
       "      <th>OrderPrice</th>\n",
       "      <th>DiscBool</th>\n",
       "    </tr>\n",
       "  </thead>\n",
       "  <tbody>\n",
       "    <tr>\n",
       "      <th>count</th>\n",
       "      <td>522.000000</td>\n",
       "      <td>522.000000</td>\n",
       "      <td>522.0</td>\n",
       "      <td>522.000000</td>\n",
       "      <td>522.000000</td>\n",
       "      <td>522.000000</td>\n",
       "      <td>522.0</td>\n",
       "    </tr>\n",
       "    <tr>\n",
       "      <th>mean</th>\n",
       "      <td>10667.833333</td>\n",
       "      <td>25.107261</td>\n",
       "      <td>0.0</td>\n",
       "      <td>20.201149</td>\n",
       "      <td>55.764368</td>\n",
       "      <td>22779.259004</td>\n",
       "      <td>0.0</td>\n",
       "    </tr>\n",
       "    <tr>\n",
       "      <th>std</th>\n",
       "      <td>245.338086</td>\n",
       "      <td>27.939034</td>\n",
       "      <td>0.0</td>\n",
       "      <td>15.978385</td>\n",
       "      <td>133.591063</td>\n",
       "      <td>61160.751644</td>\n",
       "      <td>0.0</td>\n",
       "    </tr>\n",
       "    <tr>\n",
       "      <th>min</th>\n",
       "      <td>10248.000000</td>\n",
       "      <td>2.000000</td>\n",
       "      <td>0.0</td>\n",
       "      <td>1.000000</td>\n",
       "      <td>1.000000</td>\n",
       "      <td>60.000000</td>\n",
       "      <td>0.0</td>\n",
       "    </tr>\n",
       "    <tr>\n",
       "      <th>25%</th>\n",
       "      <td>10450.500000</td>\n",
       "      <td>12.500000</td>\n",
       "      <td>0.0</td>\n",
       "      <td>9.000000</td>\n",
       "      <td>12.000000</td>\n",
       "      <td>2250.000000</td>\n",
       "      <td>0.0</td>\n",
       "    </tr>\n",
       "    <tr>\n",
       "      <th>50%</th>\n",
       "      <td>10680.000000</td>\n",
       "      <td>18.000000</td>\n",
       "      <td>0.0</td>\n",
       "      <td>16.000000</td>\n",
       "      <td>24.000000</td>\n",
       "      <td>5365.900000</td>\n",
       "      <td>0.0</td>\n",
       "    </tr>\n",
       "    <tr>\n",
       "      <th>75%</th>\n",
       "      <td>10887.750000</td>\n",
       "      <td>33.250000</td>\n",
       "      <td>0.0</td>\n",
       "      <td>30.000000</td>\n",
       "      <td>24.000000</td>\n",
       "      <td>15300.000000</td>\n",
       "      <td>0.0</td>\n",
       "    </tr>\n",
       "    <tr>\n",
       "      <th>max</th>\n",
       "      <td>11077.000000</td>\n",
       "      <td>263.500000</td>\n",
       "      <td>0.0</td>\n",
       "      <td>130.000000</td>\n",
       "      <td>750.000000</td>\n",
       "      <td>720000.000000</td>\n",
       "      <td>0.0</td>\n",
       "    </tr>\n",
       "  </tbody>\n",
       "</table>\n",
       "</div>"
      ],
      "text/plain": [
       "            OrderId   UnitPrice  Discount    Quantity  QuantityPerUnitEdit  \\\n",
       "count    522.000000  522.000000     522.0  522.000000           522.000000   \n",
       "mean   10667.833333   25.107261       0.0   20.201149            55.764368   \n",
       "std      245.338086   27.939034       0.0   15.978385           133.591063   \n",
       "min    10248.000000    2.000000       0.0    1.000000             1.000000   \n",
       "25%    10450.500000   12.500000       0.0    9.000000            12.000000   \n",
       "50%    10680.000000   18.000000       0.0   16.000000            24.000000   \n",
       "75%    10887.750000   33.250000       0.0   30.000000            24.000000   \n",
       "max    11077.000000  263.500000       0.0  130.000000           750.000000   \n",
       "\n",
       "          OrderPrice  DiscBool  \n",
       "count     522.000000     522.0  \n",
       "mean    22779.259004       0.0  \n",
       "std     61160.751644       0.0  \n",
       "min        60.000000       0.0  \n",
       "25%      2250.000000       0.0  \n",
       "50%      5365.900000       0.0  \n",
       "75%     15300.000000       0.0  \n",
       "max    720000.000000       0.0  "
      ]
     },
     "execution_count": 108,
     "metadata": {},
     "output_type": "execute_result"
    }
   ],
   "source": [
    "# Viewing distributions of newly created DataFrame:\n",
    "df_discount_spend_nodisc.describe()"
   ]
  },
  {
   "cell_type": "code",
   "execution_count": 109,
   "metadata": {},
   "outputs": [
    {
     "data": {
      "image/png": "[encoded data removed]",
      "text/plain": [
       "<Figure size 720x468 with 1 Axes>"
      ]
     },
     "metadata": {},
     "output_type": "display_data"
    }
   ],
   "source": [
    "sns.set(rc={'figure.figsize':(10,6.5)})\n",
    "\n",
    "ax = sns.boxenplot(data=df_discount_spend, x=df_discount_spend.DiscBool, y=df_discount_spend.OrderPrice, palette='Set2')\n",
    "ax = sns.swarmplot(data=df_discount_basic, x=df_discount_spend.DiscBool, y=df_discount_spend.OrderPrice, hue=df_discount_spend.Discount, palette='Set2', alpha=.75)\n",
    "ax.set_title('Discount vs. Order Price', fontsize=14, fontweight='bold')\n",
    "ax.set_ylabel('Order Price', fontweight='semibold')\n",
    "ax.set_xlabel('')\n",
    "ax.set_xticklabels(['No Discount', 'Discount'], fontweight='semibold');"
   ]
  },
  {
   "cell_type": "code",
   "execution_count": 110,
   "metadata": {},
   "outputs": [],
   "source": [
    "no_discount_KDE = KDE_gen(22779.26, 61160.75, 522)"
   ]
  },
  {
   "cell_type": "code",
   "execution_count": 111,
   "metadata": {
    "scrolled": true
   },
   "outputs": [
    {
     "data": {
      "image/png": "[encoded data removed]",
      "text/plain": [
       "<Figure size 720x360 with 1 Axes>"
      ]
     },
     "metadata": {},
     "output_type": "display_data"
    }
   ],
   "source": [
    "# Visualizing Distribution of Order Price with/without discounts:\n",
    "sns.set(rc={'figure.figsize':(10,5)})\n",
    "#ax = fig.add_axes([0,0,1,1])\n",
    "#ax2 = fig.add_axes([0.2,0.5,.4,.4])\n",
    "\n",
    "ax = sns.distplot(df_discount_spend_disc.OrderPrice, label='Discount', color='#E78AC3', bins=1500,\n",
    "                 hist_kws={\"linewidth\": 2, \"alpha\": .6})\n",
    "ax = sns.distplot(df_discount_spend_nodisc.OrderPrice, label='No Discount', color='#A6D854', bins=1500,\n",
    "                  hist_kws={\"linewidth\": 2, \"alpha\": .3})\n",
    "\n",
    "sns.pairplot\n",
    "#ax = sns.kdeplot(discount_KDE, label='Discount KDE')\n",
    "#ax = sns.kdeplot(no_discount_KDE, label='No Discount KDE')\n",
    "ax.set_xlim(-1000, 25000)\n",
    "ax.set_title('Distribution of Order Quantity', fontsize=14, fontweight='bold')\n",
    "ax.legend(loc=1, fontsize='medium');"
   ]
  },
  {
   "cell_type": "markdown",
   "metadata": {},
   "source": [
    "After reviewing the data above, it appears that some very expensive orders are causing skew in the distributions above. Before determining how to proceed, let's first visualize and compare the shapes of the distributions above in separate plots."
   ]
  },
  {
   "cell_type": "code",
   "execution_count": 112,
   "metadata": {
    "scrolled": true
   },
   "outputs": [
    {
     "data": {
      "image/png": "[encoded data removed]",
      "text/plain": [
       "<Figure size 1080x360 with 2 Axes>"
      ]
     },
     "metadata": {},
     "output_type": "display_data"
    }
   ],
   "source": [
    "# Visualizing Distribution of Order Price with/without discounts:\n",
    "fig, axes = plt.subplots(1,2, figsize=(15,5))\n",
    "\n",
    "sns.distplot(df_discount_spend_disc.OrderPrice, label='Discount', color='#E78AC3', bins=1500, ax=axes[0], \n",
    "                 hist_kws={\"linewidth\": 2, \"alpha\": .6})\n",
    "sns.distplot(df_discount_spend_nodisc.OrderPrice, label='No Discount', color='#A6D854', bins=1500, ax=axes[1], \n",
    "                  hist_kws={\"linewidth\": 2, \"alpha\": .3})\n",
    "\n",
    "# Subplot 1 Labels:\n",
    "axes[0].set_title('Order Revenue (Discount)', fontweight='bold', fontsize=13)\n",
    "axes[0].set_xlabel('Revenue ($)', fontweight='semibold')\n",
    "axes[0].set_ylabel('')\n",
    "axes[0].set_xlim(-1000, 30000)\n",
    "\n",
    "#Subplot 2 Labels:\n",
    "axes[1].set_title('Order Revenue (No Discount)', fontweight='bold', fontsize=13)\n",
    "axes[1].set_xlabel('Revenue ($)', fontweight='semibold')\n",
    "axes[1].set_ylabel('')\n",
    "axes[1].set_xlim(-1000, 30000)\n",
    "fig.subplots_adjust(hspace=.75);"
   ]
  },
  {
   "cell_type": "markdown",
   "metadata": {},
   "source": [
    "A visual examination of the distribution of Order Revenue suggests that we should transform the data to fit a normal distribution before modeling and hypothesis testing.\n",
    "\n",
    "We'll first log-scale order revenu and examine the resulting distributions."
   ]
  },
  {
   "cell_type": "code",
   "execution_count": 113,
   "metadata": {},
   "outputs": [
    {
     "data": {
      "text/html": [
       "<div>\n",
       "<style scoped>\n",
       "    .dataframe tbody tr th:only-of-type {\n",
       "        vertical-align: middle;\n",
       "    }\n",
       "\n",
       "    .dataframe tbody tr th {\n",
       "        vertical-align: top;\n",
       "    }\n",
       "\n",
       "    .dataframe thead th {\n",
       "        text-align: right;\n",
       "    }\n",
       "</style>\n",
       "<table border=\"1\" class=\"dataframe\">\n",
       "  <thead>\n",
       "    <tr style=\"text-align: right;\">\n",
       "      <th></th>\n",
       "      <th>OrderId</th>\n",
       "      <th>UnitPrice</th>\n",
       "      <th>Discount</th>\n",
       "      <th>Quantity</th>\n",
       "      <th>QuantityPerUnitEdit</th>\n",
       "      <th>OrderPrice</th>\n",
       "      <th>DiscBool</th>\n",
       "    </tr>\n",
       "  </thead>\n",
       "  <tbody>\n",
       "    <tr>\n",
       "      <th>0</th>\n",
       "      <td>10248</td>\n",
       "      <td>34.8</td>\n",
       "      <td>0.00</td>\n",
       "      <td>5</td>\n",
       "      <td>24</td>\n",
       "      <td>4176.0</td>\n",
       "      <td>0</td>\n",
       "    </tr>\n",
       "    <tr>\n",
       "      <th>1</th>\n",
       "      <td>10249</td>\n",
       "      <td>42.4</td>\n",
       "      <td>0.00</td>\n",
       "      <td>40</td>\n",
       "      <td>50</td>\n",
       "      <td>84800.0</td>\n",
       "      <td>0</td>\n",
       "    </tr>\n",
       "    <tr>\n",
       "      <th>2</th>\n",
       "      <td>10250</td>\n",
       "      <td>16.8</td>\n",
       "      <td>0.15</td>\n",
       "      <td>15</td>\n",
       "      <td>32</td>\n",
       "      <td>6854.4</td>\n",
       "      <td>1</td>\n",
       "    </tr>\n",
       "  </tbody>\n",
       "</table>\n",
       "</div>"
      ],
      "text/plain": [
       "   OrderId  UnitPrice  Discount  Quantity  QuantityPerUnitEdit  OrderPrice  \\\n",
       "0    10248       34.8      0.00         5                   24      4176.0   \n",
       "1    10249       42.4      0.00        40                   50     84800.0   \n",
       "2    10250       16.8      0.15        15                   32      6854.4   \n",
       "\n",
       "   DiscBool  \n",
       "0         0  \n",
       "1         0  \n",
       "2         1  "
      ]
     },
     "execution_count": 113,
     "metadata": {},
     "output_type": "execute_result"
    }
   ],
   "source": [
    "# Creating/previewing a copy of the df_discount_spend DataFrame:\n",
    "df_log_discount_spend = df_discount_spend.copy()\n",
    "df_log_discount_spend.head(3)"
   ]
  },
  {
   "cell_type": "code",
   "execution_count": 114,
   "metadata": {
    "scrolled": false
   },
   "outputs": [
    {
     "data": {
      "text/html": [
       "<div>\n",
       "<style scoped>\n",
       "    .dataframe tbody tr th:only-of-type {\n",
       "        vertical-align: middle;\n",
       "    }\n",
       "\n",
       "    .dataframe tbody tr th {\n",
       "        vertical-align: top;\n",
       "    }\n",
       "\n",
       "    .dataframe thead th {\n",
       "        text-align: right;\n",
       "    }\n",
       "</style>\n",
       "<table border=\"1\" class=\"dataframe\">\n",
       "  <thead>\n",
       "    <tr style=\"text-align: right;\">\n",
       "      <th></th>\n",
       "      <th>OrderId</th>\n",
       "      <th>UnitPrice</th>\n",
       "      <th>Discount</th>\n",
       "      <th>Quantity</th>\n",
       "      <th>QuantityPerUnitEdit</th>\n",
       "      <th>OrderPrice</th>\n",
       "      <th>DiscBool</th>\n",
       "      <th>LogOrderPrice</th>\n",
       "    </tr>\n",
       "  </thead>\n",
       "  <tbody>\n",
       "    <tr>\n",
       "      <th>0</th>\n",
       "      <td>10248</td>\n",
       "      <td>34.8</td>\n",
       "      <td>0.00</td>\n",
       "      <td>5</td>\n",
       "      <td>24</td>\n",
       "      <td>4176.0</td>\n",
       "      <td>0</td>\n",
       "      <td>8.337109</td>\n",
       "    </tr>\n",
       "    <tr>\n",
       "      <th>1</th>\n",
       "      <td>10249</td>\n",
       "      <td>42.4</td>\n",
       "      <td>0.00</td>\n",
       "      <td>40</td>\n",
       "      <td>50</td>\n",
       "      <td>84800.0</td>\n",
       "      <td>0</td>\n",
       "      <td>11.348051</td>\n",
       "    </tr>\n",
       "    <tr>\n",
       "      <th>2</th>\n",
       "      <td>10250</td>\n",
       "      <td>16.8</td>\n",
       "      <td>0.15</td>\n",
       "      <td>15</td>\n",
       "      <td>32</td>\n",
       "      <td>6854.4</td>\n",
       "      <td>1</td>\n",
       "      <td>8.832646</td>\n",
       "    </tr>\n",
       "  </tbody>\n",
       "</table>\n",
       "</div>"
      ],
      "text/plain": [
       "   OrderId  UnitPrice  Discount  Quantity  QuantityPerUnitEdit  OrderPrice  \\\n",
       "0    10248       34.8      0.00         5                   24      4176.0   \n",
       "1    10249       42.4      0.00        40                   50     84800.0   \n",
       "2    10250       16.8      0.15        15                   32      6854.4   \n",
       "\n",
       "   DiscBool  LogOrderPrice  \n",
       "0         0       8.337109  \n",
       "1         0      11.348051  \n",
       "2         1       8.832646  "
      ]
     },
     "execution_count": 114,
     "metadata": {},
     "output_type": "execute_result"
    }
   ],
   "source": [
    "# Log-scaling Order Price:\n",
    "log_order_price = np.log(df_log_discount_spend.OrderPrice)\n",
    "df_log_discount_spend['LogOrderPrice'] = log_order_price\n",
    "\n",
    "# Previewing DataFrame:\n",
    "df_log_discount_spend.head(3)"
   ]
  },
  {
   "cell_type": "code",
   "execution_count": 115,
   "metadata": {},
   "outputs": [],
   "source": [
    "# Segmenting df_log_discount_spend based on presence of discount:\n",
    "# Create DataFrame where value for Discount > 0:\n",
    "query1 = 'Discount > 0'\n",
    "df_log_discount_spend_disc = df_log_discount_spend.query(query1)\n",
    "\n",
    "# Create DataFrame where value for Discount == 0:\n",
    "query2 = 'Discount == 0'\n",
    "df_log_discount_spend_nodisc = df_log_discount_spend.query(query2)"
   ]
  },
  {
   "cell_type": "code",
   "execution_count": 116,
   "metadata": {
    "scrolled": true
   },
   "outputs": [
    {
     "name": "stdout",
     "output_type": "stream",
     "text": [
      "308\n"
     ]
    },
    {
     "data": {
      "text/html": [
       "<div>\n",
       "<style scoped>\n",
       "    .dataframe tbody tr th:only-of-type {\n",
       "        vertical-align: middle;\n",
       "    }\n",
       "\n",
       "    .dataframe tbody tr th {\n",
       "        vertical-align: top;\n",
       "    }\n",
       "\n",
       "    .dataframe thead th {\n",
       "        text-align: right;\n",
       "    }\n",
       "</style>\n",
       "<table border=\"1\" class=\"dataframe\">\n",
       "  <thead>\n",
       "    <tr style=\"text-align: right;\">\n",
       "      <th></th>\n",
       "      <th>OrderId</th>\n",
       "      <th>UnitPrice</th>\n",
       "      <th>Discount</th>\n",
       "      <th>Quantity</th>\n",
       "      <th>QuantityPerUnitEdit</th>\n",
       "      <th>OrderPrice</th>\n",
       "      <th>DiscBool</th>\n",
       "      <th>LogOrderPrice</th>\n",
       "    </tr>\n",
       "  </thead>\n",
       "  <tbody>\n",
       "    <tr>\n",
       "      <th>2</th>\n",
       "      <td>10250</td>\n",
       "      <td>16.8</td>\n",
       "      <td>0.15</td>\n",
       "      <td>15</td>\n",
       "      <td>32</td>\n",
       "      <td>6854.40</td>\n",
       "      <td>1</td>\n",
       "      <td>8.832646</td>\n",
       "    </tr>\n",
       "    <tr>\n",
       "      <th>10</th>\n",
       "      <td>10258</td>\n",
       "      <td>25.6</td>\n",
       "      <td>0.20</td>\n",
       "      <td>6</td>\n",
       "      <td>24</td>\n",
       "      <td>2949.12</td>\n",
       "      <td>1</td>\n",
       "      <td>7.989262</td>\n",
       "    </tr>\n",
       "    <tr>\n",
       "      <th>12</th>\n",
       "      <td>10260</td>\n",
       "      <td>12.0</td>\n",
       "      <td>0.25</td>\n",
       "      <td>21</td>\n",
       "      <td>24</td>\n",
       "      <td>4536.00</td>\n",
       "      <td>1</td>\n",
       "      <td>8.419801</td>\n",
       "    </tr>\n",
       "  </tbody>\n",
       "</table>\n",
       "</div>"
      ],
      "text/plain": [
       "    OrderId  UnitPrice  Discount  Quantity  QuantityPerUnitEdit  OrderPrice  \\\n",
       "2     10250       16.8      0.15        15                   32     6854.40   \n",
       "10    10258       25.6      0.20         6                   24     2949.12   \n",
       "12    10260       12.0      0.25        21                   24     4536.00   \n",
       "\n",
       "    DiscBool  LogOrderPrice  \n",
       "2          1       8.832646  \n",
       "10         1       7.989262  \n",
       "12         1       8.419801  "
      ]
     },
     "execution_count": 116,
     "metadata": {},
     "output_type": "execute_result"
    }
   ],
   "source": [
    "# Verifying Output:\n",
    "print(len(df_log_discount_spend_disc))\n",
    "df_log_discount_spend_disc.head(3)"
   ]
  },
  {
   "cell_type": "code",
   "execution_count": 117,
   "metadata": {},
   "outputs": [
    {
     "name": "stdout",
     "output_type": "stream",
     "text": [
      "522\n"
     ]
    },
    {
     "data": {
      "text/html": [
       "<div>\n",
       "<style scoped>\n",
       "    .dataframe tbody tr th:only-of-type {\n",
       "        vertical-align: middle;\n",
       "    }\n",
       "\n",
       "    .dataframe tbody tr th {\n",
       "        vertical-align: top;\n",
       "    }\n",
       "\n",
       "    .dataframe thead th {\n",
       "        text-align: right;\n",
       "    }\n",
       "</style>\n",
       "<table border=\"1\" class=\"dataframe\">\n",
       "  <thead>\n",
       "    <tr style=\"text-align: right;\">\n",
       "      <th></th>\n",
       "      <th>OrderId</th>\n",
       "      <th>UnitPrice</th>\n",
       "      <th>Discount</th>\n",
       "      <th>Quantity</th>\n",
       "      <th>QuantityPerUnitEdit</th>\n",
       "      <th>OrderPrice</th>\n",
       "      <th>DiscBool</th>\n",
       "      <th>LogOrderPrice</th>\n",
       "    </tr>\n",
       "  </thead>\n",
       "  <tbody>\n",
       "    <tr>\n",
       "      <th>0</th>\n",
       "      <td>10248</td>\n",
       "      <td>34.8</td>\n",
       "      <td>0.0</td>\n",
       "      <td>5</td>\n",
       "      <td>24</td>\n",
       "      <td>4176.0</td>\n",
       "      <td>0</td>\n",
       "      <td>8.337109</td>\n",
       "    </tr>\n",
       "    <tr>\n",
       "      <th>1</th>\n",
       "      <td>10249</td>\n",
       "      <td>42.4</td>\n",
       "      <td>0.0</td>\n",
       "      <td>40</td>\n",
       "      <td>50</td>\n",
       "      <td>84800.0</td>\n",
       "      <td>0</td>\n",
       "      <td>11.348051</td>\n",
       "    </tr>\n",
       "    <tr>\n",
       "      <th>3</th>\n",
       "      <td>10251</td>\n",
       "      <td>16.8</td>\n",
       "      <td>0.0</td>\n",
       "      <td>20</td>\n",
       "      <td>32</td>\n",
       "      <td>10752.0</td>\n",
       "      <td>0</td>\n",
       "      <td>9.282847</td>\n",
       "    </tr>\n",
       "  </tbody>\n",
       "</table>\n",
       "</div>"
      ],
      "text/plain": [
       "   OrderId  UnitPrice  Discount  Quantity  QuantityPerUnitEdit  OrderPrice  \\\n",
       "0    10248       34.8       0.0         5                   24      4176.0   \n",
       "1    10249       42.4       0.0        40                   50     84800.0   \n",
       "3    10251       16.8       0.0        20                   32     10752.0   \n",
       "\n",
       "   DiscBool  LogOrderPrice  \n",
       "0         0       8.337109  \n",
       "1         0      11.348051  \n",
       "3         0       9.282847  "
      ]
     },
     "execution_count": 117,
     "metadata": {},
     "output_type": "execute_result"
    }
   ],
   "source": [
    "# Verifying Output:\n",
    "print(len(df_log_discount_spend_nodisc))\n",
    "df_log_discount_spend_nodisc.head(3)"
   ]
  },
  {
   "cell_type": "code",
   "execution_count": 118,
   "metadata": {
    "scrolled": true
   },
   "outputs": [
    {
     "data": {
      "image/png": "[encoded data removed]",
      "text/plain": [
       "<Figure size 1080x360 with 2 Axes>"
      ]
     },
     "metadata": {},
     "output_type": "display_data"
    }
   ],
   "source": [
    "# Repeating the visualizations above using new column 'LogOrderPrice':\n",
    "fig, axes = plt.subplots(1,2, figsize=(15,5))\n",
    "\n",
    "sns.distplot(df_log_discount_spend_disc.LogOrderPrice, label='Discount', color='#E78AC3', bins=30, ax=axes[0], \n",
    "                 hist_kws={\"linewidth\": 2, \"alpha\": .6})\n",
    "sns.distplot(df_log_discount_spend_nodisc.LogOrderPrice, label='No Discount', color='#A6D854', bins=30, ax=axes[1], \n",
    "                  hist_kws={\"linewidth\": 2, \"alpha\": .3})\n",
    "\n",
    "# Subplot 1 Labels:\n",
    "axes[0].set_title('Order Revenue (Discount)', fontweight='bold', fontsize=13)\n",
    "axes[0].set_xlabel('Log Revenue', fontweight='semibold')\n",
    "axes[0].set_ylabel('')\n",
    "#axes[0].set_xlim(-1000, 30000)\n",
    "\n",
    "#Subplot 2 Labels:\n",
    "axes[1].set_title('Order Revenue (No Discount)', fontweight='bold', fontsize=13)\n",
    "axes[1].set_xlabel('Log Revenue', fontweight='semibold')\n",
    "axes[1].set_ylabel('')\n",
    "#axes[1].set_xlim(-1000, 30000)\n",
    "fig.subplots_adjust(hspace=.75);"
   ]
  },
  {
   "cell_type": "markdown",
   "metadata": {},
   "source": [
    "Great! Log transforming Order Revenue has normalized the data for both distributions. As our sample size is \"large\" for both distributions and distribution is normal, we can determine whether the presence of a discount has a statistically significant effect on Order Price using a standard two-tailed t-test."
   ]
  },
  {
   "cell_type": "code",
   "execution_count": 119,
   "metadata": {},
   "outputs": [
    {
     "name": "stdout",
     "output_type": "stream",
     "text": [
      "Avg with discount: 33581.23\n",
      "Avg with no discount: 22779.26\n",
      "Effect Size: 10801.97\n",
      "Relative effect size: 0.47\n"
     ]
    }
   ],
   "source": [
    "a = df_log_discount_spend_disc.OrderPrice.mean()\n",
    "b = df_log_discount_spend_nodisc.OrderPrice.mean()\n",
    "results_printer(a,b)"
   ]
  },
  {
   "cell_type": "code",
   "execution_count": 120,
   "metadata": {},
   "outputs": [
    {
     "name": "stdout",
     "output_type": "stream",
     "text": [
      "Avg with discount: 8.88\n",
      "Avg with no discount: 8.7\n",
      "Effect Size: 0.19\n",
      "Relative effect size: 0.02\n"
     ]
    }
   ],
   "source": [
    "a = df_log_discount_spend_disc.LogOrderPrice.mean()\n",
    "b = df_log_discount_spend_nodisc.LogOrderPrice.mean()\n",
    "results_printer(a,b)"
   ]
  },
  {
   "cell_type": "code",
   "execution_count": 121,
   "metadata": {},
   "outputs": [
    {
     "data": {
      "text/plain": [
       "Ttest_indResult(statistic=1.6499761178500325, pvalue=0.09932708305041704)"
      ]
     },
     "execution_count": 121,
     "metadata": {},
     "output_type": "execute_result"
    }
   ],
   "source": [
    "# Using a two-tailed t-test to compare distributions above:\n",
    "stats.ttest_ind(df_log_discount_spend_disc.LogOrderPrice, df_log_discount_spend_nodisc.LogOrderPrice)"
   ]
  },
  {
   "cell_type": "markdown",
   "metadata": {},
   "source": [
    "The resulting p-value of our two-tailed t-test is 0.10, and is less than our $\\alpha$ value of 0.05.\n",
    "\n",
    "#### 2a. Do discounts have a statistically significant effect on average customer spend?\n",
    "* $H_{0}:$ Discounts do not have a statistically significant effect on average customer spend.\n",
    "<br>\n",
    "* $H_{a}:$ Discounts do have a statistically significant effect (whether positive or negative) on average customer spend.\n",
    "<br>\n",
    "* $\\alpha$ = 0.05\n",
    "\n",
    "Because p-value <  $\\alpha$(0.05), we reject the null hypothesis that states that discounts do not have a statistically significant effect on customer order spend amount. We can conclude with ~99% certainty that the results of our test are not due to random chance (a type I error), and that discounts do have a statistically significant effect on customer order spend.\n",
    "\n",
    "#### 1b. If so, at what level(s) of discount?\n",
    "* $H_{0}:$ Customer order price is the same regardless of discount level.\n",
    "<br>\n",
    "* $H_{a}:$ Customer order price is not the same as discount level changes.\n",
    "<br>\n",
    "* $\\alpha$ = 0.05"
   ]
  },
  {
   "cell_type": "code",
   "execution_count": 122,
   "metadata": {},
   "outputs": [
    {
     "data": {
      "text/html": [
       "<div>\n",
       "<style scoped>\n",
       "    .dataframe tbody tr th:only-of-type {\n",
       "        vertical-align: middle;\n",
       "    }\n",
       "\n",
       "    .dataframe tbody tr th {\n",
       "        vertical-align: top;\n",
       "    }\n",
       "\n",
       "    .dataframe thead th {\n",
       "        text-align: right;\n",
       "    }\n",
       "</style>\n",
       "<table border=\"1\" class=\"dataframe\">\n",
       "  <thead>\n",
       "    <tr style=\"text-align: right;\">\n",
       "      <th></th>\n",
       "      <th>OrderId</th>\n",
       "      <th>UnitPrice</th>\n",
       "      <th>Discount</th>\n",
       "      <th>Quantity</th>\n",
       "      <th>QuantityPerUnitEdit</th>\n",
       "      <th>OrderPrice</th>\n",
       "      <th>DiscBool</th>\n",
       "      <th>LogOrderPrice</th>\n",
       "    </tr>\n",
       "  </thead>\n",
       "  <tbody>\n",
       "    <tr>\n",
       "      <th>0</th>\n",
       "      <td>10248</td>\n",
       "      <td>34.8</td>\n",
       "      <td>0.00</td>\n",
       "      <td>5</td>\n",
       "      <td>24</td>\n",
       "      <td>4176.0</td>\n",
       "      <td>0</td>\n",
       "      <td>8.337109</td>\n",
       "    </tr>\n",
       "    <tr>\n",
       "      <th>1</th>\n",
       "      <td>10249</td>\n",
       "      <td>42.4</td>\n",
       "      <td>0.00</td>\n",
       "      <td>40</td>\n",
       "      <td>50</td>\n",
       "      <td>84800.0</td>\n",
       "      <td>0</td>\n",
       "      <td>11.348051</td>\n",
       "    </tr>\n",
       "    <tr>\n",
       "      <th>2</th>\n",
       "      <td>10250</td>\n",
       "      <td>16.8</td>\n",
       "      <td>0.15</td>\n",
       "      <td>15</td>\n",
       "      <td>32</td>\n",
       "      <td>6854.4</td>\n",
       "      <td>1</td>\n",
       "      <td>8.832646</td>\n",
       "    </tr>\n",
       "  </tbody>\n",
       "</table>\n",
       "</div>"
      ],
      "text/plain": [
       "   OrderId  UnitPrice  Discount  Quantity  QuantityPerUnitEdit  OrderPrice  \\\n",
       "0    10248       34.8      0.00         5                   24      4176.0   \n",
       "1    10249       42.4      0.00        40                   50     84800.0   \n",
       "2    10250       16.8      0.15        15                   32      6854.4   \n",
       "\n",
       "   DiscBool  LogOrderPrice  \n",
       "0         0       8.337109  \n",
       "1         0      11.348051  \n",
       "2         1       8.832646  "
      ]
     },
     "execution_count": 122,
     "metadata": {},
     "output_type": "execute_result"
    }
   ],
   "source": [
    "df_log_discount_spend.head(3)"
   ]
  },
  {
   "cell_type": "code",
   "execution_count": 123,
   "metadata": {
    "scrolled": true
   },
   "outputs": [
    {
     "data": {
      "text/plain": [
       "<matplotlib.legend.Legend at 0x1c194b2898>"
      ]
     },
     "execution_count": 123,
     "metadata": {},
     "output_type": "execute_result"
    },
    {
     "data": {
      "image/png": "[encoded data removed]",
      "text/plain": [
       "<Figure size 720x468 with 1 Axes>"
      ]
     },
     "metadata": {},
     "output_type": "display_data"
    }
   ],
   "source": [
    "sns.set(rc={'figure.figsize':(10,6.5)})\n",
    "\n",
    "ax = sns.boxenplot(data=df_log_discount_spend, x=df_discount_spend.Discount, y=df_discount_spend.OrderPrice, palette='Set2')\n",
    "ax = sns.swarmplot(data=df_log_discount_spend, x=df_discount_spend.Discount, y=df_discount_spend.OrderPrice, hue=df_discount_spend.Discount, palette='Set2', alpha=.75)\n",
    "ax.set_title('Discount vs. Order Price', fontsize=14, fontweight='bold')\n",
    "ax.set_ylabel('Order Price', fontweight='semibold')\n",
    "ax.set_xlabel('')\n",
    "ax.set_xticklabels(['No Discount', '0.05', '0.10', '0.15', '0.20', '0.25'], fontweight='semibold');\n",
    "ax.legend(loc=1, fontsize='medium')"
   ]
  },
  {
   "cell_type": "code",
   "execution_count": 124,
   "metadata": {},
   "outputs": [],
   "source": [
    "# Creating New DataFrames for varying discount level:\n",
    "df_log_ds_nodisc = df_log_discount_spend[df_log_discount_spend.Discount.isin([0])]\n",
    "df_log_ds_5p = df_log_discount_spend[df_log_discount_spend.Discount.isin([.05])]\n",
    "df_log_ds_10p = df_log_discount_spend[df_log_discount_spend.Discount.isin([.10])]\n",
    "df_log_ds_15p = df_log_discount_spend[df_log_discount_spend.Discount.isin([.15])]\n",
    "df_log_ds_20p = df_log_discount_spend[df_log_discount_spend.Discount.isin([.20])]\n",
    "df_log_ds_25p = df_log_discount_spend[df_log_discount_spend.Discount.isin([.25])]"
   ]
  },
  {
   "cell_type": "code",
   "execution_count": 125,
   "metadata": {},
   "outputs": [
    {
     "name": "stdout",
     "output_type": "stream",
     "text": [
      "Num Orders with no discount: 522\n",
      "Num Orders with 5% discount: 70\n",
      "Num Orders with 10% discount: 57\n",
      "Num Orders with 15% discount: 65\n",
      "Num Orders with 20% discount: 60\n",
      "Num Orders with 25% discount: 56\n"
     ]
    }
   ],
   "source": [
    "print(f'Num Orders with no discount: {len(df_log_ds_nodisc)}')\n",
    "print(f'Num Orders with 5% discount: {len(df_log_ds_5p)}')\n",
    "print(f'Num Orders with 10% discount: {len(df_log_ds_10p)}')\n",
    "print(f'Num Orders with 15% discount: {len(df_log_ds_15p)}')\n",
    "print(f'Num Orders with 20% discount: {len(df_log_ds_20p)}')\n",
    "print(f'Num Orders with 25% discount: {len(df_log_ds_25p)}')"
   ]
  },
  {
   "cell_type": "code",
   "execution_count": 126,
   "metadata": {
    "scrolled": true
   },
   "outputs": [
    {
     "data": {
      "image/png": "[encoded data removed]",
      "text/plain": [
       "<Figure size 720x360 with 1 Axes>"
      ]
     },
     "metadata": {},
     "output_type": "display_data"
    }
   ],
   "source": [
    "# Visualizing Distribution of Order Price with/without discounts:\n",
    "sns.set(rc={'figure.figsize':(10,5)})\n",
    "\n",
    "# Plotting Overlapping distplots for each discount level:\n",
    "ax = sns.distplot(df_log_ds_nodisc.LogOrderPrice, label='No Discount', color='#E78AC3', bins=30,\n",
    "                 hist_kws={\"linewidth\": 2, \"alpha\":.4})\n",
    "ax = sns.distplot(df_log_ds_5p.LogOrderPrice, label='5% Discount', color='#A6D854', bins=30,\n",
    "                  hist_kws={\"linewidth\": 2, \"alpha\": .4})\n",
    "ax = sns.distplot(df_log_ds_10p.LogOrderPrice, label='10% Discount', color='#FFD92F', bins=30,\n",
    "                  hist_kws={\"linewidth\": 2, \"alpha\": .4})\n",
    "ax = sns.distplot(df_log_ds_15p.LogOrderPrice, label='15% Discount', color='#E5C494', bins=30,\n",
    "                  hist_kws={\"linewidth\": 2, \"alpha\": .4})\n",
    "ax = sns.distplot(df_log_ds_20p.LogOrderPrice, label='20% Discount', color='#B3B3B3', bins=30,\n",
    "                  hist_kws={\"linewidth\": 2, \"alpha\": .4})\n",
    "ax = sns.distplot(df_log_ds_25p.LogOrderPrice, label='25% Discount', color='#66C2A5', bins=30,\n",
    "                  hist_kws={\"linewidth\": 2, \"alpha\": .4})\n",
    "\n",
    "ax.set_xlabel('Log Order Price', fontweight='semibold')\n",
    "ax.set_title('Distribution of Order Price by Discount', fontsize=14, fontweight='bold')\n",
    "ax.legend(loc=1, fontsize='medium');"
   ]
  },
  {
   "cell_type": "markdown",
   "metadata": {},
   "source": [
    "Distribution of Order price appears normal across each discount level. We can now fit the data above to a model and use ANOVA to measure variance between samples populations."
   ]
  },
  {
   "cell_type": "code",
   "execution_count": 127,
   "metadata": {},
   "outputs": [
    {
     "data": {
      "text/html": [
       "<div>\n",
       "<style scoped>\n",
       "    .dataframe tbody tr th:only-of-type {\n",
       "        vertical-align: middle;\n",
       "    }\n",
       "\n",
       "    .dataframe tbody tr th {\n",
       "        vertical-align: top;\n",
       "    }\n",
       "\n",
       "    .dataframe thead th {\n",
       "        text-align: right;\n",
       "    }\n",
       "</style>\n",
       "<table border=\"1\" class=\"dataframe\">\n",
       "  <thead>\n",
       "    <tr style=\"text-align: right;\">\n",
       "      <th></th>\n",
       "      <th>OrderId</th>\n",
       "      <th>UnitPrice</th>\n",
       "      <th>Discount</th>\n",
       "      <th>Quantity</th>\n",
       "      <th>QuantityPerUnitEdit</th>\n",
       "      <th>OrderPrice</th>\n",
       "      <th>DiscBool</th>\n",
       "      <th>LogOrderPrice</th>\n",
       "    </tr>\n",
       "  </thead>\n",
       "  <tbody>\n",
       "    <tr>\n",
       "      <th>0</th>\n",
       "      <td>10248</td>\n",
       "      <td>34.8</td>\n",
       "      <td>0.00</td>\n",
       "      <td>5</td>\n",
       "      <td>24</td>\n",
       "      <td>4176.0</td>\n",
       "      <td>0</td>\n",
       "      <td>8.337109</td>\n",
       "    </tr>\n",
       "    <tr>\n",
       "      <th>1</th>\n",
       "      <td>10249</td>\n",
       "      <td>42.4</td>\n",
       "      <td>0.00</td>\n",
       "      <td>40</td>\n",
       "      <td>50</td>\n",
       "      <td>84800.0</td>\n",
       "      <td>0</td>\n",
       "      <td>11.348051</td>\n",
       "    </tr>\n",
       "    <tr>\n",
       "      <th>2</th>\n",
       "      <td>10250</td>\n",
       "      <td>16.8</td>\n",
       "      <td>0.15</td>\n",
       "      <td>15</td>\n",
       "      <td>32</td>\n",
       "      <td>6854.4</td>\n",
       "      <td>1</td>\n",
       "      <td>8.832646</td>\n",
       "    </tr>\n",
       "  </tbody>\n",
       "</table>\n",
       "</div>"
      ],
      "text/plain": [
       "   OrderId  UnitPrice  Discount  Quantity  QuantityPerUnitEdit  OrderPrice  \\\n",
       "0    10248       34.8      0.00         5                   24      4176.0   \n",
       "1    10249       42.4      0.00        40                   50     84800.0   \n",
       "2    10250       16.8      0.15        15                   32      6854.4   \n",
       "\n",
       "   DiscBool  LogOrderPrice  \n",
       "0         0       8.337109  \n",
       "1         0      11.348051  \n",
       "2         1       8.832646  "
      ]
     },
     "execution_count": 127,
     "metadata": {},
     "output_type": "execute_result"
    }
   ],
   "source": [
    "df_log_discount_spend.head(3)"
   ]
  },
  {
   "cell_type": "code",
   "execution_count": 128,
   "metadata": {},
   "outputs": [],
   "source": [
    "# Fitting data to model:\n",
    "lm = ols('LogOrderPrice ~ C(Discount)', df_log_discount_spend).fit()"
   ]
  },
  {
   "cell_type": "code",
   "execution_count": 129,
   "metadata": {},
   "outputs": [
    {
     "data": {
      "text/html": [
       "<table class=\"simpletable\">\n",
       "<caption>OLS Regression Results</caption>\n",
       "<tr>\n",
       "  <th>Dep. Variable:</th>      <td>LogOrderPrice</td>  <th>  R-squared:         </th> <td>   0.009</td>\n",
       "</tr>\n",
       "<tr>\n",
       "  <th>Model:</th>                   <td>OLS</td>       <th>  Adj. R-squared:    </th> <td>   0.003</td>\n",
       "</tr>\n",
       "<tr>\n",
       "  <th>Method:</th>             <td>Least Squares</td>  <th>  F-statistic:       </th> <td>   1.432</td>\n",
       "</tr>\n",
       "<tr>\n",
       "  <th>Date:</th>             <td>Sun, 16 Jun 2019</td> <th>  Prob (F-statistic):</th>  <td> 0.210</td> \n",
       "</tr>\n",
       "<tr>\n",
       "  <th>Time:</th>                 <td>18:43:57</td>     <th>  Log-Likelihood:    </th> <td> -1551.7</td>\n",
       "</tr>\n",
       "<tr>\n",
       "  <th>No. Observations:</th>      <td>   830</td>      <th>  AIC:               </th> <td>   3115.</td>\n",
       "</tr>\n",
       "<tr>\n",
       "  <th>Df Residuals:</th>          <td>   824</td>      <th>  BIC:               </th> <td>   3144.</td>\n",
       "</tr>\n",
       "<tr>\n",
       "  <th>Df Model:</th>              <td>     5</td>      <th>                     </th>     <td> </td>   \n",
       "</tr>\n",
       "<tr>\n",
       "  <th>Covariance Type:</th>      <td>nonrobust</td>    <th>                     </th>     <td> </td>   \n",
       "</tr>\n",
       "</table>\n",
       "<table class=\"simpletable\">\n",
       "<tr>\n",
       "           <td></td>              <th>coef</th>     <th>std err</th>      <th>t</th>      <th>P>|t|</th>  <th>[0.025</th>    <th>0.975]</th>  \n",
       "</tr>\n",
       "<tr>\n",
       "  <th>Intercept</th>           <td>    8.6968</td> <td>    0.069</td> <td>  126.166</td> <td> 0.000</td> <td>    8.561</td> <td>    8.832</td>\n",
       "</tr>\n",
       "<tr>\n",
       "  <th>C(Discount)[T.0.05]</th> <td>    0.4425</td> <td>    0.200</td> <td>    2.207</td> <td> 0.028</td> <td>    0.049</td> <td>    0.836</td>\n",
       "</tr>\n",
       "<tr>\n",
       "  <th>C(Discount)[T.0.1]</th>  <td>    0.0836</td> <td>    0.220</td> <td>    0.380</td> <td> 0.704</td> <td>   -0.348</td> <td>    0.515</td>\n",
       "</tr>\n",
       "<tr>\n",
       "  <th>C(Discount)[T.0.15]</th> <td>    0.3323</td> <td>    0.207</td> <td>    1.604</td> <td> 0.109</td> <td>   -0.074</td> <td>    0.739</td>\n",
       "</tr>\n",
       "<tr>\n",
       "  <th>C(Discount)[T.0.2]</th>  <td>   -0.0591</td> <td>    0.215</td> <td>   -0.275</td> <td> 0.783</td> <td>   -0.481</td> <td>    0.362</td>\n",
       "</tr>\n",
       "<tr>\n",
       "  <th>C(Discount)[T.0.25]</th> <td>    0.0666</td> <td>    0.221</td> <td>    0.301</td> <td> 0.764</td> <td>   -0.368</td> <td>    0.501</td>\n",
       "</tr>\n",
       "</table>\n",
       "<table class=\"simpletable\">\n",
       "<tr>\n",
       "  <th>Omnibus:</th>       <td>15.319</td> <th>  Durbin-Watson:     </th> <td>   2.065</td>\n",
       "</tr>\n",
       "<tr>\n",
       "  <th>Prob(Omnibus):</th> <td> 0.000</td> <th>  Jarque-Bera (JB):  </th> <td>  16.434</td>\n",
       "</tr>\n",
       "<tr>\n",
       "  <th>Skew:</th>          <td> 0.285</td> <th>  Prob(JB):          </th> <td>0.000270</td>\n",
       "</tr>\n",
       "<tr>\n",
       "  <th>Kurtosis:</th>      <td> 3.387</td> <th>  Cond. No.          </th> <td>    4.79</td>\n",
       "</tr>\n",
       "</table><br/><br/>Warnings:<br/>[1] Standard Errors assume that the covariance matrix of the errors is correctly specified."
      ],
      "text/plain": [
       "<class 'statsmodels.iolib.summary.Summary'>\n",
       "\"\"\"\n",
       "                            OLS Regression Results                            \n",
       "==============================================================================\n",
       "Dep. Variable:          LogOrderPrice   R-squared:                       0.009\n",
       "Model:                            OLS   Adj. R-squared:                  0.003\n",
       "Method:                 Least Squares   F-statistic:                     1.432\n",
       "Date:                Sun, 16 Jun 2019   Prob (F-statistic):              0.210\n",
       "Time:                        18:43:57   Log-Likelihood:                -1551.7\n",
       "No. Observations:                 830   AIC:                             3115.\n",
       "Df Residuals:                     824   BIC:                             3144.\n",
       "Df Model:                           5                                         \n",
       "Covariance Type:            nonrobust                                         \n",
       "=======================================================================================\n",
       "                          coef    std err          t      P>|t|      [0.025      0.975]\n",
       "---------------------------------------------------------------------------------------\n",
       "Intercept               8.6968      0.069    126.166      0.000       8.561       8.832\n",
       "C(Discount)[T.0.05]     0.4425      0.200      2.207      0.028       0.049       0.836\n",
       "C(Discount)[T.0.1]      0.0836      0.220      0.380      0.704      -0.348       0.515\n",
       "C(Discount)[T.0.15]     0.3323      0.207      1.604      0.109      -0.074       0.739\n",
       "C(Discount)[T.0.2]     -0.0591      0.215     -0.275      0.783      -0.481       0.362\n",
       "C(Discount)[T.0.25]     0.0666      0.221      0.301      0.764      -0.368       0.501\n",
       "==============================================================================\n",
       "Omnibus:                       15.319   Durbin-Watson:                   2.065\n",
       "Prob(Omnibus):                  0.000   Jarque-Bera (JB):               16.434\n",
       "Skew:                           0.285   Prob(JB):                     0.000270\n",
       "Kurtosis:                       3.387   Cond. No.                         4.79\n",
       "==============================================================================\n",
       "\n",
       "Warnings:\n",
       "[1] Standard Errors assume that the covariance matrix of the errors is correctly specified.\n",
       "\"\"\""
      ]
     },
     "execution_count": 129,
     "metadata": {},
     "output_type": "execute_result"
    }
   ],
   "source": [
    "# Printing OLS Regression Results:\n",
    "lm.summary()"
   ]
  },
  {
   "cell_type": "code",
   "execution_count": 130,
   "metadata": {},
   "outputs": [
    {
     "data": {
      "text/html": [
       "<div>\n",
       "<style scoped>\n",
       "    .dataframe tbody tr th:only-of-type {\n",
       "        vertical-align: middle;\n",
       "    }\n",
       "\n",
       "    .dataframe tbody tr th {\n",
       "        vertical-align: top;\n",
       "    }\n",
       "\n",
       "    .dataframe thead th {\n",
       "        text-align: right;\n",
       "    }\n",
       "</style>\n",
       "<table border=\"1\" class=\"dataframe\">\n",
       "  <thead>\n",
       "    <tr style=\"text-align: right;\">\n",
       "      <th></th>\n",
       "      <th>sum_sq</th>\n",
       "      <th>df</th>\n",
       "      <th>F</th>\n",
       "      <th>PR(&gt;F)</th>\n",
       "    </tr>\n",
       "  </thead>\n",
       "  <tbody>\n",
       "    <tr>\n",
       "      <th>C(Discount)</th>\n",
       "      <td>17.752804</td>\n",
       "      <td>5.0</td>\n",
       "      <td>1.43151</td>\n",
       "      <td>0.210464</td>\n",
       "    </tr>\n",
       "    <tr>\n",
       "      <th>Residual</th>\n",
       "      <td>2043.760035</td>\n",
       "      <td>824.0</td>\n",
       "      <td>NaN</td>\n",
       "      <td>NaN</td>\n",
       "    </tr>\n",
       "  </tbody>\n",
       "</table>\n",
       "</div>"
      ],
      "text/plain": [
       "                  sum_sq     df        F    PR(>F)\n",
       "C(Discount)    17.752804    5.0  1.43151  0.210464\n",
       "Residual     2043.760035  824.0      NaN       NaN"
      ]
     },
     "execution_count": 130,
     "metadata": {},
     "output_type": "execute_result"
    }
   ],
   "source": [
    "# ANOVA test:\n",
    "sm.stats.anova_lm(lm, typ=2)"
   ]
  },
  {
   "cell_type": "code",
   "execution_count": 131,
   "metadata": {},
   "outputs": [],
   "source": [
    "df_list = [df_log_ds_nodisc.OrderPrice, df_log_ds_5p.OrderPrice, df_log_ds_10p.OrderPrice, \\\n",
    "                df_log_ds_15p.OrderPrice, df_log_ds_20p.OrderPrice, df_log_ds_25p.OrderPrice]"
   ]
  },
  {
   "cell_type": "code",
   "execution_count": 132,
   "metadata": {},
   "outputs": [],
   "source": [
    "def percent_dif_revenue(df_list):\n",
    "    print('')\n",
    "    print(linespacer+'---------------------------------------')\n",
    "    print('')\n",
    "    print('Percent Difference in Revenue between No Discount & each Discount Level:')\n",
    "    print('')\n",
    "    print(linespacer+'---------------------------------------')\n",
    "    for i in range(len(df_list)):\n",
    "        print(f'Mean Revenue per Order at Discount Level {round((i*.05),2)} = {df_list[i].mean()}')\n",
    "        print(f'Percent Difference between Discount Level {round((i*.05),2)} & N/A = {((df_list[i].mean() - df_list[0].mean())/df_list[0].mean())*100}')\n",
    "        results_printer(df_list[i].mean(), df_list[0].mean())\n",
    "        print(linespacer+'---------------------------------------')"
   ]
  },
  {
   "cell_type": "code",
   "execution_count": 133,
   "metadata": {
    "scrolled": true
   },
   "outputs": [
    {
     "name": "stdout",
     "output_type": "stream",
     "text": [
      "\n",
      "----------------------------------------------------------------------\n",
      "\n",
      "Percent Difference in Revenue between No Discount & each Discount Level:\n",
      "\n",
      "----------------------------------------------------------------------\n",
      "Mean Revenue per Order at Discount Level 0.0 = 22779.259003831416\n",
      "Percent Difference between Discount Level 0.0 & N/A = 0.0\n",
      "Avg with discount: 22779.26\n",
      "Avg with no discount: 22779.26\n",
      "Effect Size: 0.0\n",
      "Relative effect size: 0.0\n",
      "----------------------------------------------------------------------\n",
      "Mean Revenue per Order at Discount Level 0.05 = 35866.08150000001\n",
      "Percent Difference between Discount Level 0.05 & N/A = 57.45060668552661\n",
      "Avg with discount: 35866.08\n",
      "Avg with no discount: 22779.26\n",
      "Effect Size: 13086.82\n",
      "Relative effect size: 0.57\n",
      "----------------------------------------------------------------------\n",
      "Mean Revenue per Order at Discount Level 0.1 = 51372.24315789474\n",
      "Percent Difference between Discount Level 0.1 & N/A = 125.52201170922224\n",
      "Avg with discount: 51372.24\n",
      "Avg with no discount: 22779.26\n",
      "Effect Size: 28592.98\n",
      "Relative effect size: 1.26\n",
      "----------------------------------------------------------------------\n",
      "Mean Revenue per Order at Discount Level 0.15 = 34798.182692307695\n",
      "Percent Difference between Discount Level 0.15 & N/A = 52.76257531667174\n",
      "Avg with discount: 34798.18\n",
      "Avg with no discount: 22779.26\n",
      "Effect Size: 12018.92\n",
      "Relative effect size: 0.53\n",
      "----------------------------------------------------------------------\n",
      "Mean Revenue per Order at Discount Level 0.2 = 23012.154666666665\n",
      "Percent Difference between Discount Level 0.2 & N/A = 1.0224022774229722\n",
      "Avg with discount: 23012.15\n",
      "Avg with no discount: 22779.26\n",
      "Effect Size: 232.9\n",
      "Relative effect size: 0.01\n",
      "----------------------------------------------------------------------\n",
      "Mean Revenue per Order at Discount Level 0.25 = 22527.94955357143\n",
      "Percent Difference between Discount Level 0.25 & N/A = -1.103238038681221\n",
      "Avg with discount: 22527.95\n",
      "Avg with no discount: 22779.26\n",
      "Effect Size: -251.31\n",
      "Relative effect size: -0.01\n",
      "----------------------------------------------------------------------\n"
     ]
    }
   ],
   "source": [
    "percent_dif_revenue(df_list)"
   ]
  },
  {
   "cell_type": "code",
   "execution_count": 134,
   "metadata": {},
   "outputs": [],
   "source": [
    "def percent_dif_revenue_for_discounts(df_list):\n",
    "    print('')\n",
    "    print(linespacer+'----------------------------------')\n",
    "    print('')\n",
    "    print('Percent Difference in Revenue between Discount Levels:')\n",
    "    print('')\n",
    "    print(linespacer+'----------------------------------')\n",
    "    for i in range(len(df_list)-1):\n",
    "        print(f'Mean Revenue per Order at Discount Level {round((i*.05),2)} = {round(df_list[i].mean(),2)}')\n",
    "        print(f'Percent Difference between Discount Level {round((i*.05),2)} and Level {round(((i*.05)+.05),2)} = {round((((df_list[i+1].mean() - df_list[i].mean())/df_list[i].mean())*100),2)}%')\n",
    "        results_printer_disc(df_list[i+1].mean(), df_list[i].mean())\n",
    "        print(linespacer+'----------------------------------')"
   ]
  },
  {
   "cell_type": "code",
   "execution_count": 135,
   "metadata": {
    "scrolled": true
   },
   "outputs": [
    {
     "name": "stdout",
     "output_type": "stream",
     "text": [
      "\n",
      "-----------------------------------------------------------------\n",
      "\n",
      "Percent Difference in Revenue between Discount Levels:\n",
      "\n",
      "-----------------------------------------------------------------\n",
      "Mean Revenue per Order at Discount Level 0.0 = 22779.26\n",
      "Percent Difference between Discount Level 0.0 and Level 0.05 = 57.45%\n",
      "Avg at current discount level: 35866.08\n",
      "Effect Size: 13086.82\n",
      "Relative effect size: 0.57\n",
      "-----------------------------------------------------------------\n",
      "Mean Revenue per Order at Discount Level 0.05 = 35866.08\n",
      "Percent Difference between Discount Level 0.05 and Level 0.1 = 43.23%\n",
      "Avg at current discount level: 51372.24\n",
      "Effect Size: 15506.16\n",
      "Relative effect size: 0.43\n",
      "-----------------------------------------------------------------\n",
      "Mean Revenue per Order at Discount Level 0.1 = 51372.24\n",
      "Percent Difference between Discount Level 0.1 and Level 0.15 = -32.26%\n",
      "Avg at current discount level: 34798.18\n",
      "Effect Size: -16574.06\n",
      "Relative effect size: -0.32\n",
      "-----------------------------------------------------------------\n",
      "Mean Revenue per Order at Discount Level 0.15 = 34798.18\n",
      "Percent Difference between Discount Level 0.15 and Level 0.2 = -33.87%\n",
      "Avg at current discount level: 23012.15\n",
      "Effect Size: -11786.03\n",
      "Relative effect size: -0.34\n",
      "-----------------------------------------------------------------\n",
      "Mean Revenue per Order at Discount Level 0.2 = 23012.15\n",
      "Percent Difference between Discount Level 0.2 and Level 0.25 = -2.1%\n",
      "Avg at current discount level: 22527.95\n",
      "Effect Size: -484.21\n",
      "Relative effect size: -0.02\n",
      "-----------------------------------------------------------------\n"
     ]
    }
   ],
   "source": [
    "percent_dif_revenue_for_discounts(df_list)"
   ]
  },
  {
   "cell_type": "code",
   "execution_count": null,
   "metadata": {},
   "outputs": [],
   "source": []
  },
  {
   "cell_type": "code",
   "execution_count": null,
   "metadata": {},
   "outputs": [],
   "source": []
  },
  {
   "cell_type": "markdown",
   "metadata": {},
   "source": [
    "## 3. Do discounts have a statistically significant effect on the number of products customers order by category? If so, at what level(s) of discount?\n",
    "*Note:  Product categories include 'Beverages', 'Condiments', 'Confections', 'Dairy Products',\n",
    "       'Grains/Cereals', 'Meat/Poultry', 'Produce', and 'Seafood'.*\n",
    "\n",
    "#### 3a. Do discounts have a statistically significant effect on the number of products customers order by category?\n",
    "* $H_{0}:$ Discounts do not have a statistically significant effect on number of products customers order by category.\n",
    "<br>\n",
    "* $H_{a}:$ Discounts either increase or decrease the number of products customers order by category.\n",
    "<br>\n",
    "* $\\alpha$ = 0.05"
   ]
  },
  {
   "cell_type": "code",
   "execution_count": null,
   "metadata": {},
   "outputs": [],
   "source": []
  },
  {
   "cell_type": "markdown",
   "metadata": {},
   "source": [
    "Maybe:\n",
    "## 4. Does discount size (in dollars) or discount percentage have a greater effect on number of orders? If so, at what level(s) of discount? "
   ]
  },
  {
   "cell_type": "code",
   "execution_count": null,
   "metadata": {},
   "outputs": [],
   "source": []
  },
  {
   "cell_type": "markdown",
   "metadata": {},
   "source": [
    "## 5. Does the product category have a statistically significant effect on order size for orders made by region? "
   ]
  },
  {
   "cell_type": "code",
   "execution_count": null,
   "metadata": {},
   "outputs": [],
   "source": []
  },
  {
   "cell_type": "markdown",
   "metadata": {},
   "source": [
    "## Not complete yet/Scratchwork:\n",
    "This looks like it is significant based on p but may need to look at welch and other stuff"
   ]
  },
  {
   "cell_type": "code",
   "execution_count": 136,
   "metadata": {},
   "outputs": [
    {
     "data": {
      "text/plain": [
       "'\\nfig, (ax, ax2) = plt.subplots(2, sharex=True, gridspec_kw={\"height_ratios\": (.15, .85)}, figsize = (18,10))\\nsns.distplot(df_discount_basic.Discount, \\n             hist=True, hist_kws={\\n                                  \"linewidth\": 2,\\n                                  \"edgecolor\" :\\'#66C2A5\\',\\n                                  \"alpha\": 0.4, \\n                                  \"color\":  \"w\",\\n                                  \"label\": \"Histogram\",\\n                                  },\\n             kde=True, kde_kws = {\\'linewidth\\': 2,\\n                                  \\'color\\': \"#FC8D62\",\\n                                  \"alpha\": 0.7,\\n                                  \\'label\\':\\'Kernel Density Estimation Plot\\'\\n                                 },\\n             fit= stats.norm, fit_kws = {\\'color\\' : \\'#8DA0CB\\',\\n                                         \\'label\\' : \\'parametric fit\\',\\n                                         \"alpha\": 0.7,\\n                                         \\'linewidth\\':3},\\n             ax=ax2)\\nax2.set_title(\\'Density Estimations\\')\\n\\nsns.boxplot(x=df_discount_basic.Discount, ax = ax,color = \\'#66C2A5\\')\\nax.set_title(\\'Box and Whiskers Plot\\')\\nax2.set(ylim=(0, 0.25))\\nplt.ylim(0, 50)\\nplt.legend(loc=\\'best\\')\\n'"
      ]
     },
     "execution_count": 136,
     "metadata": {},
     "output_type": "execute_result"
    }
   ],
   "source": [
    "# May use this for a continuous variables later\n",
    "\n",
    "'''\n",
    "fig, (ax, ax2) = plt.subplots(2, sharex=True, gridspec_kw={\"height_ratios\": (.15, .85)}, figsize = (18,10))\n",
    "sns.distplot(df_discount_basic.Discount, \n",
    "             hist=True, hist_kws={\n",
    "                                  \"linewidth\": 2,\n",
    "                                  \"edgecolor\" :'#66C2A5',\n",
    "                                  \"alpha\": 0.4, \n",
    "                                  \"color\":  \"w\",\n",
    "                                  \"label\": \"Histogram\",\n",
    "                                  },\n",
    "             kde=True, kde_kws = {'linewidth': 2,\n",
    "                                  'color': \"#FC8D62\",\n",
    "                                  \"alpha\": 0.7,\n",
    "                                  'label':'Kernel Density Estimation Plot'\n",
    "                                 },\n",
    "             fit= stats.norm, fit_kws = {'color' : '#8DA0CB',\n",
    "                                         'label' : 'parametric fit',\n",
    "                                         \"alpha\": 0.7,\n",
    "                                         'linewidth':3},\n",
    "             ax=ax2)\n",
    "ax2.set_title('Density Estimations')\n",
    "\n",
    "sns.boxplot(x=df_discount_basic.Discount, ax = ax,color = '#66C2A5')\n",
    "ax.set_title('Box and Whiskers Plot')\n",
    "ax2.set(ylim=(0, 0.25))\n",
    "plt.ylim(0, 50)\n",
    "plt.legend(loc='best')\n",
    "'''"
   ]
  },
  {
   "cell_type": "code",
   "execution_count": null,
   "metadata": {},
   "outputs": [],
   "source": []
  },
  {
   "cell_type": "code",
   "execution_count": null,
   "metadata": {},
   "outputs": [],
   "source": []
  },
  {
   "cell_type": "code",
   "execution_count": null,
   "metadata": {},
   "outputs": [],
   "source": []
  },
  {
   "cell_type": "code",
   "execution_count": null,
   "metadata": {},
   "outputs": [],
   "source": []
  },
  {
   "cell_type": "code",
   "execution_count": 137,
   "metadata": {},
   "outputs": [],
   "source": [
    "# SQL Queries I don't know what to do with yet"
   ]
  },
  {
   "cell_type": "code",
   "execution_count": 138,
   "metadata": {},
   "outputs": [
    {
     "data": {
      "text/plain": [
       "'\\ndf_discount_orders = pd.read_sql_table(\"\"\"SELECT Quantity, DiscBool Count(*) as DiscTrue             FROM df_discount_basic\"\"\", engine)\\ndf_discount_orders.head()\\n'"
      ]
     },
     "execution_count": 138,
     "metadata": {},
     "output_type": "execute_result"
    }
   ],
   "source": [
    "'''\n",
    "df_discount_orders = pd.read_sql_table(\"\"\"SELECT Quantity, DiscBool Count(*) as DiscTrue \\\n",
    "            FROM df_discount_basic\"\"\", engine)\n",
    "df_discount_orders.head()\n",
    "'''"
   ]
  },
  {
   "cell_type": "code",
   "execution_count": null,
   "metadata": {},
   "outputs": [],
   "source": []
  },
  {
   "cell_type": "code",
   "execution_count": null,
   "metadata": {},
   "outputs": [],
   "source": []
  },
  {
   "cell_type": "code",
   "execution_count": null,
   "metadata": {},
   "outputs": [],
   "source": []
  },
  {
   "cell_type": "code",
   "execution_count": null,
   "metadata": {},
   "outputs": [],
   "source": []
  },
  {
   "cell_type": "code",
   "execution_count": 139,
   "metadata": {},
   "outputs": [
    {
     "name": "stdout",
     "output_type": "stream",
     "text": [
      "2019-06-16 18:43:57,322 INFO sqlalchemy.engine.base.Engine SELECT c.CategoryName, p.Id, od.ProductId, od.Discount, AVG(od.Discount) avg_discount, p.QuantityPerUnit, od.Quantity, Count(*) num_orders             FROM [Category] c             INNER JOIN Product p on c.Id = p.Id             INNER JOIN OrderDetail od on p.Id = od.ProductId\n",
      "            GROUP BY c.CategoryName             \n",
      "2019-06-16 18:43:57,323 INFO sqlalchemy.engine.base.Engine ()\n"
     ]
    },
    {
     "data": {
      "text/html": [
       "<div>\n",
       "<style scoped>\n",
       "    .dataframe tbody tr th:only-of-type {\n",
       "        vertical-align: middle;\n",
       "    }\n",
       "\n",
       "    .dataframe tbody tr th {\n",
       "        vertical-align: top;\n",
       "    }\n",
       "\n",
       "    .dataframe thead th {\n",
       "        text-align: right;\n",
       "    }\n",
       "</style>\n",
       "<table border=\"1\" class=\"dataframe\">\n",
       "  <thead>\n",
       "    <tr style=\"text-align: right;\">\n",
       "      <th></th>\n",
       "      <th>CategoryName</th>\n",
       "      <th>Id</th>\n",
       "      <th>ProductId</th>\n",
       "      <th>Discount</th>\n",
       "      <th>avg_discount</th>\n",
       "      <th>QuantityPerUnit</th>\n",
       "      <th>Quantity</th>\n",
       "      <th>num_orders</th>\n",
       "    </tr>\n",
       "  </thead>\n",
       "  <tbody>\n",
       "    <tr>\n",
       "      <th>0</th>\n",
       "      <td>Beverages</td>\n",
       "      <td>1</td>\n",
       "      <td>1</td>\n",
       "      <td>0.15</td>\n",
       "      <td>0.077632</td>\n",
       "      <td>10 boxes x 20 bags</td>\n",
       "      <td>40</td>\n",
       "      <td>38</td>\n",
       "    </tr>\n",
       "    <tr>\n",
       "      <th>1</th>\n",
       "      <td>Condiments</td>\n",
       "      <td>2</td>\n",
       "      <td>2</td>\n",
       "      <td>0.20</td>\n",
       "      <td>0.102273</td>\n",
       "      <td>24 - 12 oz bottles</td>\n",
       "      <td>24</td>\n",
       "      <td>44</td>\n",
       "    </tr>\n",
       "    <tr>\n",
       "      <th>2</th>\n",
       "      <td>Confections</td>\n",
       "      <td>3</td>\n",
       "      <td>3</td>\n",
       "      <td>0.00</td>\n",
       "      <td>0.016667</td>\n",
       "      <td>12 - 550 ml bottles</td>\n",
       "      <td>4</td>\n",
       "      <td>12</td>\n",
       "    </tr>\n",
       "    <tr>\n",
       "      <th>3</th>\n",
       "      <td>Dairy Products</td>\n",
       "      <td>4</td>\n",
       "      <td>4</td>\n",
       "      <td>0.00</td>\n",
       "      <td>0.075000</td>\n",
       "      <td>48 - 6 oz jars</td>\n",
       "      <td>1</td>\n",
       "      <td>20</td>\n",
       "    </tr>\n",
       "    <tr>\n",
       "      <th>4</th>\n",
       "      <td>Grains/Cereals</td>\n",
       "      <td>5</td>\n",
       "      <td>5</td>\n",
       "      <td>0.25</td>\n",
       "      <td>0.075000</td>\n",
       "      <td>36 boxes</td>\n",
       "      <td>30</td>\n",
       "      <td>10</td>\n",
       "    </tr>\n",
       "    <tr>\n",
       "      <th>5</th>\n",
       "      <td>Meat/Poultry</td>\n",
       "      <td>6</td>\n",
       "      <td>6</td>\n",
       "      <td>0.02</td>\n",
       "      <td>0.030833</td>\n",
       "      <td>12 - 8 oz jars</td>\n",
       "      <td>1</td>\n",
       "      <td>12</td>\n",
       "    </tr>\n",
       "    <tr>\n",
       "      <th>6</th>\n",
       "      <td>Produce</td>\n",
       "      <td>7</td>\n",
       "      <td>7</td>\n",
       "      <td>0.05</td>\n",
       "      <td>0.027586</td>\n",
       "      <td>12 - 1 lb pkgs.</td>\n",
       "      <td>1</td>\n",
       "      <td>29</td>\n",
       "    </tr>\n",
       "    <tr>\n",
       "      <th>7</th>\n",
       "      <td>Seafood</td>\n",
       "      <td>8</td>\n",
       "      <td>8</td>\n",
       "      <td>0.10</td>\n",
       "      <td>0.065385</td>\n",
       "      <td>12 - 12 oz jars</td>\n",
       "      <td>2</td>\n",
       "      <td>13</td>\n",
       "    </tr>\n",
       "  </tbody>\n",
       "</table>\n",
       "</div>"
      ],
      "text/plain": [
       "     CategoryName  Id  ProductId  Discount  avg_discount      QuantityPerUnit  \\\n",
       "0       Beverages   1          1      0.15      0.077632   10 boxes x 20 bags   \n",
       "1      Condiments   2          2      0.20      0.102273   24 - 12 oz bottles   \n",
       "2     Confections   3          3      0.00      0.016667  12 - 550 ml bottles   \n",
       "3  Dairy Products   4          4      0.00      0.075000       48 - 6 oz jars   \n",
       "4  Grains/Cereals   5          5      0.25      0.075000             36 boxes   \n",
       "5    Meat/Poultry   6          6      0.02      0.030833       12 - 8 oz jars   \n",
       "6         Produce   7          7      0.05      0.027586      12 - 1 lb pkgs.   \n",
       "7         Seafood   8          8      0.10      0.065385      12 - 12 oz jars   \n",
       "\n",
       "   Quantity  num_orders  \n",
       "0        40          38  \n",
       "1        24          44  \n",
       "2         4          12  \n",
       "3         1          20  \n",
       "4        30          10  \n",
       "5         1          12  \n",
       "6         1          29  \n",
       "7         2          13  "
      ]
     },
     "execution_count": 139,
     "metadata": {},
     "output_type": "execute_result"
    }
   ],
   "source": [
    "q = \"\"\"SELECT c.CategoryName, p.Id, od.ProductId, od.Discount, AVG(od.Discount) avg_discount, p.QuantityPerUnit, od.Quantity, Count(*) num_orders \\\n",
    "            FROM [Category] c \\\n",
    "            INNER JOIN Product p on c.Id = p.Id \\\n",
    "            INNER JOIN OrderDetail od on p.Id = od.ProductId\n",
    "            GROUP BY c.CategoryName \\\n",
    "            \"\"\"\n",
    "df_category_grouped = pd.read_sql_query(q, engine)\n",
    "df_category_grouped.head(10)"
   ]
  },
  {
   "cell_type": "code",
   "execution_count": 140,
   "metadata": {},
   "outputs": [
    {
     "data": {
      "text/plain": [
       "0.77"
      ]
     },
     "execution_count": 140,
     "metadata": {},
     "output_type": "execute_result"
    }
   ],
   "source": [
    "sum(df_category_grouped.Discount.values)"
   ]
  },
  {
   "cell_type": "code",
   "execution_count": 141,
   "metadata": {},
   "outputs": [
    {
     "data": {
      "text/plain": [
       "8"
      ]
     },
     "execution_count": 141,
     "metadata": {},
     "output_type": "execute_result"
    }
   ],
   "source": [
    "len(df_category_grouped.Discount.values)"
   ]
  },
  {
   "cell_type": "code",
   "execution_count": 142,
   "metadata": {},
   "outputs": [
    {
     "data": {
      "text/plain": [
       "0.09625"
      ]
     },
     "execution_count": 142,
     "metadata": {},
     "output_type": "execute_result"
    }
   ],
   "source": [
    "calculate_mu(df_category_grouped.Discount)"
   ]
  },
  {
   "cell_type": "code",
   "execution_count": 143,
   "metadata": {},
   "outputs": [
    {
     "data": {
      "text/plain": [
       "'\\n# Visualize Number of Products Sold by Category\\n\\nsns.set()\\nsns.set_context(\\'notebook\\')\\nsns.set_palette(\\'colorblind\\')\\n\\n\\nsax = sns.countplot(x = \"CategoryName\", data=df_category_grouped);\\n\\nsns.scatterplot(data=df_category_grouped, x=a, y=b, legend=\\'full\\')\\n'"
      ]
     },
     "execution_count": 143,
     "metadata": {},
     "output_type": "execute_result"
    }
   ],
   "source": [
    "'''\n",
    "# Visualize Number of Products Sold by Category\n",
    "\n",
    "sns.set()\n",
    "sns.set_context('notebook')\n",
    "sns.set_palette('colorblind')\n",
    "\n",
    "\n",
    "sax = sns.countplot(x = \"CategoryName\", data=df_category_grouped);\n",
    "\n",
    "sns.scatterplot(data=df_category_grouped, x=a, y=b, legend='full')\n",
    "'''"
   ]
  },
  {
   "cell_type": "code",
   "execution_count": null,
   "metadata": {},
   "outputs": [],
   "source": []
  },
  {
   "cell_type": "code",
   "execution_count": null,
   "metadata": {},
   "outputs": [],
   "source": []
  },
  {
   "cell_type": "markdown",
   "metadata": {},
   "source": [
    "1)\n",
    "<br>\n",
    "H0: Discount affects sales evenly across all product categories\n",
    "<br>\n",
    "Ha: Discount does not affect sales evenly across all product categories\n",
    "<br>\n",
    "<br>"
   ]
  },
  {
   "cell_type": "code",
   "execution_count": null,
   "metadata": {},
   "outputs": [],
   "source": []
  },
  {
   "cell_type": "code",
   "execution_count": null,
   "metadata": {},
   "outputs": [],
   "source": []
  },
  {
   "cell_type": "code",
   "execution_count": 144,
   "metadata": {},
   "outputs": [
    {
     "data": {
      "text/plain": [
       "8"
      ]
     },
     "execution_count": 144,
     "metadata": {},
     "output_type": "execute_result"
    }
   ],
   "source": [
    "len(df_category_grouped.index)"
   ]
  },
  {
   "cell_type": "code",
   "execution_count": 145,
   "metadata": {},
   "outputs": [
    {
     "data": {
      "text/plain": [
       "RangeIndex(start=0, stop=8, step=1)"
      ]
     },
     "execution_count": 145,
     "metadata": {},
     "output_type": "execute_result"
    }
   ],
   "source": [
    "df_category_grouped.index"
   ]
  },
  {
   "cell_type": "code",
   "execution_count": 146,
   "metadata": {},
   "outputs": [
    {
     "data": {
      "text/plain": [
       "array(['Beverages', 'Condiments', 'Confections', 'Dairy Products',\n",
       "       'Grains/Cereals', 'Meat/Poultry', 'Produce', 'Seafood'],\n",
       "      dtype=object)"
      ]
     },
     "execution_count": 146,
     "metadata": {},
     "output_type": "execute_result"
    }
   ],
   "source": [
    "df_category_grouped.CategoryName.unique()"
   ]
  },
  {
   "cell_type": "code",
   "execution_count": 147,
   "metadata": {},
   "outputs": [
    {
     "data": {
      "text/html": [
       "<div>\n",
       "<style scoped>\n",
       "    .dataframe tbody tr th:only-of-type {\n",
       "        vertical-align: middle;\n",
       "    }\n",
       "\n",
       "    .dataframe tbody tr th {\n",
       "        vertical-align: top;\n",
       "    }\n",
       "\n",
       "    .dataframe thead th {\n",
       "        text-align: right;\n",
       "    }\n",
       "</style>\n",
       "<table border=\"1\" class=\"dataframe\">\n",
       "  <thead>\n",
       "    <tr style=\"text-align: right;\">\n",
       "      <th></th>\n",
       "      <th>CategoryName</th>\n",
       "      <th>Id</th>\n",
       "      <th>ProductId</th>\n",
       "      <th>Discount</th>\n",
       "      <th>avg_discount</th>\n",
       "      <th>QuantityPerUnit</th>\n",
       "      <th>Quantity</th>\n",
       "      <th>num_orders</th>\n",
       "      <th>QuantCalc</th>\n",
       "      <th>UnitQuantityOrdered</th>\n",
       "    </tr>\n",
       "  </thead>\n",
       "  <tbody>\n",
       "    <tr>\n",
       "      <th>0</th>\n",
       "      <td>Beverages</td>\n",
       "      <td>1</td>\n",
       "      <td>1</td>\n",
       "      <td>0.15</td>\n",
       "      <td>0.077632</td>\n",
       "      <td>10 boxes x 20 bags</td>\n",
       "      <td>40</td>\n",
       "      <td>38</td>\n",
       "      <td>200</td>\n",
       "      <td>7600</td>\n",
       "    </tr>\n",
       "    <tr>\n",
       "      <th>1</th>\n",
       "      <td>Condiments</td>\n",
       "      <td>2</td>\n",
       "      <td>2</td>\n",
       "      <td>0.20</td>\n",
       "      <td>0.102273</td>\n",
       "      <td>24 - 12 oz bottles</td>\n",
       "      <td>24</td>\n",
       "      <td>44</td>\n",
       "      <td>24</td>\n",
       "      <td>1056</td>\n",
       "    </tr>\n",
       "    <tr>\n",
       "      <th>2</th>\n",
       "      <td>Confections</td>\n",
       "      <td>3</td>\n",
       "      <td>3</td>\n",
       "      <td>0.00</td>\n",
       "      <td>0.016667</td>\n",
       "      <td>12 - 550 ml bottles</td>\n",
       "      <td>4</td>\n",
       "      <td>12</td>\n",
       "      <td>12</td>\n",
       "      <td>144</td>\n",
       "    </tr>\n",
       "    <tr>\n",
       "      <th>3</th>\n",
       "      <td>Dairy Products</td>\n",
       "      <td>4</td>\n",
       "      <td>4</td>\n",
       "      <td>0.00</td>\n",
       "      <td>0.075000</td>\n",
       "      <td>48 - 6 oz jars</td>\n",
       "      <td>1</td>\n",
       "      <td>20</td>\n",
       "      <td>48</td>\n",
       "      <td>960</td>\n",
       "    </tr>\n",
       "    <tr>\n",
       "      <th>4</th>\n",
       "      <td>Grains/Cereals</td>\n",
       "      <td>5</td>\n",
       "      <td>5</td>\n",
       "      <td>0.25</td>\n",
       "      <td>0.075000</td>\n",
       "      <td>36 boxes</td>\n",
       "      <td>30</td>\n",
       "      <td>10</td>\n",
       "      <td>36</td>\n",
       "      <td>360</td>\n",
       "    </tr>\n",
       "    <tr>\n",
       "      <th>5</th>\n",
       "      <td>Meat/Poultry</td>\n",
       "      <td>6</td>\n",
       "      <td>6</td>\n",
       "      <td>0.02</td>\n",
       "      <td>0.030833</td>\n",
       "      <td>12 - 8 oz jars</td>\n",
       "      <td>1</td>\n",
       "      <td>12</td>\n",
       "      <td>12</td>\n",
       "      <td>144</td>\n",
       "    </tr>\n",
       "    <tr>\n",
       "      <th>6</th>\n",
       "      <td>Produce</td>\n",
       "      <td>7</td>\n",
       "      <td>7</td>\n",
       "      <td>0.05</td>\n",
       "      <td>0.027586</td>\n",
       "      <td>12 - 1 lb pkgs.</td>\n",
       "      <td>1</td>\n",
       "      <td>29</td>\n",
       "      <td>12</td>\n",
       "      <td>348</td>\n",
       "    </tr>\n",
       "    <tr>\n",
       "      <th>7</th>\n",
       "      <td>Seafood</td>\n",
       "      <td>8</td>\n",
       "      <td>8</td>\n",
       "      <td>0.10</td>\n",
       "      <td>0.065385</td>\n",
       "      <td>12 - 12 oz jars</td>\n",
       "      <td>2</td>\n",
       "      <td>13</td>\n",
       "      <td>12</td>\n",
       "      <td>156</td>\n",
       "    </tr>\n",
       "  </tbody>\n",
       "</table>\n",
       "</div>"
      ],
      "text/plain": [
       "     CategoryName  Id  ProductId  Discount  avg_discount      QuantityPerUnit  \\\n",
       "0       Beverages   1          1      0.15      0.077632   10 boxes x 20 bags   \n",
       "1      Condiments   2          2      0.20      0.102273   24 - 12 oz bottles   \n",
       "2     Confections   3          3      0.00      0.016667  12 - 550 ml bottles   \n",
       "3  Dairy Products   4          4      0.00      0.075000       48 - 6 oz jars   \n",
       "4  Grains/Cereals   5          5      0.25      0.075000             36 boxes   \n",
       "5    Meat/Poultry   6          6      0.02      0.030833       12 - 8 oz jars   \n",
       "6         Produce   7          7      0.05      0.027586      12 - 1 lb pkgs.   \n",
       "7         Seafood   8          8      0.10      0.065385      12 - 12 oz jars   \n",
       "\n",
       "   Quantity  num_orders  QuantCalc  UnitQuantityOrdered  \n",
       "0        40          38        200                 7600  \n",
       "1        24          44         24                 1056  \n",
       "2         4          12         12                  144  \n",
       "3         1          20         48                  960  \n",
       "4        30          10         36                  360  \n",
       "5         1          12         12                  144  \n",
       "6         1          29         12                  348  \n",
       "7         2          13         12                  156  "
      ]
     },
     "execution_count": 147,
     "metadata": {},
     "output_type": "execute_result"
    }
   ],
   "source": [
    "df_category_grouped['QuantCalc'] = [200, 24, 12, 48, 36, 12, 12, 12]\n",
    "df_category_grouped['UnitQuantityOrdered'] = df_category_grouped.num_orders * df_category_grouped.QuantCalc\n",
    "df_category_grouped.head(10)"
   ]
  },
  {
   "cell_type": "code",
   "execution_count": 148,
   "metadata": {},
   "outputs": [
    {
     "data": {
      "text/plain": [
       "(array([0.15, 0.2 , 0.  , 0.  , 0.25, 0.02, 0.05, 0.1 ]),\n",
       " array([7600, 1056,  144,  960,  360,  144,  348,  156]))"
      ]
     },
     "execution_count": 148,
     "metadata": {},
     "output_type": "execute_result"
    }
   ],
   "source": [
    "a,b = np.array(df_category_grouped.Discount), np.array(df_category_grouped.UnitQuantityOrdered)\n",
    "a, b"
   ]
  },
  {
   "cell_type": "code",
   "execution_count": 149,
   "metadata": {},
   "outputs": [
    {
     "data": {
      "text/plain": [
       "<matplotlib.axes._subplots.AxesSubplot at 0x1c183f0240>"
      ]
     },
     "execution_count": 149,
     "metadata": {},
     "output_type": "execute_result"
    },
    {
     "data": {
      "image/png": "[encoded data removed]",
      "text/plain": [
       "<Figure size 720x360 with 1 Axes>"
      ]
     },
     "metadata": {},
     "output_type": "display_data"
    }
   ],
   "source": [
    "df_category_grouped.Discount.hist()"
   ]
  },
  {
   "cell_type": "code",
   "execution_count": 150,
   "metadata": {},
   "outputs": [
    {
     "data": {
      "text/plain": [
       "<matplotlib.axes._subplots.AxesSubplot at 0x1c17c3a668>"
      ]
     },
     "execution_count": 150,
     "metadata": {},
     "output_type": "execute_result"
    },
    {
     "data": {
      "image/png": "[encoded data removed]",
      "text/plain": [
       "<Figure size 720x360 with 1 Axes>"
      ]
     },
     "metadata": {},
     "output_type": "display_data"
    }
   ],
   "source": [
    "df_category_grouped.UnitQuantityOrdered.hist()"
   ]
  },
  {
   "cell_type": "code",
   "execution_count": 151,
   "metadata": {},
   "outputs": [],
   "source": [
    "Category, Customer, CustomerCustomerDemo, CustomerDemographic, Employee, \\\n",
    "    EmployeeTerritory, Order, OrderDetail, Product, Region, Shipper, \\\n",
    "    Supplier, Territory = Base.classes.Category, Base.classes.Customer, \\\n",
    "    Base.classes.CustomerCustomerDemo, Base.classes.CustomerDemographic, \\\n",
    "    Base.classes.Employee, Base.classes.EmployeeTerritory, Base.classes.Order, \\\n",
    "    Base.classes.OrderDetail, Base.classes.Product, Base.classes.Region, \\\n",
    "    Base.classes.Shipper, Base.classes.Supplier, Base.classes.Territory"
   ]
  },
  {
   "cell_type": "code",
   "execution_count": 152,
   "metadata": {},
   "outputs": [
    {
     "data": {
      "text/plain": [
       "(sqlalchemy.ext.automap.Category, sqlalchemy.ext.automap.Customer)"
      ]
     },
     "execution_count": 152,
     "metadata": {},
     "output_type": "execute_result"
    }
   ],
   "source": [
    "Category, Customer"
   ]
  },
  {
   "cell_type": "code",
   "execution_count": 153,
   "metadata": {},
   "outputs": [
    {
     "name": "stdout",
     "output_type": "stream",
     "text": [
      "2019-06-16 18:43:57,773 INFO sqlalchemy.engine.base.Engine BEGIN (implicit)\n",
      "2019-06-16 18:43:57,775 INFO sqlalchemy.engine.base.Engine SELECT \"Product\".\"Id\" AS \"Product_Id\", \"Product\".\"ProductName\" AS \"Product_ProductName\", \"Product\".\"SupplierId\" AS \"Product_SupplierId\", \"Product\".\"CategoryId\" AS \"Product_CategoryId\", \"Product\".\"QuantityPerUnit\" AS \"Product_QuantityPerUnit\", \"Product\".\"UnitPrice\" AS \"Product_UnitPrice\", \"Product\".\"UnitsInStock\" AS \"Product_UnitsInStock\", \"Product\".\"UnitsOnOrder\" AS \"Product_UnitsOnOrder\", \"Product\".\"ReorderLevel\" AS \"Product_ReorderLevel\", \"Product\".\"Discontinued\" AS \"Product_Discontinued\", \"Category\".\"Id\" AS \"Category_Id\", \"Category\".\"CategoryName\" AS \"Category_CategoryName\", \"Category\".\"Description\" AS \"Category_Description\" \n",
      "FROM \"Product\", \"Category\" \n",
      "WHERE \"Product\".\"CategoryId\" = \"Category\".\"Id\"\n",
      "2019-06-16 18:43:57,775 INFO sqlalchemy.engine.base.Engine ()\n",
      "Product Name: Chai\n",
      " Category Name: Beverages\n",
      "Product Name: Chang\n",
      " Category Name: Beverages\n",
      "Product Name: Aniseed Syrup\n",
      " Category Name: Condiments\n",
      "Product Name: Chef Anton's Cajun Seasoning\n",
      " Category Name: Condiments\n",
      "Product Name: Chef Anton's Gumbo Mix\n",
      " Category Name: Condiments\n",
      "Product Name: Grandma's Boysenberry Spread\n",
      " Category Name: Condiments\n",
      "Product Name: Uncle Bob's Organic Dried Pears\n",
      " Category Name: Produce\n",
      "Product Name: Northwoods Cranberry Sauce\n",
      " Category Name: Condiments\n",
      "Product Name: Mishi Kobe Niku\n",
      " Category Name: Meat/Poultry\n",
      "Product Name: Ikura\n",
      " Category Name: Seafood\n",
      "Product Name: Queso Cabrales\n",
      " Category Name: Dairy Products\n",
      "Product Name: Queso Manchego La Pastora\n",
      " Category Name: Dairy Products\n",
      "Product Name: Konbu\n",
      " Category Name: Seafood\n",
      "Product Name: Tofu\n",
      " Category Name: Produce\n",
      "Product Name: Genen Shouyu\n",
      " Category Name: Condiments\n",
      "Product Name: Pavlova\n",
      " Category Name: Confections\n",
      "Product Name: Alice Mutton\n",
      " Category Name: Meat/Poultry\n",
      "Product Name: Carnarvon Tigers\n",
      " Category Name: Seafood\n",
      "Product Name: Teatime Chocolate Biscuits\n",
      " Category Name: Confections\n",
      "Product Name: Sir Rodney's Marmalade\n",
      " Category Name: Confections\n",
      "Product Name: Sir Rodney's Scones\n",
      " Category Name: Confections\n",
      "Product Name: Gustaf's Knäckebröd\n",
      " Category Name: Grains/Cereals\n",
      "Product Name: Tunnbröd\n",
      " Category Name: Grains/Cereals\n",
      "Product Name: Guaraná Fantástica\n",
      " Category Name: Beverages\n",
      "Product Name: NuNuCa Nuß-Nougat-Creme\n",
      " Category Name: Confections\n",
      "Product Name: Gumbär Gummibärchen\n",
      " Category Name: Confections\n",
      "Product Name: Schoggi Schokolade\n",
      " Category Name: Confections\n",
      "Product Name: Rössle Sauerkraut\n",
      " Category Name: Produce\n",
      "Product Name: Thüringer Rostbratwurst\n",
      " Category Name: Meat/Poultry\n",
      "Product Name: Nord-Ost Matjeshering\n",
      " Category Name: Seafood\n",
      "Product Name: Gorgonzola Telino\n",
      " Category Name: Dairy Products\n",
      "Product Name: Mascarpone Fabioli\n",
      " Category Name: Dairy Products\n",
      "Product Name: Geitost\n",
      " Category Name: Dairy Products\n",
      "Product Name: Sasquatch Ale\n",
      " Category Name: Beverages\n",
      "Product Name: Steeleye Stout\n",
      " Category Name: Beverages\n",
      "Product Name: Inlagd Sill\n",
      " Category Name: Seafood\n",
      "Product Name: Gravad lax\n",
      " Category Name: Seafood\n",
      "Product Name: Côte de Blaye\n",
      " Category Name: Beverages\n",
      "Product Name: Chartreuse verte\n",
      " Category Name: Beverages\n",
      "Product Name: Boston Crab Meat\n",
      " Category Name: Seafood\n",
      "Product Name: Jack's New England Clam Chowder\n",
      " Category Name: Seafood\n",
      "Product Name: Singaporean Hokkien Fried Mee\n",
      " Category Name: Grains/Cereals\n",
      "Product Name: Ipoh Coffee\n",
      " Category Name: Beverages\n",
      "Product Name: Gula Malacca\n",
      " Category Name: Condiments\n",
      "Product Name: Rogede sild\n",
      " Category Name: Seafood\n",
      "Product Name: Spegesild\n",
      " Category Name: Seafood\n",
      "Product Name: Zaanse koeken\n",
      " Category Name: Confections\n",
      "Product Name: Chocolade\n",
      " Category Name: Confections\n",
      "Product Name: Maxilaku\n",
      " Category Name: Confections\n",
      "Product Name: Valkoinen suklaa\n",
      " Category Name: Confections\n",
      "Product Name: Manjimup Dried Apples\n",
      " Category Name: Produce\n",
      "Product Name: Filo Mix\n",
      " Category Name: Grains/Cereals\n",
      "Product Name: Perth Pasties\n",
      " Category Name: Meat/Poultry\n",
      "Product Name: Tourtière\n",
      " Category Name: Meat/Poultry\n",
      "Product Name: Pâté chinois\n",
      " Category Name: Meat/Poultry\n",
      "Product Name: Gnocchi di nonna Alice\n",
      " Category Name: Grains/Cereals\n",
      "Product Name: Ravioli Angelo\n",
      " Category Name: Grains/Cereals\n",
      "Product Name: Escargots de Bourgogne\n",
      " Category Name: Seafood\n",
      "Product Name: Raclette Courdavault\n",
      " Category Name: Dairy Products\n",
      "Product Name: Camembert Pierrot\n",
      " Category Name: Dairy Products\n",
      "Product Name: Sirop d'érable\n",
      " Category Name: Condiments\n",
      "Product Name: Tarte au sucre\n",
      " Category Name: Confections\n",
      "Product Name: Vegie-spread\n",
      " Category Name: Condiments\n",
      "Product Name: Wimmers gute Semmelknödel\n",
      " Category Name: Grains/Cereals\n",
      "Product Name: Louisiana Fiery Hot Pepper Sauce\n",
      " Category Name: Condiments\n",
      "Product Name: Louisiana Hot Spiced Okra\n",
      " Category Name: Condiments\n",
      "Product Name: Laughing Lumberjack Lager\n",
      " Category Name: Beverages\n",
      "Product Name: Scottish Longbreads\n",
      " Category Name: Confections\n",
      "Product Name: Gudbrandsdalsost\n",
      " Category Name: Dairy Products\n",
      "Product Name: Outback Lager\n",
      " Category Name: Beverages\n",
      "Product Name: Flotemysost\n",
      " Category Name: Dairy Products\n",
      "Product Name: Mozzarella di Giovanni\n",
      " Category Name: Dairy Products\n",
      "Product Name: Röd Kaviar\n",
      " Category Name: Seafood\n",
      "Product Name: Longlife Tofu\n",
      " Category Name: Produce\n",
      "Product Name: Rhönbräu Klosterbier\n",
      " Category Name: Beverages\n",
      "Product Name: Lakkalikööri\n",
      " Category Name: Beverages\n",
      "Product Name: Original Frankfurter grüne Soße\n",
      " Category Name: Condiments\n"
     ]
    }
   ],
   "source": [
    "for prod, cat in session.query(Product, Category).filter(Product.CategoryId==Category.Id).all():\n",
    "    print(f'Product Name: {prod.ProductName}\\n Category Name: {cat.CategoryName}')"
   ]
  },
  {
   "cell_type": "code",
   "execution_count": null,
   "metadata": {},
   "outputs": [],
   "source": []
  },
  {
   "cell_type": "code",
   "execution_count": 154,
   "metadata": {},
   "outputs": [
    {
     "data": {
      "text/plain": [
       "'\\ndf_discounts = pd.read_sql_query(\"\"\"SELECT o.OrderId, o.UnitPrice, o.Discount, o.Quantity, p.QuantityPerUnit FROM [OrderDetail] o                     INNER JOIN Product p on o.ProductId = p.ID\\n                    GROUP BY o.OrderId;\"\"\", engine)\\n\\ndf_discounts.head(50)\\n'"
      ]
     },
     "execution_count": 154,
     "metadata": {},
     "output_type": "execute_result"
    }
   ],
   "source": [
    "'''\n",
    "df_discounts = pd.read_sql_query(\"\"\"SELECT o.OrderId, o.UnitPrice, o.Discount, o.Quantity, p.QuantityPerUnit FROM [OrderDetail] o \\\n",
    "                    INNER JOIN Product p on o.ProductId = p.ID\n",
    "                    GROUP BY o.OrderId;\"\"\", engine)\n",
    "\n",
    "df_discounts.head(50)\n",
    "'''"
   ]
  },
  {
   "cell_type": "code",
   "execution_count": 155,
   "metadata": {},
   "outputs": [
    {
     "data": {
      "text/plain": [
       "'\\nx = df_discounts.Discount.values\\ny = df_discounts.UnitsOnOrder.values\\nfor value in x:\\n    pairs = []\\n    pairs.append(zip([(x[value], y[value])]))\\n'"
      ]
     },
     "execution_count": 155,
     "metadata": {},
     "output_type": "execute_result"
    }
   ],
   "source": [
    "'''\n",
    "x = df_discounts.Discount.values\n",
    "y = df_discounts.UnitsOnOrder.values\n",
    "for value in x:\n",
    "    pairs = []\n",
    "    pairs.append(zip([(x[value], y[value])]))\n",
    "'''    "
   ]
  },
  {
   "cell_type": "code",
   "execution_count": 156,
   "metadata": {},
   "outputs": [
    {
     "name": "stdout",
     "output_type": "stream",
     "text": [
      "2019-06-16 18:43:57,804 INFO sqlalchemy.engine.base.Engine SELECT o.ID, c.CompanyName, Count(*) num_orders\n",
      "            FROM [Order] o INNER JOIN Customer c on o.CustomerID = c.ID GROUP BY\n",
      "            c.CompanyName ORDER BY num_orders DESC;\n",
      "2019-06-16 18:43:57,805 INFO sqlalchemy.engine.base.Engine ()\n"
     ]
    },
    {
     "data": {
      "text/html": [
       "<div>\n",
       "<style scoped>\n",
       "    .dataframe tbody tr th:only-of-type {\n",
       "        vertical-align: middle;\n",
       "    }\n",
       "\n",
       "    .dataframe tbody tr th {\n",
       "        vertical-align: top;\n",
       "    }\n",
       "\n",
       "    .dataframe thead th {\n",
       "        text-align: right;\n",
       "    }\n",
       "</style>\n",
       "<table border=\"1\" class=\"dataframe\">\n",
       "  <thead>\n",
       "    <tr style=\"text-align: right;\">\n",
       "      <th></th>\n",
       "      <th>Id</th>\n",
       "      <th>CompanyName</th>\n",
       "      <th>num_orders</th>\n",
       "    </tr>\n",
       "  </thead>\n",
       "  <tbody>\n",
       "    <tr>\n",
       "      <th>0</th>\n",
       "      <td>11064</td>\n",
       "      <td>Save-a-lot Markets</td>\n",
       "      <td>31</td>\n",
       "    </tr>\n",
       "    <tr>\n",
       "      <th>1</th>\n",
       "      <td>11072</td>\n",
       "      <td>Ernst Handel</td>\n",
       "      <td>30</td>\n",
       "    </tr>\n",
       "    <tr>\n",
       "      <th>2</th>\n",
       "      <td>11021</td>\n",
       "      <td>QUICK-Stop</td>\n",
       "      <td>28</td>\n",
       "    </tr>\n",
       "    <tr>\n",
       "      <th>3</th>\n",
       "      <td>11050</td>\n",
       "      <td>Folk och fä HB</td>\n",
       "      <td>19</td>\n",
       "    </tr>\n",
       "    <tr>\n",
       "      <th>4</th>\n",
       "      <td>11063</td>\n",
       "      <td>Hungry Owl All-Night Grocers</td>\n",
       "      <td>19</td>\n",
       "    </tr>\n",
       "  </tbody>\n",
       "</table>\n",
       "</div>"
      ],
      "text/plain": [
       "      Id                   CompanyName  num_orders\n",
       "0  11064            Save-a-lot Markets          31\n",
       "1  11072                  Ernst Handel          30\n",
       "2  11021                    QUICK-Stop          28\n",
       "3  11050                Folk och fä HB          19\n",
       "4  11063  Hungry Owl All-Night Grocers          19"
      ]
     },
     "execution_count": 156,
     "metadata": {},
     "output_type": "execute_result"
    }
   ],
   "source": [
    "df = pd.read_sql_query(\"\"\"SELECT o.ID, c.CompanyName, Count(*) num_orders\n",
    "            FROM [Order] o INNER JOIN Customer c on o.CustomerID = c.ID GROUP BY\n",
    "            c.CompanyName ORDER BY num_orders DESC;\"\"\", engine)\n",
    "df.head()"
   ]
  },
  {
   "cell_type": "code",
   "execution_count": null,
   "metadata": {},
   "outputs": [],
   "source": []
  },
  {
   "cell_type": "markdown",
   "metadata": {},
   "source": [
    "Ideas:\n",
    "- Visualize num sales by product\n",
    "- Visualize num sales by category\n",
    "\n",
    "- Compare s"
   ]
  },
  {
   "cell_type": "code",
   "execution_count": null,
   "metadata": {},
   "outputs": [],
   "source": []
  },
  {
   "cell_type": "code",
   "execution_count": 157,
   "metadata": {},
   "outputs": [],
   "source": [
    "# Ignore below for now:"
   ]
  },
  {
   "cell_type": "markdown",
   "metadata": {},
   "source": [
    "'''\n",
    "len(df_category_grouped.index)\n",
    "\n",
    "df_category_grouped.index\n",
    "\n",
    "df_category_grouped['QuantCalc'] = [200, 24, 12, 48, 36, 12, 12, 12]\n",
    "df_category_grouped['UnitQuantityOrdered'] = df_category_grouped.num_orders * df_category_grouped.QuantCalc\n",
    "df_category_grouped.head(10)\n",
    "\n",
    "a,b = np.array(df_category_grouped.Discount), np.array(df_category_grouped.UnitQuantityOrdered)\n",
    "a, b\n",
    "\n",
    "df_category_grouped.Discount.hist()\n",
    "\n",
    "df_category_grouped.UnitQuantityOrdered.hist()\n",
    "\n",
    "# Calculate Population Mean:\n",
    "def calculate_mu(x):\n",
    "    d = float(sum(x.values)/len(x))\n",
    "    return (d)\n",
    "\n",
    "'''\n",
    "# Calculate Sample Means:\n",
    "def calc_sample_means(sample_size, data):\n",
    "    n = sample_size\n",
    "    \n",
    "    # Calc population mean:\n",
    "    mu = calculate_mu(data)\n",
    "    print(f'Population Mean: {mu}')\n",
    "    \n",
    "    # Generate all combinations using given sample size 'n':\n",
    "    combs = list(itertools.combinations(data, n))\n",
    "    print(f'Combinations: {combs}')\n",
    "    \n",
    "    # Calculate Sample Means\n",
    "    x_bar_list = []\n",
    "    \n",
    "    for i in range(len(combs)):\n",
    "        sum = 0\n",
    "        for j in range n:\n",
    "            key = combs[i][j]\n",
    "'''\n",
    "\n",
    "sum(df_category_grouped.Discount.values)\n",
    "\n",
    "len(df_category_grouped.Discount.values)\n",
    "\n",
    "calculate_mu(df_category_grouped.Discount)\n",
    "\n",
    "# Visualize Number of Products Sold by Category\n",
    "\n",
    "sns.set()\n",
    "sns.set_context('notebook')\n",
    "sns.set_palette('colorblind')\n",
    "\n",
    "\n",
    "sax = sns.countplot(x = \"CategoryName\", data=df_category_grouped);\n",
    "\n",
    "sns.scatterplot(data=df_category_grouped, x=a, y=b, legend='full')\n",
    "\n",
    "'''\n",
    "df = pd.read_sql_query(\"\"\"SELECT o.ID, c.CompanyName, Count(*) num_orders\n",
    "            FROM [Order] o INNER JOIN Customer c on o.CustomerID = c.ID GROUP BY\n",
    "            c.CompanyName ORDER BY num_orders DESC;\"\"\", engine)\n",
    "df.head()\n",
    "\n",
    "\n",
    "\n",
    "meta = MetaData()\n",
    "meta.reflect(bind=engine)\n",
    "users_table = meta.tables['users']\n",
    "addresses_table = meta.tables['addresses']\n",
    "\n",
    "pprint.pprint(users_table)\n",
    "\n",
    "tables\n",
    "\n",
    "metadata = MetaData()\n",
    "metadata.reflect(engine)\n",
    "\n",
    "Base = automap_base(metadata=metadata)\n",
    "Base.prepare()\n",
    "\n",
    "# This is an incomplete function to map tables to classes:\n",
    "'''\n",
    "def prepare_classes(tables):\n",
    "    class_list = []\n",
    "    for table in tables:\n",
    "        table = class_list.append('Base.classes.'+table)\n",
    "    return class_list\n",
    "bases = prepare_classes(tables)\n",
    "bases\n",
    "'''\n",
    "''''''\n",
    "Category, Customer, CustomerCustomerDemo, CustomerDemographic, Employee, \\\n",
    "    EmployeeTerritory, Order, OrderDetail, Product, Region, Shipper, \\\n",
    "    Supplier, Territory = Base.classes.Category, Base.classes.Customer, \\\n",
    "    Base.classes.CustomerCustomerDemo, Base.classes.CustomerDemographic, \\\n",
    "    Base.classes.Employee, Base.classes.EmployeeTerritory, Base.classes.Order, \\\n",
    "    Base.classes.OrderDetail, Base.classes.Product, Base.classes.Region, \\\n",
    "    Base.classes.Shipper, Base.classes.Supplier, Base.classes.Territory\n",
    "\n",
    "Category, Customer\n",
    "\n",
    "for prod, cat in session.query(Product, Category).filter(Product.CategoryId==Category.Id).all():\n",
    "    print(f'Product Name: {prod.ProductName}\\n Category Name: {cat.CategoryName}')\n"
   ]
  },
  {
   "cell_type": "code",
   "execution_count": null,
   "metadata": {},
   "outputs": [],
   "source": []
  },
  {
   "cell_type": "code",
   "execution_count": 158,
   "metadata": {},
   "outputs": [
    {
     "data": {
      "text/plain": [
       "Text(0.5, 1.1, 'Discount vs. Order Quantity')"
      ]
     },
     "execution_count": 158,
     "metadata": {},
     "output_type": "execute_result"
    },
    {
     "data": {
      "image/png": "[encoded data removed]",
      "text/plain": [
       "<Figure size 1097.77x432 with 2 Axes>"
      ]
     },
     "metadata": {},
     "output_type": "display_data"
    }
   ],
   "source": [
    "# Maybe use this maybe not:\n",
    "# Visualizing correlation between discount and order quantity:\n",
    "\n",
    "pp = sns.pairplot(df_discount_basic, kind='reg', x_vars =('DiscBool', 'Discount'), hue='Discount',\n",
    "             y_vars='Quantity', height=6, aspect=1.2, palette='Set2')\n",
    "pp = pp.fig\n",
    "fig.subplots_adjust(top=1.24, wspace=.25)\n",
    "pp.suptitle('Discount vs. Order Quantity', fontsize=15, fontweight='bold', y=1.1)"
   ]
  },
  {
   "cell_type": "code",
   "execution_count": null,
   "metadata": {},
   "outputs": [],
   "source": []
  }
 ],
 "metadata": {
  "kernelspec": {
   "display_name": "learn-env",
   "language": "python",
   "name": "learn-env"
  },
  "language_info": {
   "codemirror_mode": {
    "name": "ipython",
    "version": 3
   },
   "file_extension": ".py",
   "mimetype": "text/x-python",
   "name": "python",
   "nbconvert_exporter": "python",
   "pygments_lexer": "ipython3",
   "version": "3.6.6"
  }
 },
 "nbformat": 4,
 "nbformat_minor": 2
}
